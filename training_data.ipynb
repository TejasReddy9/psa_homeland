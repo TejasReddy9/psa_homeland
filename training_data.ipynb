{
 "cells": [
  {
   "cell_type": "heading",
   "metadata": {},
   "level": 6,
   "source": [
    "Building a preliminary deep learning model on the TSA Kaggle dataset"
   ]
  },
  {
   "cell_type": "code",
   "execution_count": 2,
   "metadata": {},
   "outputs": [],
   "source": [
    "import numpy as np\n",
    "import os\n",
    "import pandas as pd"
   ]
  },
  {
   "cell_type": "markdown",
   "metadata": {},
   "source": [
    "The following functions were provided by the competition sponsors to read in the image headers (read_header) and image file (read_data)"
   ]
  },
  {
   "cell_type": "code",
   "execution_count": 3,
   "metadata": {},
   "outputs": [],
   "source": [
    "# From William Curkierski Kaggle Kernal 'Reading images'\n",
    "def read_header(infile):\n",
    "    \"\"\"Read image header (first 512 bytes)\n",
    "    \"\"\"\n",
    "    h = dict()\n",
    "    fid = open(infile, 'r+b')\n",
    "    h['filename'] = b''.join(np.fromfile(fid, dtype = 'S1', count = 20))\n",
    "    h['parent_filename'] = b''.join(np.fromfile(fid, dtype = 'S1', count = 20))\n",
    "    h['comments1'] = b''.join(np.fromfile(fid, dtype = 'S1', count = 80))\n",
    "    h['comments2'] = b''.join(np.fromfile(fid, dtype = 'S1', count = 80))\n",
    "    h['energy_type'] = np.fromfile(fid, dtype = np.int16, count = 1)\n",
    "    h['config_type'] = np.fromfile(fid, dtype = np.int16, count = 1)\n",
    "    h['file_type'] = np.fromfile(fid, dtype = np.int16, count = 1)\n",
    "    h['trans_type'] = np.fromfile(fid, dtype = np.int16, count = 1)\n",
    "    h['scan_type'] = np.fromfile(fid, dtype = np.int16, count = 1)\n",
    "    h['data_type'] = np.fromfile(fid, dtype = np.int16, count = 1)\n",
    "    h['date_modified'] = b''.join(np.fromfile(fid, dtype = 'S1', count = 16))\n",
    "    h['frequency'] = np.fromfile(fid, dtype = np.float32, count = 1)\n",
    "    h['mat_velocity'] = np.fromfile(fid, dtype = np.float32, count = 1)\n",
    "    h['num_pts'] = np.fromfile(fid, dtype = np.int32, count = 1)\n",
    "    h['num_polarization_channels'] = np.fromfile(fid, dtype = np.int16, count = 1)\n",
    "    h['spare00'] = np.fromfile(fid, dtype = np.int16, count = 1)\n",
    "    h['adc_min_voltage'] = np.fromfile(fid, dtype = np.float32, count = 1)\n",
    "    h['adc_max_voltage'] = np.fromfile(fid, dtype = np.float32, count = 1)\n",
    "    h['band_width'] = np.fromfile(fid, dtype = np.float32, count = 1)\n",
    "    h['spare01'] = np.fromfile(fid, dtype = np.int16, count = 5)\n",
    "    h['polarization_type'] = np.fromfile(fid, dtype = np.int16, count = 4)\n",
    "    h['record_header_size'] = np.fromfile(fid, dtype = np.int16, count = 1)\n",
    "    h['word_type'] = np.fromfile(fid, dtype = np.int16, count = 1)\n",
    "    h['word_precision'] = np.fromfile(fid, dtype = np.int16, count = 1)\n",
    "    h['min_data_value'] = np.fromfile(fid, dtype = np.float32, count = 1)\n",
    "    h['max_data_value'] = np.fromfile(fid, dtype = np.float32, count = 1)\n",
    "    h['avg_data_value'] = np.fromfile(fid, dtype = np.float32, count = 1)\n",
    "    h['data_scale_factor'] = np.fromfile(fid, dtype = np.float32, count = 1)\n",
    "    h['data_units'] = np.fromfile(fid, dtype = np.int16, count = 1)\n",
    "    h['surf_removal'] = np.fromfile(fid, dtype = np.uint16, count = 1)\n",
    "    h['edge_weighting'] = np.fromfile(fid, dtype = np.uint16, count = 1)\n",
    "    h['x_units'] = np.fromfile(fid, dtype = np.uint16, count = 1)\n",
    "    h['y_units'] = np.fromfile(fid, dtype = np.uint16, count = 1)\n",
    "    h['z_units'] = np.fromfile(fid, dtype = np.uint16, count = 1)\n",
    "    h['t_units'] = np.fromfile(fid, dtype = np.uint16, count = 1)\n",
    "    h['spare02'] = np.fromfile(fid, dtype = np.int16, count = 1)\n",
    "    h['x_return_speed'] = np.fromfile(fid, dtype = np.float32, count = 1)\n",
    "    h['y_return_speed'] = np.fromfile(fid, dtype = np.float32, count = 1)\n",
    "    h['z_return_speed'] = np.fromfile(fid, dtype = np.float32, count = 1)\n",
    "    h['scan_orientation'] = np.fromfile(fid, dtype = np.int16, count = 1)\n",
    "    h['scan_direction'] = np.fromfile(fid, dtype = np.int16, count = 1)\n",
    "    h['data_storage_order'] = np.fromfile(fid, dtype = np.int16, count = 1)\n",
    "    h['scanner_type'] = np.fromfile(fid, dtype = np.int16, count = 1)\n",
    "    h['x_inc'] = np.fromfile(fid, dtype = np.float32, count = 1)\n",
    "    h['y_inc'] = np.fromfile(fid, dtype = np.float32, count = 1)\n",
    "    h['z_inc'] = np.fromfile(fid, dtype = np.float32, count = 1)\n",
    "    h['t_inc'] = np.fromfile(fid, dtype = np.float32, count = 1)\n",
    "    h['num_x_pts'] = np.fromfile(fid, dtype = np.int32, count = 1)\n",
    "    h['num_y_pts'] = np.fromfile(fid, dtype = np.int32, count = 1)\n",
    "    h['num_z_pts'] = np.fromfile(fid, dtype = np.int32, count = 1)\n",
    "    h['num_t_pts'] = np.fromfile(fid, dtype = np.int32, count = 1)\n",
    "    h['x_speed'] = np.fromfile(fid, dtype = np.float32, count = 1)\n",
    "    h['y_speed'] = np.fromfile(fid, dtype = np.float32, count = 1)\n",
    "    h['z_speed'] = np.fromfile(fid, dtype = np.float32, count = 1)\n",
    "    h['x_acc'] = np.fromfile(fid, dtype = np.float32, count = 1)\n",
    "    h['y_acc'] = np.fromfile(fid, dtype = np.float32, count = 1)\n",
    "    h['z_acc'] = np.fromfile(fid, dtype = np.float32, count = 1)\n",
    "    h['x_motor_res'] = np.fromfile(fid, dtype = np.float32, count = 1)\n",
    "    h['y_motor_res'] = np.fromfile(fid, dtype = np.float32, count = 1)\n",
    "    h['z_motor_res'] = np.fromfile(fid, dtype = np.float32, count = 1)\n",
    "    h['x_encoder_res'] = np.fromfile(fid, dtype = np.float32, count = 1)\n",
    "    h['y_encoder_res'] = np.fromfile(fid, dtype = np.float32, count = 1)\n",
    "    h['z_encoder_res'] = np.fromfile(fid, dtype = np.float32, count = 1)\n",
    "    h['date_processed'] = b''.join(np.fromfile(fid, dtype = 'S1', count = 8))\n",
    "    h['time_processed'] = b''.join(np.fromfile(fid, dtype = 'S1', count = 8))\n",
    "    h['depth_recon'] = np.fromfile(fid, dtype = np.float32, count = 1)\n",
    "    h['x_max_travel'] = np.fromfile(fid, dtype = np.float32, count = 1)\n",
    "    h['y_max_travel'] = np.fromfile(fid, dtype = np.float32, count = 1)\n",
    "    h['elevation_offset_angle'] = np.fromfile(fid, dtype = np.float32, count = 1)\n",
    "    h['roll_offset_angle'] = np.fromfile(fid, dtype = np.float32, count = 1)\n",
    "    h['z_max_travel'] = np.fromfile(fid, dtype = np.float32, count = 1)\n",
    "    h['azimuth_offset_angle'] = np.fromfile(fid, dtype = np.float32, count = 1)\n",
    "    h['adc_type'] = np.fromfile(fid, dtype = np.int16, count = 1)\n",
    "    h['spare06'] = np.fromfile(fid, dtype = np.int16, count = 1)\n",
    "    h['scanner_radius'] = np.fromfile(fid, dtype = np.float32, count = 1)\n",
    "    h['x_offset'] = np.fromfile(fid, dtype = np.float32, count = 1)\n",
    "    h['y_offset'] = np.fromfile(fid, dtype = np.float32, count = 1)\n",
    "    h['z_offset'] = np.fromfile(fid, dtype = np.float32, count = 1)\n",
    "    h['t_delay'] = np.fromfile(fid, dtype = np.float32, count = 1)\n",
    "    h['range_gate_start'] = np.fromfile(fid, dtype = np.float32, count = 1)\n",
    "    h['range_gate_end'] = np.fromfile(fid, dtype = np.float32, count = 1)\n",
    "    h['ahis_software_version'] = np.fromfile(fid, dtype = np.float32, count = 1)\n",
    "    h['spare_end'] = np.fromfile(fid, dtype = np.float32, count = 10)\n",
    "    return h"
   ]
  },
  {
   "cell_type": "code",
   "execution_count": 4,
   "metadata": {},
   "outputs": [],
   "source": [
    "# From William Curkierski Kaggle Kernal 'Reading images'\n",
    "def read_data(infile):\n",
    "    \"\"\"Read any of the 4 types of image files, returns a numpy array of the image contents\n",
    "    \"\"\"\n",
    "    extension = os.path.splitext(infile)[1]\n",
    "    h = read_header(infile)\n",
    "    nx = int(h['num_x_pts'])\n",
    "    ny = int(h['num_y_pts'])\n",
    "    nt = int(h['num_t_pts'])\n",
    "    fid = open(infile, 'rb')\n",
    "    fid.seek(512) #skip header\n",
    "    if extension == '.aps' or extension == '.a3daps':\n",
    "        if(h['word_type']==7): #float32\n",
    "            data = np.fromfile(fid, dtype = np.float32, count = nx * ny * nt)\n",
    "        elif(h['word_type']==4): #uint16\n",
    "            data = np.fromfile(fid, dtype = np.uint16, count = nx * ny * nt)\n",
    "        data = data * h['data_scale_factor'] #scaling factor\n",
    "        data = data.reshape(nx, ny, nt, order='F').copy() #make N-d image\n",
    "    elif extension == '.a3d':\n",
    "        if(h['word_type']==7): #float32\n",
    "            data = np.fromfile(fid, dtype = np.float32, count = nx * ny * nt)\n",
    "        elif(h['word_type']==4): #uint16\n",
    "            data = np.fromfile(fid, dtype = np.uint16, count = nx * ny * nt)\n",
    "        data = data * h['data_scale_factor'] #scaling factor\n",
    "        data = data.reshape(nx, nt, ny, order='F').copy() #make N-d image\n",
    "    elif extension == '.ahi':\n",
    "        data = np.fromfile(fid, dtype = np.float32, count = 2* nx * ny * nt)\n",
    "        data = data.reshape(2, ny, nx, nt, order='F').copy()\n",
    "        real = data[0,:,:,:].copy()\n",
    "        imag = data[1,:,:,:].copy()\n",
    "    fid.close()\n",
    "    if extension != '.ahi':\n",
    "        return data\n",
    "    else:\n",
    "        return real, imag"
   ]
  },
  {
   "cell_type": "markdown",
   "metadata": {},
   "source": [
    "Read in one example file to see what the data looks like and dimensions of the array"
   ]
  },
  {
   "cell_type": "code",
   "execution_count": 5,
   "metadata": {},
   "outputs": [
    {
     "data": {
      "text/plain": [
       "array([[[  4.50447942e-06,   5.27616339e-06,   4.68394092e-06, ...,\n           5.06080960e-06,   5.04286345e-06,   4.84545626e-06],\n        [  4.88134810e-06,   4.66599477e-06,   5.61713978e-06, ...,\n           4.73777936e-06,   6.47855404e-06,   4.77367166e-06],\n        [  4.61215632e-06,   6.60417709e-06,   5.16848650e-06, ...,\n           4.07377229e-06,   5.68892438e-06,   5.25821724e-06],\n        ..., \n        [  4.75572551e-06,   3.71484953e-06,   5.09670190e-06, ...,\n           3.84047235e-06,   4.23528763e-06,   5.15054035e-06],\n        [  4.82751011e-06,   3.67895746e-06,   5.07875575e-06, ...,\n           3.80458027e-06,   4.01993384e-06,   4.09171844e-06],\n        [  4.03787999e-06,   4.10966459e-06,   4.64804862e-06, ...,\n           4.34296408e-06,   4.37885637e-06,   4.16350304e-06]],\n\n       [[  4.73777936e-06,   4.59421017e-06,   4.71983321e-06, ...,\n           5.83249357e-06,   7.44764520e-06,   5.92222386e-06],\n        [  4.63010247e-06,   4.77367166e-06,   5.90427771e-06, ...,\n           5.43767828e-06,   8.48852142e-06,   5.83249357e-06],\n        [  3.80458027e-06,   5.52740903e-06,   5.40178598e-06, ...,\n           4.73777936e-06,   6.51444634e-06,   6.51444634e-06],\n        ..., \n        [  4.48653327e-06,   4.37885637e-06,   5.49151673e-06, ...,\n           4.66599477e-06,   4.43269482e-06,   4.21734148e-06],\n        [  4.55831787e-06,   5.63508593e-06,   4.28912608e-06, ...,\n           4.97107885e-06,   4.09171844e-06,   4.19939533e-06],\n        [  4.48653327e-06,   4.21734148e-06,   4.71983321e-06, ...,\n           4.70188706e-06,   5.63508593e-06,   5.02491730e-06]],\n\n       [[  5.15054035e-06,   5.06080960e-06,   5.31205569e-06, ...,\n           4.68394092e-06,   6.69390784e-06,   4.95313270e-06],\n        [  5.50946288e-06,   5.36589368e-06,   6.40676944e-06, ...,\n           4.70188706e-06,   5.94017001e-06,   5.72481667e-06],\n        [  5.13259420e-06,   5.49151673e-06,   5.83249357e-06, ...,\n           4.54037172e-06,   6.56828479e-06,   6.47855404e-06],\n        ..., \n        [  5.02491730e-06,   4.77367166e-06,   4.37885637e-06, ...,\n           5.18643265e-06,   4.05582614e-06,   3.91225694e-06],\n        [  4.45064097e-06,   4.95313270e-06,   4.39680252e-06, ...,\n           4.46858712e-06,   5.07875575e-06,   3.93020309e-06],\n        [  4.55831787e-06,   4.30707223e-06,   4.43269482e-06, ...,\n           3.80458027e-06,   4.79161781e-06,   4.23528763e-06]],\n\n       ..., \n       [[  5.04286345e-06,   5.18643265e-06,   5.81454742e-06, ...,\n           5.72481667e-06,   6.85542318e-06,   6.44266174e-06],\n        [  4.77367166e-06,   5.94017001e-06,   6.49650019e-06, ...,\n           5.47357058e-06,   6.64006939e-06,   5.79660127e-06],\n        [  5.11464805e-06,   5.27616339e-06,   4.98902500e-06, ...,\n           5.49151673e-06,   5.52740903e-06,   6.26320070e-06],\n        ..., \n        [  4.28912608e-06,   3.64306516e-06,   5.95811616e-06, ...,\n           4.46858712e-06,   4.14555689e-06,   5.18643265e-06],\n        [  4.25323378e-06,   4.61215632e-06,   5.16848650e-06, ...,\n           5.15054035e-06,   4.27117993e-06,   4.12761074e-06],\n        [  4.34296408e-06,   4.09171844e-06,   4.70188706e-06, ...,\n           4.34296408e-06,   3.60717286e-06,   4.46858712e-06]],\n\n       [[  4.86340195e-06,   5.41973213e-06,   5.45562443e-06, ...,\n           5.59919363e-06,   6.06579306e-06,   4.19939533e-06],\n        [  4.93518655e-06,   5.47357058e-06,   5.40178598e-06, ...,\n           5.52740903e-06,   6.69390784e-06,   6.60417709e-06],\n        [  4.95313270e-06,   5.72481667e-06,   6.08373921e-06, ...,\n           5.13259420e-06,   5.38383983e-06,   5.95811616e-06],\n        ..., \n        [  4.25323378e-06,   3.78663412e-06,   4.75572551e-06, ...,\n           4.66599477e-06,   4.21734148e-06,   5.63508593e-06],\n        [  5.09670190e-06,   3.78663412e-06,   5.38383983e-06, ...,\n           4.00198769e-06,   4.89929425e-06,   4.28912608e-06],\n        [  4.75572551e-06,   4.97107885e-06,   5.06080960e-06, ...,\n           4.19939533e-06,   4.05582614e-06,   4.01993384e-06]],\n\n       [[  0.00000000e+00,   0.00000000e+00,   0.00000000e+00, ...,\n           0.00000000e+00,   0.00000000e+00,   0.00000000e+00],\n        [  0.00000000e+00,   0.00000000e+00,   0.00000000e+00, ...,\n           0.00000000e+00,   0.00000000e+00,   0.00000000e+00],\n        [  0.00000000e+00,   0.00000000e+00,   0.00000000e+00, ...,\n           0.00000000e+00,   0.00000000e+00,   0.00000000e+00],\n        ..., \n        [  0.00000000e+00,   0.00000000e+00,   0.00000000e+00, ...,\n           0.00000000e+00,   0.00000000e+00,   0.00000000e+00],\n        [  0.00000000e+00,   0.00000000e+00,   0.00000000e+00, ...,\n           0.00000000e+00,   0.00000000e+00,   0.00000000e+00],\n        [  0.00000000e+00,   0.00000000e+00,   0.00000000e+00, ...,\n           0.00000000e+00,   0.00000000e+00,   0.00000000e+00]]], dtype=float32)"
      ]
     },
     "execution_count": 5,
     "metadata": {},
     "output_type": "execute_result"
    }
   ],
   "source": [
    "a = read_data('/Users/Yvonne/Desktop/TSA_Kaggle/Z6_n30_9.18.17/stage1_aps_006ec59fa59dd80a64c85347eef810c7.aps')\n",
    "a"
   ]
  },
  {
   "cell_type": "code",
   "execution_count": 6,
   "metadata": {},
   "outputs": [
    {
     "data": {
      "text/plain": [
       "(512, 660, 16)"
      ]
     },
     "execution_count": 6,
     "metadata": {},
     "output_type": "execute_result"
    }
   ],
   "source": [
    "a.shape"
   ]
  },
  {
   "cell_type": "markdown",
   "metadata": {},
   "source": [
    "Get a sample of image files from the TSA dataset (see TSA_labels.ipynb file). Generate a list of file paths to be read in by the read_data function"
   ]
  },
  {
   "cell_type": "code",
   "execution_count": 7,
   "metadata": {},
   "outputs": [
    {
     "data": {
      "text/plain": [
       "['/Users/Yvonne/Desktop/TSA_Kaggle/Z6_n30_9.18.17/stage1_aps_00360f79fd6e02781457eda48f85da90.aps',\n '/Users/Yvonne/Desktop/TSA_Kaggle/Z6_n30_9.18.17/stage1_aps_006ec59fa59dd80a64c85347eef810c7.aps',\n '/Users/Yvonne/Desktop/TSA_Kaggle/Z6_n30_9.18.17/stage1_aps_037024e4a7122e10546ebc41859c6833.aps',\n '/Users/Yvonne/Desktop/TSA_Kaggle/Z6_n30_9.18.17/stage1_aps_06726105fabadca043737601d06415a8.aps',\n '/Users/Yvonne/Desktop/TSA_Kaggle/Z6_n30_9.18.17/stage1_aps_091cfe2e108e277d82497ee1307f424c.aps',\n '/Users/Yvonne/Desktop/TSA_Kaggle/Z6_n30_9.18.17/stage1_aps_098f5cfcf6faefd3011a94719cb03dc5.aps',\n '/Users/Yvonne/Desktop/TSA_Kaggle/Z6_n30_9.18.17/stage1_aps_0ada538288f0b62b01510b397a8acb9e.aps',\n '/Users/Yvonne/Desktop/TSA_Kaggle/Z6_n30_9.18.17/stage1_aps_0b2e8050a0c115b873563399e7c86ad6.aps',\n '/Users/Yvonne/Desktop/TSA_Kaggle/Z6_n30_9.18.17/stage1_aps_0cc6fc725d4b8818415ddc06823fce98.aps',\n '/Users/Yvonne/Desktop/TSA_Kaggle/Z6_n30_9.18.17/stage1_aps_12b19cfb1d7de04755420e90f3dbd08a.aps',\n '/Users/Yvonne/Desktop/TSA_Kaggle/Z6_n30_9.18.17/stage1_aps_130e2a40398af1cd77de5935b913f577.aps',\n '/Users/Yvonne/Desktop/TSA_Kaggle/Z6_n30_9.18.17/stage1_aps_13c13b32a6f3818169394c16eae3ea52.aps',\n '/Users/Yvonne/Desktop/TSA_Kaggle/Z6_n30_9.18.17/stage1_aps_1563ad6be3a748453494848191d5e701.aps',\n '/Users/Yvonne/Desktop/TSA_Kaggle/Z6_n30_9.18.17/stage1_aps_16eb63b55c0ab56b543fae2d988bdfcb.aps',\n '/Users/Yvonne/Desktop/TSA_Kaggle/Z6_n30_9.18.17/stage1_aps_190e91556f1e3e63fc40938bcb27d8b2.aps',\n '/Users/Yvonne/Desktop/TSA_Kaggle/Z6_n30_9.18.17/stage1_aps_19288e1c3e8faf7f3948a4e8f1848ae9.aps',\n '/Users/Yvonne/Desktop/TSA_Kaggle/Z6_n30_9.18.17/stage1_aps_1968890ac955e4cbf22edf129cd7c1da.aps',\n '/Users/Yvonne/Desktop/TSA_Kaggle/Z6_n30_9.18.17/stage1_aps_1d6744a9a8d2ae7914a1413b5eb47274.aps',\n '/Users/Yvonne/Desktop/TSA_Kaggle/Z6_n30_9.18.17/stage1_aps_1e31ad799126d4dc9a7429ea750a1b1b.aps',\n '/Users/Yvonne/Desktop/TSA_Kaggle/Z6_n30_9.18.17/stage1_aps_1eedc349bd89c6eb14f1ff73f5821e27.aps',\n '/Users/Yvonne/Desktop/TSA_Kaggle/Z6_n30_9.18.17/stage1_aps_24094a279155bfa04eb2a939eb4fcedd.aps',\n '/Users/Yvonne/Desktop/TSA_Kaggle/Z6_n30_9.18.17/stage1_aps_2a3e4e05c9fdc57f6b67fa9a1c3c808a.aps',\n '/Users/Yvonne/Desktop/TSA_Kaggle/Z6_n30_9.18.17/stage1_aps_2e10c4116a1ac35a6d800eccbf81a719.aps',\n '/Users/Yvonne/Desktop/TSA_Kaggle/Z6_n30_9.18.17/stage1_aps_2e5821e97acd99609b783e28e2195e27.aps',\n '/Users/Yvonne/Desktop/TSA_Kaggle/Z6_n30_9.18.17/stage1_aps_2fb6b8e6309e8ab92b11fed34d7c2c17.aps',\n '/Users/Yvonne/Desktop/TSA_Kaggle/Z6_n30_9.18.17/stage1_aps_2fc4b9b35bf2e764c9ce32c66646fa04.aps',\n '/Users/Yvonne/Desktop/TSA_Kaggle/Z6_n30_9.18.17/stage1_aps_33199050692069e192511f1fa62535ef.aps',\n '/Users/Yvonne/Desktop/TSA_Kaggle/Z6_n30_9.18.17/stage1_aps_33850e8b7b178368b33c2ed1603a53d2.aps',\n '/Users/Yvonne/Desktop/TSA_Kaggle/Z6_n30_9.18.17/stage1_aps_3bf17d0319d35ebb98fc8066ddedf276.aps',\n '/Users/Yvonne/Desktop/TSA_Kaggle/Z6_n30_9.18.17/stage1_aps_3dad30a81624c6e2fb064560acddf49d.aps',\n '/Users/Yvonne/Desktop/TSA_Kaggle/Z6_n30_9.18.17/stage1_aps_3dd66b02f0817f039dd0619aa1a7ef13.aps',\n '/Users/Yvonne/Desktop/TSA_Kaggle/Z6_n30_9.18.17/stage1_aps_3e5e4ede1b6a4ec767480b261336b1b5.aps',\n '/Users/Yvonne/Desktop/TSA_Kaggle/Z6_n30_9.18.17/stage1_aps_401dc40c30b9206019d61c4ed625cfce.aps',\n '/Users/Yvonne/Desktop/TSA_Kaggle/Z6_n30_9.18.17/stage1_aps_41210ff13f71ce2f3b3fd420c38a776e.aps',\n '/Users/Yvonne/Desktop/TSA_Kaggle/Z6_n30_9.18.17/stage1_aps_412d88bd9a4612b71759fa802a27f19e.aps',\n '/Users/Yvonne/Desktop/TSA_Kaggle/Z6_n30_9.18.17/stage1_aps_4164487806111c3afc30aa1fa6c1ed90.aps',\n '/Users/Yvonne/Desktop/TSA_Kaggle/Z6_n30_9.18.17/stage1_aps_4710b3962e50f2b546b2bd67f2c142fb.aps',\n '/Users/Yvonne/Desktop/TSA_Kaggle/Z6_n30_9.18.17/stage1_aps_4869f57f719b26a01dc7d196abe4f73d.aps',\n '/Users/Yvonne/Desktop/TSA_Kaggle/Z6_n30_9.18.17/stage1_aps_4fe9b79223f6a76965ec9a0dc366f467.aps',\n '/Users/Yvonne/Desktop/TSA_Kaggle/Z6_n30_9.18.17/stage1_aps_52c8235df3f0552e6c134529ca85d958.aps',\n '/Users/Yvonne/Desktop/TSA_Kaggle/Z6_n30_9.18.17/stage1_aps_5a240cb48f3ca657321efce2975051ef.aps',\n '/Users/Yvonne/Desktop/TSA_Kaggle/Z6_n30_9.18.17/stage1_aps_5aba3b7521c47aea6e2d06d80fe624b7.aps',\n '/Users/Yvonne/Desktop/TSA_Kaggle/Z6_n30_9.18.17/stage1_aps_5b126e185dddce22e294c7d3d30a3eb3.aps',\n '/Users/Yvonne/Desktop/TSA_Kaggle/Z6_n30_9.18.17/stage1_aps_5cf8530e315c981357990ad176a555e6.aps',\n '/Users/Yvonne/Desktop/TSA_Kaggle/Z6_n30_9.18.17/stage1_aps_5e20b35d769f8f6b8cb8595ed682bc45.aps',\n '/Users/Yvonne/Desktop/TSA_Kaggle/Z6_n30_9.18.17/stage1_aps_613c4740f8c1157cbe33dcc5459ff230.aps',\n '/Users/Yvonne/Desktop/TSA_Kaggle/Z6_n30_9.18.17/stage1_aps_622763356d57a821daa53e6de55c1650.aps',\n '/Users/Yvonne/Desktop/TSA_Kaggle/Z6_n30_9.18.17/stage1_aps_678074e9d3aa9ab9fec3f348002f5ca0.aps',\n '/Users/Yvonne/Desktop/TSA_Kaggle/Z6_n30_9.18.17/stage1_aps_68f5497e17d491727d0a27140fbe71cf.aps',\n '/Users/Yvonne/Desktop/TSA_Kaggle/Z6_n30_9.18.17/stage1_aps_758260238a2837b4acfaf02e05106c33.aps',\n '/Users/Yvonne/Desktop/TSA_Kaggle/Z6_n30_9.18.17/stage1_aps_7828d838474e3b54306a164d1ba6419d.aps',\n '/Users/Yvonne/Desktop/TSA_Kaggle/Z6_n30_9.18.17/stage1_aps_7dccdd373ac634e993368ba3c744ff58.aps',\n '/Users/Yvonne/Desktop/TSA_Kaggle/Z6_n30_9.18.17/stage1_aps_812879b6745485c17dc9f1f98d290fa6.aps',\n '/Users/Yvonne/Desktop/TSA_Kaggle/Z6_n30_9.18.17/stage1_aps_820f21f68db5a38bb0bbb9504ee783ac.aps',\n '/Users/Yvonne/Desktop/TSA_Kaggle/Z6_n30_9.18.17/stage1_aps_84bc03dcb73e43a4dce2848ae31fef10.aps',\n '/Users/Yvonne/Desktop/TSA_Kaggle/Z6_n30_9.18.17/stage1_aps_852259eba484999d36d69a3448e57684.aps',\n '/Users/Yvonne/Desktop/TSA_Kaggle/Z6_n30_9.18.17/stage1_aps_865aea073a3439d7fadfe2edfe1839ff.aps',\n '/Users/Yvonne/Desktop/TSA_Kaggle/Z6_n30_9.18.17/stage1_aps_87ab2075c257d92ec4bcb675b11d460f.aps',\n '/Users/Yvonne/Desktop/TSA_Kaggle/Z6_n30_9.18.17/stage1_aps_87d5cdc85a4a22b73584c91049dae5f1.aps',\n '/Users/Yvonne/Desktop/TSA_Kaggle/Z6_n30_9.18.17/stage1_aps_88f487f833ed1ee33af1f99d7135ef97.aps',\n '/Users/Yvonne/Desktop/TSA_Kaggle/Z6_n30_9.18.17/stage1_aps_8c38ef220fe105d52790b5a8a06d2366.aps',\n '/Users/Yvonne/Desktop/TSA_Kaggle/Z6_n30_9.18.17/stage1_aps_8d5861df3b346dbc595694a39152b4fd.aps',\n '/Users/Yvonne/Desktop/TSA_Kaggle/Z6_n30_9.18.17/stage1_aps_8eebb6632b702f343740a17a242d9aaa.aps',\n '/Users/Yvonne/Desktop/TSA_Kaggle/Z6_n30_9.18.17/stage1_aps_8f57485a1cf9daa97e41ec39b9b186b6.aps',\n '/Users/Yvonne/Desktop/TSA_Kaggle/Z6_n30_9.18.17/stage1_aps_91116a57f912f23c9213f29ce7a4bcd2.aps',\n '/Users/Yvonne/Desktop/TSA_Kaggle/Z6_n30_9.18.17/stage1_aps_91f725a39e079522d39050cb1c5acc99.aps',\n '/Users/Yvonne/Desktop/TSA_Kaggle/Z6_n30_9.18.17/stage1_aps_955af05d26da95acc4e7c9821989e7e0.aps',\n '/Users/Yvonne/Desktop/TSA_Kaggle/Z6_n30_9.18.17/stage1_aps_98dcd7ae27cc801d639e37441d8243c9.aps',\n '/Users/Yvonne/Desktop/TSA_Kaggle/Z6_n30_9.18.17/stage1_aps_9abe3c08d8249be9bf2c6e5d43e3444c.aps',\n '/Users/Yvonne/Desktop/TSA_Kaggle/Z6_n30_9.18.17/stage1_aps_9acef7341c7044612dac2f2fc6c65af7.aps',\n '/Users/Yvonne/Desktop/TSA_Kaggle/Z6_n30_9.18.17/stage1_aps_9dd22f1205f3e360807ca157c4887306.aps',\n '/Users/Yvonne/Desktop/TSA_Kaggle/Z6_n30_9.18.17/stage1_aps_a2cb3100986469b022639b21afd6dafa.aps',\n '/Users/Yvonne/Desktop/TSA_Kaggle/Z6_n30_9.18.17/stage1_aps_a4be369fdc0ca58701632a63efff1a12.aps',\n '/Users/Yvonne/Desktop/TSA_Kaggle/Z6_n30_9.18.17/stage1_aps_a8744e1cc5a5e5d8a592f116ac2f5cee.aps',\n '/Users/Yvonne/Desktop/TSA_Kaggle/Z6_n30_9.18.17/stage1_aps_a8a613874b31d9f7d490c3ca28b7344e.aps',\n '/Users/Yvonne/Desktop/TSA_Kaggle/Z6_n30_9.18.17/stage1_aps_aa06c0480348a145cbd15233b623b1a8.aps',\n '/Users/Yvonne/Desktop/TSA_Kaggle/Z6_n30_9.18.17/stage1_aps_aa8461488c136c46f938fe04ff370140.aps',\n '/Users/Yvonne/Desktop/TSA_Kaggle/Z6_n30_9.18.17/stage1_aps_adce87ff23a76a71cf379950008ab2a2.aps',\n '/Users/Yvonne/Desktop/TSA_Kaggle/Z6_n30_9.18.17/stage1_aps_b5ba0c5a7e2e03c8e1a56e1dab8d4d87.aps',\n '/Users/Yvonne/Desktop/TSA_Kaggle/Z6_n30_9.18.17/stage1_aps_b80c0838036a9ee68a9ec6e82ba74094.aps',\n '/Users/Yvonne/Desktop/TSA_Kaggle/Z6_n30_9.18.17/stage1_aps_b8c2ba8e0d4817153827fe65c426445e.aps',\n '/Users/Yvonne/Desktop/TSA_Kaggle/Z6_n30_9.18.17/stage1_aps_b9636ccc14f214a0a6c837e07963745f.aps',\n '/Users/Yvonne/Desktop/TSA_Kaggle/Z6_n30_9.18.17/stage1_aps_bdf491ad75838345ef41ef13503c7411.aps',\n '/Users/Yvonne/Desktop/TSA_Kaggle/Z6_n30_9.18.17/stage1_aps_bfa3b206912ed4a354889b53b790dcc6.aps',\n '/Users/Yvonne/Desktop/TSA_Kaggle/Z6_n30_9.18.17/stage1_aps_c0712c48404f63f01968e912da03cbf4.aps',\n '/Users/Yvonne/Desktop/TSA_Kaggle/Z6_n30_9.18.17/stage1_aps_c0c125567e995e4a08a13a0574b61a8c.aps',\n '/Users/Yvonne/Desktop/TSA_Kaggle/Z6_n30_9.18.17/stage1_aps_c139eec534f09d1667c0cd77d05e6495.aps',\n '/Users/Yvonne/Desktop/TSA_Kaggle/Z6_n30_9.18.17/stage1_aps_c35cbf2326d028929a56a337ed93a39b.aps',\n '/Users/Yvonne/Desktop/TSA_Kaggle/Z6_n30_9.18.17/stage1_aps_c5fbd6ce1f6b25fc39e67ad66b215ab1.aps',\n '/Users/Yvonne/Desktop/TSA_Kaggle/Z6_n30_9.18.17/stage1_aps_c67e64fd5203e870a8b372e2817ab8bf.aps',\n '/Users/Yvonne/Desktop/TSA_Kaggle/Z6_n30_9.18.17/stage1_aps_c6949c3511a554f7ace757832886d0b4.aps',\n '/Users/Yvonne/Desktop/TSA_Kaggle/Z6_n30_9.18.17/stage1_aps_ca939ec94b03c6871a62fc9c656505e7.aps',\n '/Users/Yvonne/Desktop/TSA_Kaggle/Z6_n30_9.18.17/stage1_aps_cbc5410d54d2ff5f3b3b818c9589e53c.aps',\n '/Users/Yvonne/Desktop/TSA_Kaggle/Z6_n30_9.18.17/stage1_aps_cd514daefb010f72720ab64b902d5369.aps',\n '/Users/Yvonne/Desktop/TSA_Kaggle/Z6_n30_9.18.17/stage1_aps_cdc104378c343877da1d94fcd94819fe.aps',\n '/Users/Yvonne/Desktop/TSA_Kaggle/Z6_n30_9.18.17/stage1_aps_ce658d4b38ecb750d51fd31940376122.aps',\n '/Users/Yvonne/Desktop/TSA_Kaggle/Z6_n30_9.18.17/stage1_aps_d1c0536ab4519d94147c69dcc2da27ea.aps',\n '/Users/Yvonne/Desktop/TSA_Kaggle/Z6_n30_9.18.17/stage1_aps_d3baced17960bd174bac1fe5b048098c.aps',\n '/Users/Yvonne/Desktop/TSA_Kaggle/Z6_n30_9.18.17/stage1_aps_d6ec095961ce886b907a6861d02438a1.aps',\n '/Users/Yvonne/Desktop/TSA_Kaggle/Z6_n30_9.18.17/stage1_aps_d7bba8e9f303107db7a0feab67d8e895.aps',\n '/Users/Yvonne/Desktop/TSA_Kaggle/Z6_n30_9.18.17/stage1_aps_d80f5b60a20b5903ed083d4307957639.aps',\n '/Users/Yvonne/Desktop/TSA_Kaggle/Z6_n30_9.18.17/stage1_aps_df69e0c8d983524f176fd7e36df2625b.aps',\n '/Users/Yvonne/Desktop/TSA_Kaggle/Z6_n30_9.18.17/stage1_aps_e00e3a2b4b32513eb31e203e1bb91d87.aps',\n '/Users/Yvonne/Desktop/TSA_Kaggle/Z6_n30_9.18.17/stage1_aps_e087226320cc189142228b5fb93ed58f.aps',\n '/Users/Yvonne/Desktop/TSA_Kaggle/Z6_n30_9.18.17/stage1_aps_e11196e89d40e8e964e9bfcd989703b3.aps',\n '/Users/Yvonne/Desktop/TSA_Kaggle/Z6_n30_9.18.17/stage1_aps_e3169583747cf8cceac6b06925703101.aps',\n '/Users/Yvonne/Desktop/TSA_Kaggle/Z6_n30_9.18.17/stage1_aps_e356161eeeadb1bbdeda6644e244e8fc.aps',\n '/Users/Yvonne/Desktop/TSA_Kaggle/Z6_n30_9.18.17/stage1_aps_e362c54c67d38e9d77d929bbe2889646.aps',\n '/Users/Yvonne/Desktop/TSA_Kaggle/Z6_n30_9.18.17/stage1_aps_e466360d4bb93b710f63518eab8b37b9.aps',\n '/Users/Yvonne/Desktop/TSA_Kaggle/Z6_n30_9.18.17/stage1_aps_e478268bf41b2fce4235e0638195d049.aps',\n '/Users/Yvonne/Desktop/TSA_Kaggle/Z6_n30_9.18.17/stage1_aps_e47cf897ff00ef7498e846623a8b8487.aps',\n '/Users/Yvonne/Desktop/TSA_Kaggle/Z6_n30_9.18.17/stage1_aps_e662ba904372b62421ec25027faea21d.aps',\n '/Users/Yvonne/Desktop/TSA_Kaggle/Z6_n30_9.18.17/stage1_aps_e8fcca2e33a61919fb9abf405fa73c1e.aps',\n '/Users/Yvonne/Desktop/TSA_Kaggle/Z6_n30_9.18.17/stage1_aps_e9c97bb2cf608b1f0e23f078b10502bc.aps',\n '/Users/Yvonne/Desktop/TSA_Kaggle/Z6_n30_9.18.17/stage1_aps_f97e59ce6a75340e260d950a096aea44.aps',\n '/Users/Yvonne/Desktop/TSA_Kaggle/Z6_n30_9.18.17/stage1_aps_fa53951c76acfddad1b63070836658ce.aps',\n '/Users/Yvonne/Desktop/TSA_Kaggle/Z6_n30_9.18.17/stage1_aps_faa3d6f358099ee2b091a5b87feca844.aps',\n '/Users/Yvonne/Desktop/TSA_Kaggle/Z6_n30_9.18.17/stage1_aps_fb36924fcb9efaedce231640acc08016.aps',\n '/Users/Yvonne/Desktop/TSA_Kaggle/Z6_n30_9.18.17/stage1_aps_fbb90117079e5ada773c3d3136feede4.aps',\n '/Users/Yvonne/Desktop/TSA_Kaggle/Z6_n30_9.18.17/stage1_aps_fbb97be4120941837325fb6e643035c7.aps']"
      ]
     },
     "execution_count": 7,
     "metadata": {},
     "output_type": "execute_result"
    }
   ],
   "source": [
    "z6samlist = os.listdir('/Users/Yvonne/Desktop/TSA_Kaggle/Z6_n30_9.18.17') \n",
    "z6paths = ['/Users/Yvonne/Desktop/TSA_Kaggle/Z6_n30_9.18.17/' + z6sam for z6sam in z6samlist]\n",
    "del z6paths[0]\n",
    "z6paths"
   ]
  },
  {
   "cell_type": "markdown",
   "metadata": {},
   "source": [
    "Read in the files from z6paths and stack them together into a 4D array. Element 1 of the array is the number of samples. Elements 2 and 3 are dimensions of the image. Element 4 is the number of channels."
   ]
  },
  {
   "cell_type": "code",
   "execution_count": 8,
   "metadata": {},
   "outputs": [
    {
     "data": {
      "text/plain": [
       "(120, 512, 660, 16)"
      ]
     },
     "execution_count": 8,
     "metadata": {},
     "output_type": "execute_result"
    }
   ],
   "source": [
    "arr_list = [read_data(z6path) for z6path in z6paths]\n",
    "x = np.stack(arr_list, axis=0)\n",
    "x.shape"
   ]
  },
  {
   "cell_type": "markdown",
   "metadata": {},
   "source": [
    "Use simple 0-1 scaling to scale over the entire 4D array. It's important to scale data so the deep learning model is trained accurately."
   ]
  },
  {
   "cell_type": "code",
   "execution_count": 9,
   "metadata": {},
   "outputs": [
    {
     "data": {
      "text/plain": [
       "array([[[[ 0.00386741,  0.00292414,  0.0033604 , ...,  0.00258221,\n           0.0027237 ,  0.00265295],\n         [ 0.00315996,  0.00356085,  0.00359622, ...,  0.00258221,\n           0.00238176,  0.00281802],\n         [ 0.00258221,  0.00390279,  0.00321891, ...,  0.0029713 ,\n           0.00254683,  0.00266474],\n         ..., \n         [ 0.00308921,  0.00357264,  0.00304205, ...,  0.00225206,\n           0.00249967,  0.00333682],\n         [ 0.00273549,  0.00359622,  0.0029713 , ...,  0.00252325,\n           0.0027237 ,  0.00292414],\n         [ 0.00270011,  0.00338399,  0.00268832, ...,  0.00244071,\n           0.00252325,  0.00338399]],\n\n        [[ 0.00255862,  0.00352548,  0.00353727, ...,  0.00249967,\n           0.00340757,  0.00345473],\n         [ 0.00333682,  0.00314817,  0.00346652, ...,  0.00270011,\n           0.003101  ,  0.00416218],\n         [ 0.00352548,  0.00327787,  0.00326608, ...,  0.00241713,\n           0.00281802,  0.00314817],\n         ..., \n         [ 0.00304205,  0.00280623,  0.00292414, ...,  0.00260579,\n           0.00235818,  0.00306563],\n         [ 0.00304205,  0.0031128 ,  0.00326608, ...,  0.00248788,\n           0.00275907,  0.00347831],\n         [ 0.0034901 ,  0.00261758,  0.00286519, ...,  0.00244071,\n           0.00275907,  0.00328966]],\n\n        [[ 0.00304205,  0.0032307 ,  0.00455128, ...,  0.00257041,\n           0.00462203,  0.00399711],\n         [ 0.00274728,  0.00418577,  0.00365518, ...,  0.00267653,\n           0.00319533,  0.00357264],\n         [ 0.00307742,  0.00390279,  0.00287698, ...,  0.002594  ,\n           0.002594  ,  0.00365518],\n         ..., \n         [ 0.00279444,  0.00345473,  0.00317175, ...,  0.00224027,\n           0.00203982,  0.00275907],\n         [ 0.00279444,  0.00275907,  0.00273549, ...,  0.00228743,\n           0.00305384,  0.00321891],\n         [ 0.00354906,  0.00273549,  0.00293593, ...,  0.00274728,\n           0.00295951,  0.00249967]],\n\n        ..., \n        [[ 0.00275907,  0.00284161,  0.00292414, ...,  0.00266474,\n           0.00347831,  0.00293593],\n         [ 0.00305384,  0.00326608,  0.00373771, ...,  0.00264116,\n           0.00315996,  0.00411502],\n         [ 0.00240534,  0.00306563,  0.00245251, ...,  0.00288877,\n           0.00479889,  0.00282981],\n         ..., \n         [ 0.00270011,  0.0029831 ,  0.00284161, ...,  0.00235818,\n           0.00227564,  0.00268832],\n         [ 0.00273549,  0.0028534 ,  0.00294772, ...,  0.00255862,\n           0.00225206,  0.00308921],\n         [ 0.00320712,  0.00242892,  0.00274728, ...,  0.00213415,\n           0.00282981,  0.002594  ]],\n\n        [[ 0.00292414,  0.00314817,  0.00325429, ...,  0.00267653,\n           0.00386741,  0.00257041],\n         [ 0.0029713 ,  0.00359622,  0.0033722 , ...,  0.00264116,\n           0.00319533,  0.0036198 ],\n         [ 0.00231101,  0.00294772,  0.00397353, ...,  0.00305384,\n           0.00332503,  0.00284161],\n         ..., \n         [ 0.00258221,  0.00295951,  0.00284161, ...,  0.00216952,\n           0.00236997,  0.00266474],\n         [ 0.00293593,  0.00312459,  0.00343115, ...,  0.00251146,\n           0.00295951,  0.00290056],\n         [ 0.0027237 ,  0.00383204,  0.0031128 , ...,  0.00249967,\n           0.00265295,  0.00247609]],\n\n        [[ 0.        ,  0.        ,  0.        , ...,  0.        ,\n           0.        ,  0.        ],\n         [ 0.        ,  0.        ,  0.        , ...,  0.        ,\n           0.        ,  0.        ],\n         [ 0.        ,  0.        ,  0.        , ...,  0.        ,\n           0.        ,  0.        ],\n         ..., \n         [ 0.        ,  0.        ,  0.        , ...,  0.        ,\n           0.        ,  0.        ],\n         [ 0.        ,  0.        ,  0.        , ...,  0.        ,\n           0.        ,  0.        ],\n         [ 0.        ,  0.        ,  0.        , ...,  0.        ,\n           0.        ,  0.        ]]],\n\n\n       [[[ 0.00269338,  0.0031548 ,  0.00280069, ...,  0.00302603,\n           0.0030153 ,  0.00289726],\n         [ 0.00291872,  0.00278996,  0.00335868, ...,  0.00283288,\n           0.00387375,  0.00285434],\n         [ 0.00275776,  0.00394886,  0.00309041, ...,  0.00243585,\n           0.0034016 ,  0.00314407],\n         ..., \n         [ 0.00284361,  0.00222123,  0.00304749, ...,  0.00229635,\n           0.00253242,  0.00307968],\n         [ 0.00288653,  0.00219977,  0.00303676, ...,  0.00227489,\n           0.00240365,  0.00244658],\n         [ 0.00241439,  0.00245731,  0.00277923, ...,  0.00259681,\n           0.00261827,  0.0024895 ]],\n\n        [[ 0.00283288,  0.00274703,  0.00282215, ...,  0.00348745,\n           0.0044532 ,  0.0035411 ],\n         [ 0.0027685 ,  0.00285434,  0.00353037, ...,  0.00325137,\n           0.00507557,  0.00348745],\n         [ 0.00227489,  0.00330503,  0.00322991, ...,  0.00283288,\n           0.00389521,  0.00389521],\n         ..., \n         [ 0.00268265,  0.00261827,  0.00328356, ...,  0.00278996,\n           0.00265046,  0.00252169],\n         [ 0.00272557,  0.00336941,  0.00256461, ...,  0.00297238,\n           0.00244658,  0.00251096],\n         [ 0.00268265,  0.00252169,  0.00282215, ...,  0.00281142,\n           0.00336941,  0.00300457]],\n\n        [[ 0.00307968,  0.00302603,  0.00317626, ...,  0.00280069,\n           0.00400251,  0.00296165],\n         [ 0.00329429,  0.00320845,  0.00383082, ...,  0.00281142,\n           0.00355183,  0.00342306],\n         [ 0.00306895,  0.00328356,  0.00348745, ...,  0.00271484,\n           0.0039274 ,  0.00387375],\n         ..., \n         [ 0.00300457,  0.00285434,  0.00261827, ...,  0.00310114,\n           0.00242512,  0.00233927],\n         [ 0.00266119,  0.00296165,  0.002629  , ...,  0.00267192,\n           0.00303676,  0.00235   ],\n         [ 0.00272557,  0.00257534,  0.00265046, ...,  0.00227489,\n           0.00286507,  0.00253242]],\n\n        ..., \n        [[ 0.0030153 ,  0.00310114,  0.00347671, ...,  0.00342306,\n           0.00409909,  0.00385229],\n         [ 0.00285434,  0.00355183,  0.00388448, ...,  0.00327283,\n           0.00397032,  0.00346598],\n         [ 0.00305822,  0.0031548 ,  0.00298311, ...,  0.00328356,\n           0.00330503,  0.00374498],\n         ..., \n         [ 0.00256461,  0.00217831,  0.00356256, ...,  0.00267192,\n           0.00247877,  0.00310114],\n         [ 0.00254315,  0.00275776,  0.00309041, ...,  0.00307968,\n           0.00255388,  0.00246804],\n         [ 0.00259681,  0.00244658,  0.00281142, ...,  0.00259681,\n           0.00215685,  0.00267192]],\n\n        [[ 0.00290799,  0.00324064,  0.0032621 , ...,  0.00334795,\n           0.00362694,  0.00251096],\n         [ 0.00295092,  0.00327283,  0.00322991, ...,  0.00330503,\n           0.00400251,  0.00394886],\n         [ 0.00296165,  0.00342306,  0.00363767, ...,  0.00306895,\n           0.00321918,  0.00356256],\n         ..., \n         [ 0.00254315,  0.00226416,  0.00284361, ...,  0.00278996,\n           0.00252169,  0.00336941],\n         [ 0.00304749,  0.00226416,  0.00321918, ...,  0.00239292,\n           0.00292945,  0.00256461],\n         [ 0.00284361,  0.00297238,  0.00302603, ...,  0.00251096,\n           0.00242512,  0.00240365]],\n\n        [[ 0.        ,  0.        ,  0.        , ...,  0.        ,\n           0.        ,  0.        ],\n         [ 0.        ,  0.        ,  0.        , ...,  0.        ,\n           0.        ,  0.        ],\n         [ 0.        ,  0.        ,  0.        , ...,  0.        ,\n           0.        ,  0.        ],\n         ..., \n         [ 0.        ,  0.        ,  0.        , ...,  0.        ,\n           0.        ,  0.        ],\n         [ 0.        ,  0.        ,  0.        , ...,  0.        ,\n           0.        ,  0.        ],\n         [ 0.        ,  0.        ,  0.        , ...,  0.        ,\n           0.        ,  0.        ]]],\n\n\n       [[[ 0.00314725,  0.00312428,  0.00326211, ...,  0.0030209 ,\n           0.00272226,  0.00308982],\n         [ 0.00287158,  0.00288307,  0.0040317 , ...,  0.00311279,\n           0.00334252,  0.00346887],\n         [ 0.00287158,  0.00333103,  0.00344589, ...,  0.00265334,\n           0.00338846,  0.00261888],\n         ..., \n         [ 0.00288307,  0.00264185,  0.00228578, ...,  0.00235469,\n           0.00209051,  0.00256145],\n         [ 0.00252699,  0.0025155 ,  0.00241213, ...,  0.00212497,\n           0.00236618,  0.00253848],\n         [ 0.00273374,  0.00233172,  0.00259591, ...,  0.00202159,\n           0.00236618,  0.00217091]],\n\n        [[ 0.00397426,  0.00304387,  0.00381346, ...,  0.00296347,\n           0.003354  ,  0.00297496],\n         [ 0.00361819,  0.00298644,  0.00406616, ...,  0.00317022,\n           0.00356076,  0.00274523],\n         [ 0.00274523,  0.0030209 ,  0.00372157, ...,  0.00219389,\n           0.00323914,  0.00256145],\n         ..., \n         [ 0.00256145,  0.00230875,  0.00222835, ...,  0.00252699,\n           0.00252699,  0.00286009],\n         [ 0.00242361,  0.0026878 ,  0.00238915, ...,  0.00233172,\n           0.00230875,  0.00244659],\n         [ 0.0024351 ,  0.0024351 ,  0.00229726, ...,  0.00206754,\n           0.0022628 ,  0.00236618]],\n\n        [[ 0.00339995,  0.00374454,  0.00261888, ...,  0.00250402,\n           0.00305536,  0.00240064],\n         [ 0.00343441,  0.00288307,  0.00395129, ...,  0.00254996,\n           0.00291752,  0.00273374],\n         [ 0.00284861,  0.00308982,  0.00286009, ...,  0.00233172,\n           0.00287158,  0.00283712],\n         ..., \n         [ 0.00246956,  0.00288307,  0.00359522, ...,  0.00235469,\n           0.00221686,  0.00261888],\n         [ 0.00246956,  0.00241213,  0.00240064, ...,  0.00236618,\n           0.00281415,  0.00249253],\n         [ 0.00260739,  0.00242361,  0.00228578, ...,  0.00237767,\n           0.00275672,  0.00286009]],\n\n        ..., \n        [[ 0.00274523,  0.00310131,  0.00289455, ...,  0.00317022,\n           0.00369859,  0.00263037],\n         [ 0.00342292,  0.00284861,  0.00269928, ...,  0.00277969,\n           0.00329657,  0.00230875],\n         [ 0.00320468,  0.0031932 ,  0.00317022, ...,  0.00267631,\n           0.00283712,  0.00229726],\n         ..., \n         [ 0.00310131,  0.00241213,  0.002102  , ...,  0.00230875,\n           0.00227429,  0.0024351 ],\n         [ 0.00277969,  0.00256145,  0.00235469, ...,  0.00236618,\n           0.00213645,  0.00288307],\n         [ 0.00289455,  0.00230875,  0.00237767, ...,  0.00220537,\n           0.00260739,  0.00237767]],\n\n        [[ 0.0031932 ,  0.00286009,  0.00287158, ...,  0.00296347,\n           0.00311279,  0.00280266],\n         [ 0.00314725,  0.00298644,  0.00313576, ...,  0.00284861,\n           0.00281415,  0.00292901],\n         [ 0.00357224,  0.00362968,  0.00265334, ...,  0.00212497,\n           0.00299793,  0.00287158],\n         ..., \n         [ 0.00237767,  0.00233172,  0.00230875, ...,  0.00206754,\n           0.00238915,  0.00195267],\n         [ 0.00343441,  0.00256145,  0.00254996, ...,  0.00241213,\n           0.00227429,  0.00232024],\n         [ 0.00295198,  0.00289455,  0.00265334, ...,  0.00248104,\n           0.00241213,  0.00206754]],\n\n        [[ 0.        ,  0.        ,  0.        , ...,  0.        ,\n           0.        ,  0.        ],\n         [ 0.        ,  0.        ,  0.        , ...,  0.        ,\n           0.        ,  0.        ],\n         [ 0.        ,  0.        ,  0.        , ...,  0.        ,\n           0.        ,  0.        ],\n         ..., \n         [ 0.        ,  0.        ,  0.        , ...,  0.        ,\n           0.        ,  0.        ],\n         [ 0.        ,  0.        ,  0.        , ...,  0.        ,\n           0.        ,  0.        ],\n         [ 0.        ,  0.        ,  0.        , ...,  0.        ,\n           0.        ,  0.        ]]],\n\n\n       ..., \n       [[[ 0.00250776,  0.00299245,  0.00555289, ...,  0.00330855,\n           0.00272903,  0.00309782],\n         [ 0.0026342 ,  0.00256044,  0.00653281, ...,  0.00342446,\n           0.00301352,  0.00279225],\n         [ 0.00330855,  0.00299245,  0.00626939, ...,  0.00299245,\n           0.0033507 ,  0.00289762],\n         ..., \n         [ 0.00284493,  0.00248668,  0.00211789, ...,  0.00237078,\n           0.00219165,  0.00280279],\n         [ 0.00309782,  0.00289762,  0.00206521, ...,  0.00205467,\n           0.00210736,  0.00253937],\n         [ 0.00309782,  0.00226541,  0.00198092, ...,  0.00218112,\n           0.00211789,  0.00273957]],\n\n        [[ 0.00268688,  0.00262366,  0.00418311, ...,  0.00277118,\n           0.00262366,  0.00306621],\n         [ 0.0028344 ,  0.00264473,  0.00508927, ...,  0.00266581,\n           0.00307674,  0.00241293],\n         [ 0.00280279,  0.00270795,  0.00575309, ...,  0.00316104,\n           0.00280279,  0.00298191],\n         ..., \n         [ 0.00280279,  0.00304513,  0.0022338 , ...,  0.00208628,\n           0.00202306,  0.00266581],\n         [ 0.00278171,  0.00281332,  0.00238131, ...,  0.00193877,\n           0.00208628,  0.00306621],\n         [ 0.00291869,  0.00252883,  0.00207575, ...,  0.00237078,\n           0.00220219,  0.0027501 ]],\n\n        [[ 0.00290815,  0.00267634,  0.00582684, ...,  0.00325587,\n           0.00250776,  0.00304513],\n         [ 0.00285547,  0.00388808,  0.00457297, ...,  0.00324533,\n           0.00300299,  0.002434  ],\n         [ 0.00271849,  0.00257098,  0.00520517, ...,  0.0027501 ,\n           0.00345607,  0.00288708],\n         ..., \n         [ 0.00264473,  0.00317157,  0.0022338 , ...,  0.00239185,\n           0.00259205,  0.00245507],\n         [ 0.00296084,  0.00257098,  0.00200199, ...,  0.00250776,\n           0.00228648,  0.0027501 ],\n         [ 0.0027501 ,  0.00271849,  0.00244454, ...,  0.00218112,\n           0.00276064,  0.00248668]],\n\n        ..., \n        [[ 0.00298191,  0.00284493,  0.00627993, ...,  0.00293976,\n           0.00304513,  0.00277118],\n         [ 0.0029503 ,  0.00231809,  0.00537376, ...,  0.00244454,\n           0.00337177,  0.00292923],\n         [ 0.00276064,  0.00367734,  0.00665925, ...,  0.00242346,\n           0.00273957,  0.00323479],\n         ..., \n         [ 0.0026342 ,  0.00267634,  0.00278171, ...,  0.00228648,\n           0.00216004,  0.00260259],\n         [ 0.00292923,  0.0026342 ,  0.00259205, ...,  0.0020336 ,\n           0.00270795,  0.00237078],\n         [ 0.00307674,  0.00261312,  0.00251829, ...,  0.0019177 ,\n           0.00276064,  0.00302406]],\n\n        [[ 0.00272903,  0.00292923,  0.00806064, ...,  0.00337177,\n           0.00287654,  0.00289762],\n         [ 0.00292923,  0.00270795,  0.00612188, ...,  0.00284493,\n           0.00292923,  0.00316104],\n         [ 0.00271849,  0.00280279,  0.0063853 , ...,  0.00361412,\n           0.00337177,  0.00297137],\n         ..., \n         [ 0.00277118,  0.00245507,  0.00227595, ...,  0.0020336 ,\n           0.00308728,  0.00247615],\n         [ 0.00252883,  0.00293976,  0.00219165, ...,  0.00207575,\n           0.00293976,  0.0023497 ],\n         [ 0.0026342 ,  0.00233917,  0.00258151, ...,  0.00221273,\n           0.00299245,  0.00297137]],\n\n        [[ 0.        ,  0.        ,  0.        , ...,  0.        ,\n           0.        ,  0.        ],\n         [ 0.        ,  0.        ,  0.        , ...,  0.        ,\n           0.        ,  0.        ],\n         [ 0.        ,  0.        ,  0.        , ...,  0.        ,\n           0.        ,  0.        ],\n         ..., \n         [ 0.        ,  0.        ,  0.        , ...,  0.        ,\n           0.        ,  0.        ],\n         [ 0.        ,  0.        ,  0.        , ...,  0.        ,\n           0.        ,  0.        ],\n         [ 0.        ,  0.        ,  0.        , ...,  0.        ,\n           0.        ,  0.        ]]],\n\n\n       [[[ 0.00252516,  0.00387793,  0.00309633, ...,  0.00386791,\n           0.00400819,  0.00269551],\n         [ 0.00276565,  0.00290594,  0.00338692, ...,  0.00297608,\n           0.00343703,  0.0025452 ],\n         [ 0.00225461,  0.00216442,  0.00324664, ...,  0.00241494,\n           0.00354725,  0.00354725],\n         ..., \n         [ 0.00242496,  0.00258528,  0.00227465, ...,  0.0029861 ,\n           0.00237485,  0.00257526],\n         [ 0.00229469,  0.00270553,  0.00238487, ...,  0.00258528,\n           0.00239489,  0.0025953 ],\n         [ 0.0025452 ,  0.00335686,  0.00324664, ...,  0.00326668,\n           0.00270553,  0.00245502]],\n\n        [[ 0.00323662,  0.00291596,  0.00377772, ...,  0.00405829,\n           0.00306627,  0.00276565],\n         [ 0.00282578,  0.00300614,  0.00345707, ...,  0.003427  ,\n           0.00252516,  0.00276565],\n         [ 0.00262537,  0.0025953 ,  0.0033268 , ...,  0.0025452 ,\n           0.0032767 ,  0.00370758],\n         ..., \n         [ 0.00260532,  0.00251514,  0.00250512, ...,  0.00304623,\n           0.00287588,  0.00315645],\n         [ 0.00316647,  0.00274561,  0.00294602, ...,  0.00271555,\n           0.00294602,  0.00252516],\n         [ 0.00265543,  0.00295604,  0.00300614, ...,  0.00279571,\n           0.00267547,  0.00237485]],\n\n        [[ 0.00341698,  0.00295604,  0.00292598, ...,  0.00526075,\n           0.0037176 ,  0.0024951 ],\n         [ 0.00350717,  0.00335686,  0.00361739, ...,  0.00349715,\n           0.002936  ,  0.00295604],\n         [ 0.00279571,  0.00325666,  0.00264541, ...,  0.00270553,\n           0.00330676,  0.00260532],\n         ..., \n         [ 0.00243498,  0.0025452 ,  0.00273559, ...,  0.00281576,\n           0.0028358 ,  0.00282578],\n         [ 0.00265543,  0.00247506,  0.00233477, ...,  0.00290594,\n           0.00276565,  0.00270553],\n         [ 0.00253518,  0.00285584,  0.0025953 , ...,  0.00238487,\n           0.002936  ,  0.00271555]],\n\n        ..., \n        [[ 0.00357731,  0.00384786,  0.00336688, ...,  0.00323662,\n           0.00380778,  0.0025953 ],\n         [ 0.00290594,  0.00305625,  0.00404827, ...,  0.00367752,\n           0.00429879,  0.00315645],\n         [ 0.00290594,  0.00252516,  0.00409838, ...,  0.00314643,\n           0.00438897,  0.00352721],\n         ..., \n         [ 0.00219449,  0.00323662,  0.00271555, ...,  0.00357731,\n           0.00299612,  0.00271555],\n         [ 0.00231473,  0.00329674,  0.0025452 , ...,  0.00230471,\n           0.00253518,  0.00277567],\n         [ 0.00242496,  0.00344705,  0.00284582, ...,  0.00271555,\n           0.00271555,  0.00273559]],\n\n        [[ 0.00280573,  0.00335686,  0.00289592, ...,  0.00328672,\n           0.00311637,  0.00287588],\n         [ 0.00260532,  0.00256524,  0.00374766, ...,  0.00243498,\n           0.00310635,  0.00285584],\n         [ 0.0025953 ,  0.00226463,  0.00356729, ...,  0.00303621,\n           0.00399817,  0.00385789],\n         ..., \n         [ 0.00221453,  0.00245502,  0.00226463, ...,  0.00225461,\n           0.00313641,  0.00242496],\n         [ 0.00236483,  0.00307629,  0.00245502, ...,  0.00250512,\n           0.00255522,  0.00276565],\n         [ 0.00246504,  0.00400819,  0.00253518, ...,  0.00225461,\n           0.00393805,  0.00315645]],\n\n        [[ 0.        ,  0.        ,  0.        , ...,  0.        ,\n           0.        ,  0.        ],\n         [ 0.        ,  0.        ,  0.        , ...,  0.        ,\n           0.        ,  0.        ],\n         [ 0.        ,  0.        ,  0.        , ...,  0.        ,\n           0.        ,  0.        ],\n         ..., \n         [ 0.        ,  0.        ,  0.        , ...,  0.        ,\n           0.        ,  0.        ],\n         [ 0.        ,  0.        ,  0.        , ...,  0.        ,\n           0.        ,  0.        ],\n         [ 0.        ,  0.        ,  0.        , ...,  0.        ,\n           0.        ,  0.        ]]],\n\n\n       [[[ 0.0025557 ,  0.00295717,  0.00610039, ...,  0.00362302,\n           0.00354469,  0.00331947],\n         [ 0.00334885,  0.00289842,  0.00471972, ...,  0.00318239,\n           0.00363282,  0.0035251 ],\n         [ 0.00257528,  0.00315301,  0.00639415, ...,  0.00342718,\n           0.00378949,  0.00275154],\n         ..., \n         [ 0.00302571,  0.00261445,  0.00251653, ...,  0.00245778,\n           0.0028005 ,  0.00333906],\n         [ 0.00302571,  0.00244799,  0.00249695, ...,  0.00221298,\n           0.00256549,  0.00330968],\n         [ 0.00306488,  0.00257528,  0.00299634, ...,  0.00281029,\n           0.00239903,  0.00272216]],\n\n        [[ 0.00286904,  0.00338802,  0.00625706, ...,  0.00329989,\n           0.00343698,  0.00338802],\n         [ 0.00275154,  0.00301592,  0.00529745, ...,  0.00351531,\n           0.00368178,  0.0032901 ],\n         [ 0.00314322,  0.00283967,  0.00439659, ...,  0.00303551,\n           0.00423992,  0.0034076 ],\n         ..., \n         [ 0.00339781,  0.00253612,  0.00237945, ...,  0.00278092,\n           0.00323135,  0.00282008],\n         [ 0.00315301,  0.0026732 ,  0.00213465, ...,  0.00257528,\n           0.00265362,  0.00297675],\n         [ 0.0025557 ,  0.00265362,  0.00247736, ...,  0.00261445,\n           0.00228153,  0.00269279]],\n\n        [[ 0.0029278 ,  0.00337823,  0.00636477, ...,  0.00412241,\n           0.00323135,  0.00322155],\n         [ 0.00312363,  0.00286904,  0.00506244, ...,  0.0030453 ,\n           0.0026732 ,  0.00314322],\n         [ 0.00266341,  0.00277112,  0.00430846, ...,  0.00364261,\n           0.00417137,  0.00235986],\n         ..., \n         [ 0.00409304,  0.00283967,  0.00253612, ...,  0.0026732 ,\n           0.00314322,  0.00249695],\n         [ 0.00429867,  0.00328031,  0.00251653, ...,  0.00228153,\n           0.00232069,  0.00275154],\n         [ 0.0028005 ,  0.00240882,  0.00269279, ...,  0.00235986,\n           0.00266341,  0.00294738]],\n\n        ..., \n        [[ 0.00293759,  0.00303551,  0.00610039, ...,  0.00376011,\n           0.00367198,  0.00287883],\n         [ 0.00279071,  0.0030453 ,  0.00514078, ...,  0.00294738,\n           0.00368178,  0.00366219],\n         [ 0.00287883,  0.00286904,  0.00595351, ...,  0.00313343,\n           0.00328031,  0.00356427],\n         ..., \n         [ 0.0024382 ,  0.00265362,  0.00295717, ...,  0.00240882,\n           0.00252632,  0.00275154],\n         [ 0.00276133,  0.00257528,  0.00237945, ...,  0.00258508,\n           0.00300613,  0.00263404],\n         [ 0.00303551,  0.00302571,  0.00235986, ...,  0.00278092,\n           0.00362302,  0.00281029]],\n\n        [[ 0.00303551,  0.00305509,  0.00552266, ...,  0.00334885,\n           0.00284946,  0.00324114],\n         [ 0.00299634,  0.00246757,  0.00525828, ...,  0.00357406,\n           0.00323135,  0.00337823],\n         [ 0.00284946,  0.00302571,  0.00567933, ...,  0.00318239,\n           0.00293759,  0.00257528],\n         ..., \n         [ 0.00244799,  0.00287883,  0.00245778, ...,  0.00276133,\n           0.00251653,  0.00346635],\n         [ 0.0028005 ,  0.0028005 ,  0.00302571, ...,  0.00271237,\n           0.00281029,  0.00287883],\n         [ 0.00275154,  0.00273196,  0.0028005 , ...,  0.00285925,\n           0.00337823,  0.00313343]],\n\n        [[ 0.        ,  0.        ,  0.        , ...,  0.        ,\n           0.        ,  0.        ],\n         [ 0.        ,  0.        ,  0.        , ...,  0.        ,\n           0.        ,  0.        ],\n         [ 0.        ,  0.        ,  0.        , ...,  0.        ,\n           0.        ,  0.        ],\n         ..., \n         [ 0.        ,  0.        ,  0.        , ...,  0.        ,\n           0.        ,  0.        ],\n         [ 0.        ,  0.        ,  0.        , ...,  0.        ,\n           0.        ,  0.        ],\n         [ 0.        ,  0.        ,  0.        , ...,  0.        ,\n           0.        ,  0.        ]]]], dtype=float32)"
      ]
     },
     "execution_count": 9,
     "metadata": {},
     "output_type": "execute_result"
    }
   ],
   "source": [
    "maximum = np.max(x)\n",
    "minimum = np.min(x)\n",
    "x = (x - minimum)/(maximum - minimum)\n",
    "x"
   ]
  },
  {
   "cell_type": "markdown",
   "metadata": {},
   "source": [
    "Generating y data. Take the dataframes of samples generated in TSA_labels.ipynb file and join them into one large dataframe. Sort the samples according to 'Id' so that they will match up with the sample order in the x array"
   ]
  },
  {
   "cell_type": "code",
   "execution_count": 10,
   "metadata": {},
   "outputs": [
    {
     "data": {
      "text/html": [
       "<div>\n",
       "<style>\n",
       "    .dataframe thead tr:only-child th {\n",
       "        text-align: right;\n",
       "    }\n",
       "\n",
       "    .dataframe thead th {\n",
       "        text-align: left;\n",
       "    }\n",
       "\n",
       "    .dataframe tbody tr th {\n",
       "        vertical-align: top;\n",
       "    }\n",
       "</style>\n",
       "<table border=\"1\" class=\"dataframe\">\n",
       "  <thead>\n",
       "    <tr style=\"text-align: right;\">\n",
       "      <th></th>\n",
       "      <th>Unnamed: 0</th>\n",
       "      <th>Id</th>\n",
       "      <th>Probability</th>\n",
       "      <th>Id_only</th>\n",
       "      <th>Zone</th>\n",
       "    </tr>\n",
       "  </thead>\n",
       "  <tbody>\n",
       "    <tr>\n",
       "      <th>16</th>\n",
       "      <td>64</td>\n",
       "      <td>006ec59fa59dd80a64c85347eef810c7_Zone6</td>\n",
       "      <td>0</td>\n",
       "      <td>006ec59fa59dd80a64c85347eef810c7</td>\n",
       "      <td>Zone6</td>\n",
       "    </tr>\n",
       "    <tr>\n",
       "      <th>6</th>\n",
       "      <td>353</td>\n",
       "      <td>06726105fabadca043737601d06415a8_Zone6</td>\n",
       "      <td>0</td>\n",
       "      <td>06726105fabadca043737601d06415a8</td>\n",
       "      <td>Zone6</td>\n",
       "    </tr>\n",
       "    <tr>\n",
       "      <th>2</th>\n",
       "      <td>659</td>\n",
       "      <td>0ada538288f0b62b01510b397a8acb9e_Zone6</td>\n",
       "      <td>0</td>\n",
       "      <td>0ada538288f0b62b01510b397a8acb9e</td>\n",
       "      <td>Zone6</td>\n",
       "    </tr>\n",
       "    <tr>\n",
       "      <th>9</th>\n",
       "      <td>693</td>\n",
       "      <td>0b2e8050a0c115b873563399e7c86ad6_Zone6</td>\n",
       "      <td>1</td>\n",
       "      <td>0b2e8050a0c115b873563399e7c86ad6</td>\n",
       "      <td>Zone6</td>\n",
       "    </tr>\n",
       "    <tr>\n",
       "      <th>19</th>\n",
       "      <td>1271</td>\n",
       "      <td>13c13b32a6f3818169394c16eae3ea52_Zone6</td>\n",
       "      <td>0</td>\n",
       "      <td>13c13b32a6f3818169394c16eae3ea52</td>\n",
       "      <td>Zone6</td>\n",
       "    </tr>\n",
       "  </tbody>\n",
       "</table>\n",
       "</div>"
      ],
      "text/plain": [
       "<div>\n",
       "<style>\n",
       "    .dataframe thead tr:only-child th {\n",
       "        text-align: right;\n",
       "    }\n",
       "\n",
       "    .dataframe thead th {\n",
       "        text-align: left;\n",
       "    }\n",
       "\n",
       "    .dataframe tbody tr th {\n",
       "        vertical-align: top;\n",
       "    }\n",
       "</style>\n",
       "<table border=\"1\" class=\"dataframe\">\n",
       "  <thead>\n",
       "    <tr style=\"text-align: right;\">\n",
       "      <th></th>\n",
       "      <th>Unnamed: 0</th>\n",
       "      <th>Id</th>\n",
       "      <th>Probability</th>\n",
       "      <th>Id_only</th>\n",
       "      <th>Zone</th>\n",
       "    </tr>\n",
       "  </thead>\n",
       "  <tbody>\n",
       "    <tr>\n",
       "      <th>16</th>\n",
       "      <td>64</td>\n",
       "      <td>006ec59fa59dd80a64c85347eef810c7_Zone6</td>\n",
       "      <td>0</td>\n",
       "      <td>006ec59fa59dd80a64c85347eef810c7</td>\n",
       "      <td>Zone6</td>\n",
       "    </tr>\n",
       "    <tr>\n",
       "      <th>6</th>\n",
       "      <td>353</td>\n",
       "      <td>06726105fabadca043737601d06415a8_Zone6</td>\n",
       "      <td>0</td>\n",
       "      <td>06726105fabadca043737601d06415a8</td>\n",
       "      <td>Zone6</td>\n",
       "    </tr>\n",
       "    <tr>\n",
       "      <th>2</th>\n",
       "      <td>659</td>\n",
       "      <td>0ada538288f0b62b01510b397a8acb9e_Zone6</td>\n",
       "      <td>0</td>\n",
       "      <td>0ada538288f0b62b01510b397a8acb9e</td>\n",
       "      <td>Zone6</td>\n",
       "    </tr>\n",
       "    <tr>\n",
       "      <th>9</th>\n",
       "      <td>693</td>\n",
       "      <td>0b2e8050a0c115b873563399e7c86ad6_Zone6</td>\n",
       "      <td>1</td>\n",
       "      <td>0b2e8050a0c115b873563399e7c86ad6</td>\n",
       "      <td>Zone6</td>\n",
       "    </tr>\n",
       "    <tr>\n",
       "      <th>19</th>\n",
       "      <td>1271</td>\n",
       "      <td>13c13b32a6f3818169394c16eae3ea52_Zone6</td>\n",
       "      <td>0</td>\n",
       "      <td>13c13b32a6f3818169394c16eae3ea52</td>\n",
       "      <td>Zone6</td>\n",
       "    </tr>\n",
       "  </tbody>\n",
       "</table>\n",
       "</div>"
      ]
     },
     "execution_count": 10,
     "metadata": {},
     "output_type": "execute_result"
    }
   ],
   "source": [
    "z6sample30 = pd.read_csv('/Users/Yvonne/Desktop/TSA_Kaggle/Z6_samn30_9.18.17.csv')\n",
    "z6sample30.sort_values('Id', inplace=True)\n",
    "z6sample30.head()"
   ]
  },
  {
   "cell_type": "code",
   "execution_count": 11,
   "metadata": {},
   "outputs": [
    {
     "data": {
      "text/html": [
       "<div>\n",
       "<style>\n",
       "    .dataframe thead tr:only-child th {\n",
       "        text-align: right;\n",
       "    }\n",
       "\n",
       "    .dataframe thead th {\n",
       "        text-align: left;\n",
       "    }\n",
       "\n",
       "    .dataframe tbody tr th {\n",
       "        vertical-align: top;\n",
       "    }\n",
       "</style>\n",
       "<table border=\"1\" class=\"dataframe\">\n",
       "  <thead>\n",
       "    <tr style=\"text-align: right;\">\n",
       "      <th></th>\n",
       "      <th>Unnamed: 0</th>\n",
       "      <th>Id</th>\n",
       "      <th>Probability</th>\n",
       "      <th>Id_only</th>\n",
       "      <th>Zone</th>\n",
       "    </tr>\n",
       "  </thead>\n",
       "  <tbody>\n",
       "    <tr>\n",
       "      <th>0</th>\n",
       "      <td>13</td>\n",
       "      <td>00360f79fd6e02781457eda48f85da90_Zone6</td>\n",
       "      <td>0</td>\n",
       "      <td>00360f79fd6e02781457eda48f85da90</td>\n",
       "      <td>Zone6</td>\n",
       "    </tr>\n",
       "    <tr>\n",
       "      <th>1</th>\n",
       "      <td>183</td>\n",
       "      <td>037024e4a7122e10546ebc41859c6833_Zone6</td>\n",
       "      <td>0</td>\n",
       "      <td>037024e4a7122e10546ebc41859c6833</td>\n",
       "      <td>Zone6</td>\n",
       "    </tr>\n",
       "    <tr>\n",
       "      <th>2</th>\n",
       "      <td>540</td>\n",
       "      <td>091cfe2e108e277d82497ee1307f424c_Zone6</td>\n",
       "      <td>0</td>\n",
       "      <td>091cfe2e108e277d82497ee1307f424c</td>\n",
       "      <td>Zone6</td>\n",
       "    </tr>\n",
       "    <tr>\n",
       "      <th>3</th>\n",
       "      <td>591</td>\n",
       "      <td>098f5cfcf6faefd3011a94719cb03dc5_Zone6</td>\n",
       "      <td>0</td>\n",
       "      <td>098f5cfcf6faefd3011a94719cb03dc5</td>\n",
       "      <td>Zone6</td>\n",
       "    </tr>\n",
       "    <tr>\n",
       "      <th>4</th>\n",
       "      <td>795</td>\n",
       "      <td>0cc6fc725d4b8818415ddc06823fce98_Zone6</td>\n",
       "      <td>0</td>\n",
       "      <td>0cc6fc725d4b8818415ddc06823fce98</td>\n",
       "      <td>Zone6</td>\n",
       "    </tr>\n",
       "  </tbody>\n",
       "</table>\n",
       "</div>"
      ],
      "text/plain": [
       "<div>\n",
       "<style>\n",
       "    .dataframe thead tr:only-child th {\n",
       "        text-align: right;\n",
       "    }\n",
       "\n",
       "    .dataframe thead th {\n",
       "        text-align: left;\n",
       "    }\n",
       "\n",
       "    .dataframe tbody tr th {\n",
       "        vertical-align: top;\n",
       "    }\n",
       "</style>\n",
       "<table border=\"1\" class=\"dataframe\">\n",
       "  <thead>\n",
       "    <tr style=\"text-align: right;\">\n",
       "      <th></th>\n",
       "      <th>Unnamed: 0</th>\n",
       "      <th>Id</th>\n",
       "      <th>Probability</th>\n",
       "      <th>Id_only</th>\n",
       "      <th>Zone</th>\n",
       "    </tr>\n",
       "  </thead>\n",
       "  <tbody>\n",
       "    <tr>\n",
       "      <th>0</th>\n",
       "      <td>13</td>\n",
       "      <td>00360f79fd6e02781457eda48f85da90_Zone6</td>\n",
       "      <td>0</td>\n",
       "      <td>00360f79fd6e02781457eda48f85da90</td>\n",
       "      <td>Zone6</td>\n",
       "    </tr>\n",
       "    <tr>\n",
       "      <th>1</th>\n",
       "      <td>183</td>\n",
       "      <td>037024e4a7122e10546ebc41859c6833_Zone6</td>\n",
       "      <td>0</td>\n",
       "      <td>037024e4a7122e10546ebc41859c6833</td>\n",
       "      <td>Zone6</td>\n",
       "    </tr>\n",
       "    <tr>\n",
       "      <th>2</th>\n",
       "      <td>540</td>\n",
       "      <td>091cfe2e108e277d82497ee1307f424c_Zone6</td>\n",
       "      <td>0</td>\n",
       "      <td>091cfe2e108e277d82497ee1307f424c</td>\n",
       "      <td>Zone6</td>\n",
       "    </tr>\n",
       "    <tr>\n",
       "      <th>3</th>\n",
       "      <td>591</td>\n",
       "      <td>098f5cfcf6faefd3011a94719cb03dc5_Zone6</td>\n",
       "      <td>0</td>\n",
       "      <td>098f5cfcf6faefd3011a94719cb03dc5</td>\n",
       "      <td>Zone6</td>\n",
       "    </tr>\n",
       "    <tr>\n",
       "      <th>4</th>\n",
       "      <td>795</td>\n",
       "      <td>0cc6fc725d4b8818415ddc06823fce98_Zone6</td>\n",
       "      <td>0</td>\n",
       "      <td>0cc6fc725d4b8818415ddc06823fce98</td>\n",
       "      <td>Zone6</td>\n",
       "    </tr>\n",
       "  </tbody>\n",
       "</table>\n",
       "</div>"
      ]
     },
     "execution_count": 11,
     "metadata": {},
     "output_type": "execute_result"
    }
   ],
   "source": [
    "z6sample_90 = pd.read_csv('/Users/Yvonne/Desktop/TSA_Kaggle/Z6_samn90_10.6.17.csv')\n",
    "z6sample_90.head()"
   ]
  },
  {
   "cell_type": "code",
   "execution_count": 12,
   "metadata": {},
   "outputs": [
    {
     "data": {
      "text/html": [
       "<div>\n",
       "<style>\n",
       "    .dataframe thead tr:only-child th {\n",
       "        text-align: right;\n",
       "    }\n",
       "\n",
       "    .dataframe thead th {\n",
       "        text-align: left;\n",
       "    }\n",
       "\n",
       "    .dataframe tbody tr th {\n",
       "        vertical-align: top;\n",
       "    }\n",
       "</style>\n",
       "<table border=\"1\" class=\"dataframe\">\n",
       "  <thead>\n",
       "    <tr style=\"text-align: right;\">\n",
       "      <th></th>\n",
       "      <th>Unnamed: 0</th>\n",
       "      <th>Id</th>\n",
       "      <th>Probability</th>\n",
       "      <th>Id_only</th>\n",
       "      <th>Zone</th>\n",
       "    </tr>\n",
       "  </thead>\n",
       "  <tbody>\n",
       "    <tr>\n",
       "      <th>30</th>\n",
       "      <td>13</td>\n",
       "      <td>00360f79fd6e02781457eda48f85da90_Zone6</td>\n",
       "      <td>0</td>\n",
       "      <td>00360f79fd6e02781457eda48f85da90</td>\n",
       "      <td>Zone6</td>\n",
       "    </tr>\n",
       "    <tr>\n",
       "      <th>0</th>\n",
       "      <td>64</td>\n",
       "      <td>006ec59fa59dd80a64c85347eef810c7_Zone6</td>\n",
       "      <td>0</td>\n",
       "      <td>006ec59fa59dd80a64c85347eef810c7</td>\n",
       "      <td>Zone6</td>\n",
       "    </tr>\n",
       "    <tr>\n",
       "      <th>31</th>\n",
       "      <td>183</td>\n",
       "      <td>037024e4a7122e10546ebc41859c6833_Zone6</td>\n",
       "      <td>0</td>\n",
       "      <td>037024e4a7122e10546ebc41859c6833</td>\n",
       "      <td>Zone6</td>\n",
       "    </tr>\n",
       "    <tr>\n",
       "      <th>1</th>\n",
       "      <td>353</td>\n",
       "      <td>06726105fabadca043737601d06415a8_Zone6</td>\n",
       "      <td>0</td>\n",
       "      <td>06726105fabadca043737601d06415a8</td>\n",
       "      <td>Zone6</td>\n",
       "    </tr>\n",
       "    <tr>\n",
       "      <th>32</th>\n",
       "      <td>540</td>\n",
       "      <td>091cfe2e108e277d82497ee1307f424c_Zone6</td>\n",
       "      <td>0</td>\n",
       "      <td>091cfe2e108e277d82497ee1307f424c</td>\n",
       "      <td>Zone6</td>\n",
       "    </tr>\n",
       "  </tbody>\n",
       "</table>\n",
       "</div>"
      ],
      "text/plain": [
       "<div>\n",
       "<style>\n",
       "    .dataframe thead tr:only-child th {\n",
       "        text-align: right;\n",
       "    }\n",
       "\n",
       "    .dataframe thead th {\n",
       "        text-align: left;\n",
       "    }\n",
       "\n",
       "    .dataframe tbody tr th {\n",
       "        vertical-align: top;\n",
       "    }\n",
       "</style>\n",
       "<table border=\"1\" class=\"dataframe\">\n",
       "  <thead>\n",
       "    <tr style=\"text-align: right;\">\n",
       "      <th></th>\n",
       "      <th>Unnamed: 0</th>\n",
       "      <th>Id</th>\n",
       "      <th>Probability</th>\n",
       "      <th>Id_only</th>\n",
       "      <th>Zone</th>\n",
       "    </tr>\n",
       "  </thead>\n",
       "  <tbody>\n",
       "    <tr>\n",
       "      <th>30</th>\n",
       "      <td>13</td>\n",
       "      <td>00360f79fd6e02781457eda48f85da90_Zone6</td>\n",
       "      <td>0</td>\n",
       "      <td>00360f79fd6e02781457eda48f85da90</td>\n",
       "      <td>Zone6</td>\n",
       "    </tr>\n",
       "    <tr>\n",
       "      <th>0</th>\n",
       "      <td>64</td>\n",
       "      <td>006ec59fa59dd80a64c85347eef810c7_Zone6</td>\n",
       "      <td>0</td>\n",
       "      <td>006ec59fa59dd80a64c85347eef810c7</td>\n",
       "      <td>Zone6</td>\n",
       "    </tr>\n",
       "    <tr>\n",
       "      <th>31</th>\n",
       "      <td>183</td>\n",
       "      <td>037024e4a7122e10546ebc41859c6833_Zone6</td>\n",
       "      <td>0</td>\n",
       "      <td>037024e4a7122e10546ebc41859c6833</td>\n",
       "      <td>Zone6</td>\n",
       "    </tr>\n",
       "    <tr>\n",
       "      <th>1</th>\n",
       "      <td>353</td>\n",
       "      <td>06726105fabadca043737601d06415a8_Zone6</td>\n",
       "      <td>0</td>\n",
       "      <td>06726105fabadca043737601d06415a8</td>\n",
       "      <td>Zone6</td>\n",
       "    </tr>\n",
       "    <tr>\n",
       "      <th>32</th>\n",
       "      <td>540</td>\n",
       "      <td>091cfe2e108e277d82497ee1307f424c_Zone6</td>\n",
       "      <td>0</td>\n",
       "      <td>091cfe2e108e277d82497ee1307f424c</td>\n",
       "      <td>Zone6</td>\n",
       "    </tr>\n",
       "  </tbody>\n",
       "</table>\n",
       "</div>"
      ]
     },
     "execution_count": 12,
     "metadata": {},
     "output_type": "execute_result"
    }
   ],
   "source": [
    "z6sample_120 = z6sample30.append(z6sample_90, ignore_index=True)\n",
    "z6sample_120.sort_values('Id', inplace=True)\n",
    "z6sample_120.head()"
   ]
  },
  {
   "cell_type": "markdown",
   "metadata": {},
   "source": [
    "Generate a y array of the probability values that will be used to train the model."
   ]
  },
  {
   "cell_type": "code",
   "execution_count": 13,
   "metadata": {},
   "outputs": [
    {
     "data": {
      "text/plain": [
       "array([0, 0, 0, 0, 0, 0, 0, 1, 0, 0, 0, 0, 0, 0, 1, 0, 0, 0, 0, 0, 0, 0, 0,\n       0, 1, 0, 0, 1, 0, 0, 1, 0, 0, 0, 0, 0, 1, 1, 0, 0, 0, 0, 1, 0, 0, 0,\n       0, 0, 0, 0, 0, 0, 0, 0, 0, 0, 0, 0, 0, 0, 1, 0, 0, 0, 0, 1, 0, 0, 0,\n       0, 0, 0, 0, 1, 0, 0, 0, 0, 0, 0, 0, 0, 0, 0, 0, 0, 1, 0, 1, 1, 0, 0,\n       1, 0, 1, 0, 0, 0, 0, 0, 0, 0, 1, 0, 0, 0, 0, 0, 0, 0, 0, 0, 1, 0, 0,\n       0, 0, 0, 0, 0])"
      ]
     },
     "execution_count": 13,
     "metadata": {},
     "output_type": "execute_result"
    }
   ],
   "source": [
    "y = z6sample_120.iloc[:,2].values\n",
    "y"
   ]
  },
  {
   "cell_type": "code",
   "execution_count": 23,
   "metadata": {},
   "outputs": [
    {
     "data": {
      "text/plain": [
       "(120,)"
      ]
     },
     "execution_count": 23,
     "metadata": {},
     "output_type": "execute_result"
    }
   ],
   "source": [
    "y.shape"
   ]
  },
  {
   "cell_type": "markdown",
   "metadata": {},
   "source": [
    "Split the data into a training set to train the model, and a test set to test the trained model. The size of the training set is 80% of the total dataset and test set size is the final 20%"
   ]
  },
  {
   "cell_type": "code",
   "execution_count": 14,
   "metadata": {},
   "outputs": [
    {
     "data": {
      "text/plain": [
       "(96, 512, 660, 16)"
      ]
     },
     "execution_count": 14,
     "metadata": {},
     "output_type": "execute_result"
    }
   ],
   "source": [
    "from sklearn.model_selection import train_test_split\n",
    "x_train, x_test, y_train, y_test = train_test_split(x, y, test_size=0.2)\n",
    "x_train.shape"
   ]
  },
  {
   "cell_type": "heading",
   "metadata": {},
   "level": 1,
   "source": [
    "Now begin building the model! Start with the basic artifical neural network and see how well it does on the data."
   ]
  },
  {
   "cell_type": "markdown",
   "metadata": {},
   "source": [
    "Import the basic Sequential model from Keras as well as the layers to use. Initiate the Sequential model"
   ]
  },
  {
   "cell_type": "code",
   "execution_count": 39,
   "metadata": {},
   "outputs": [],
   "source": [
    "from keras.models import Sequential\n",
    "from keras.layers import Dense, Flatten, Dropout\n",
    "classifier = Sequential()"
   ]
  },
  {
   "cell_type": "markdown",
   "metadata": {},
   "source": [
    "Add the input layer and first hidden layers. Dropout layer helps prevent overfitting on the model. Flatten layer compresses the model"
   ]
  },
  {
   "cell_type": "code",
   "execution_count": 41,
   "metadata": {},
   "outputs": [],
   "source": [
    "classifier.add(Dense(25, input_shape=(512, 660, 16), activation='relu', kernel_initializer='uniform'))\n",
    "classifier.add(Dropout(rate=0.1))"
   ]
  },
  {
   "cell_type": "code",
   "execution_count": 42,
   "metadata": {},
   "outputs": [],
   "source": [
    "classifier.add(Flatten())"
   ]
  },
  {
   "cell_type": "markdown",
   "metadata": {},
   "source": [
    "Add three more dense hidden layers with increased number of nodes to prevent overfitting"
   ]
  },
  {
   "cell_type": "code",
   "execution_count": 43,
   "metadata": {},
   "outputs": [],
   "source": [
    "classifier.add(Dense(50, activation='relu', kernel_initializer='uniform'))\n",
    "classifier.add(Dropout(rate=0.1))"
   ]
  },
  {
   "cell_type": "code",
   "execution_count": 44,
   "metadata": {},
   "outputs": [],
   "source": [
    "classifier.add(Dense(50, activation='relu', kernel_initializer='uniform'))\n",
    "classifier.add(Dropout(rate=0.1))"
   ]
  },
  {
   "cell_type": "code",
   "execution_count": 45,
   "metadata": {},
   "outputs": [],
   "source": [
    "classifier.add(Dense(50, activation='relu', kernel_initializer='uniform'))\n",
    "classifier.add(Dropout(rate=0.1))"
   ]
  },
  {
   "cell_type": "markdown",
   "metadata": {},
   "source": [
    "Add the output layer. Only one output node is needed because there are only two possible outcomes (0 = no, 1 = yes)"
   ]
  },
  {
   "cell_type": "code",
   "execution_count": 47,
   "metadata": {},
   "outputs": [],
   "source": [
    "classifier.add(Dense(1, activation='sigmoid', kernel_initializer='uniform'))"
   ]
  },
  {
   "cell_type": "markdown",
   "metadata": {},
   "source": [
    "Compile the model"
   ]
  },
  {
   "cell_type": "code",
   "execution_count": 48,
   "metadata": {},
   "outputs": [],
   "source": [
    "classifier.compile(optimizer='adam', loss='binary_crossentropy', metrics=['accuracy'])"
   ]
  },
  {
   "cell_type": "markdown",
   "metadata": {},
   "source": [
    "Fit the model to the training set"
   ]
  },
  {
   "cell_type": "code",
   "execution_count": 51,
   "metadata": {},
   "outputs": [
    {
     "name": "stdout",
     "output_type": "stream",
     "text": [
      "Epoch 1/20\n"
     ]
    },
    {
     "name": "stdout",
     "output_type": "stream",
     "text": [
      "\r10/96 [==>...........................] - ETA: 209s - loss: 0.5138 - acc: 0.8000"
     ]
    },
    {
     "name": "stdout",
     "output_type": "stream",
     "text": [
      "\b\b\b\b\b\b\b\b\b\b\b\b\b\b\b\b\b\b\b\b\b\b\b\b\b\b\b\b\b\b\b\b\b\b\b\b\b\b\b\b\b\b\b\b\b\b\b\b\b\b\b\b\b\b\b\b\b\b\b\b\b\b\b\b\b\b\b\b\b\b\b\b\b\b\b\b\b\b\b\r20/96 [=====>........................] - ETA: 182s - loss: 0.5547 - acc: 0.8000"
     ]
    },
    {
     "name": "stdout",
     "output_type": "stream",
     "text": [
      "\b\b\b\b\b\b\b\b\b\b\b\b\b\b\b\b\b\b\b\b\b\b\b\b\b\b\b\b\b\b\b\b\b\b\b\b\b\b\b\b\b\b\b\b\b\b\b\b\b\b\b\b\b\b\b\b\b\b\b\b\b\b\b\b\b\b\b\b\b\b\b\b\b\b\b\b\b\b\b\r30/96 [========>.....................] - ETA: 159s - loss: 0.5009 - acc: 0.8333"
     ]
    },
    {
     "name": "stdout",
     "output_type": "stream",
     "text": [
      "\b\b\b\b\b\b\b\b\b\b\b\b\b\b\b\b\b\b\b\b\b\b\b\b\b\b\b\b\b\b\b\b\b\b\b\b\b\b\b\b\b\b\b\b\b\b\b\b\b\b\b\b\b\b\b\b\b\b\b\b\b\b\b\b\b\b\b\b\b\b\b\b\b\b\b\b\b\b\b\r40/96 [===========>..................] - ETA: 133s - loss: 0.5506 - acc: 0.8250"
     ]
    },
    {
     "name": "stdout",
     "output_type": "stream",
     "text": [
      "\b\b\b\b\b\b\b\b\b\b\b\b\b\b\b\b\b\b\b\b\b\b\b\b\b\b\b\b\b\b\b\b\b\b\b\b\b\b\b\b\b\b\b\b\b\b\b\b\b\b\b\b\b\b\b\b\b\b\b\b\b\b\b\b\b\b\b\b\b\b\b\b\b\b\b\b\b\b\b\r50/96 [==============>...............] - ETA: 110s - loss: 0.5121 - acc: 0.8400"
     ]
    },
    {
     "name": "stdout",
     "output_type": "stream",
     "text": [
      "\b\b\b\b\b\b\b\b\b\b\b\b\b\b\b\b\b\b\b\b\b\b\b\b\b\b\b\b\b\b\b\b\b\b\b\b\b\b\b\b\b\b\b\b\b\b\b\b\b\b\b\b\b\b\b\b\b\b\b\b\b\b\b\b\b\b\b\b\b\b\b\b\b\b\b\b\b\b\b\r60/96 [=================>............] - ETA: 86s - loss: 0.4930 - acc: 0.8500 "
     ]
    },
    {
     "name": "stdout",
     "output_type": "stream",
     "text": [
      "\b\b\b\b\b\b\b\b\b\b\b\b\b\b\b\b\b\b\b\b\b\b\b\b\b\b\b\b\b\b\b\b\b\b\b\b\b\b\b\b\b\b\b\b\b\b\b\b\b\b\b\b\b\b\b\b\b\b\b\b\b\b\b\b\b\b\b\b\b\b\b\b\b\b\b\b\b\b\r70/96 [====================>.........] - ETA: 62s - loss: 0.4827 - acc: 0.8571"
     ]
    },
    {
     "name": "stdout",
     "output_type": "stream",
     "text": [
      "\b\b\b\b\b\b\b\b\b\b\b\b\b\b\b\b\b\b\b\b\b\b\b\b\b\b\b\b\b\b\b\b\b\b\b\b\b\b\b\b\b\b\b\b\b\b\b\b\b\b\b\b\b\b\b\b\b\b\b\b\b\b\b\b\b\b\b\b\b\b\b\b\b\b\b\b\b\b\r80/96 [========================>.....] - ETA: 38s - loss: 0.4672 - acc: 0.8625"
     ]
    },
    {
     "name": "stdout",
     "output_type": "stream",
     "text": [
      "\b\b\b\b\b\b\b\b\b\b\b\b\b\b\b\b\b\b\b\b\b\b\b\b\b\b\b\b\b\b\b\b\b\b\b\b\b\b\b\b\b\b\b\b\b\b\b\b\b\b\b\b\b\b\b\b\b\b\b\b\b\b\b\b\b\b\b\b\b\b\b\b\b\b\b\b\b\b\r90/96 [===========================>..] - ETA: 14s - loss: 0.4996 - acc: 0.8333"
     ]
    },
    {
     "name": "stdout",
     "output_type": "stream",
     "text": [
      "\b\b\b\b\b\b\b\b\b\b\b\b\b\b\b\b\b\b\b\b\b\b\b\b\b\b\b\b\b\b\b\b\b\b\b\b\b\b\b\b\b\b\b\b\b\b\b\b\b\b\b\b\b\b\b\b\b\b\b\b\b\b\b\b\b\b\b\b\b\b\b\b\b\b\b\b\b\b\r96/96 [==============================] - 234s - loss: 0.4976 - acc: 0.8333    "
     ]
    },
    {
     "name": "stdout",
     "output_type": "stream",
     "text": [
      "\nEpoch 2/20\n"
     ]
    },
    {
     "name": "stdout",
     "output_type": "stream",
     "text": [
      "\r10/96 [==>...........................] - ETA: 201s - loss: 0.5518 - acc: 0.8000"
     ]
    },
    {
     "name": "stdout",
     "output_type": "stream",
     "text": [
      "\b\b\b\b\b\b\b\b\b\b\b\b\b\b\b\b\b\b\b\b\b\b\b\b\b\b\b\b\b\b\b\b\b\b\b\b\b\b\b\b\b\b\b\b\b\b\b\b\b\b\b\b\b\b\b\b\b\b\b\b\b\b\b\b\b\b\b\b\b\b\b\b\b\b\b\b\b\b\b\r20/96 [=====>........................] - ETA: 170s - loss: 0.4187 - acc: 0.9000"
     ]
    },
    {
     "name": "stdout",
     "output_type": "stream",
     "text": [
      "\b\b\b\b\b\b\b\b\b\b\b\b\b\b\b\b\b\b\b\b\b\b\b\b\b\b\b\b\b\b\b\b\b\b\b\b\b\b\b\b\b\b\b\b\b\b\b\b\b\b\b\b\b\b\b\b\b\b\b\b\b\b\b\b\b\b\b\b\b\b\b\b\b\b\b\b\b\b\b\r30/96 [========>.....................] - ETA: 148s - loss: 0.4361 - acc: 0.8667"
     ]
    },
    {
     "name": "stdout",
     "output_type": "stream",
     "text": [
      "\b\b\b\b\b\b\b\b\b\b\b\b\b\b\b\b\b\b\b\b\b\b\b\b\b\b\b\b\b\b\b\b\b\b\b\b\b\b\b\b\b\b\b\b\b\b\b\b\b\b\b\b\b\b\b\b\b\b\b\b\b\b\b\b\b\b\b\b\b\b\b\b\b\b\b\b\b\b\b\r40/96 [===========>..................] - ETA: 127s - loss: 0.5390 - acc: 0.8000"
     ]
    },
    {
     "name": "stdout",
     "output_type": "stream",
     "text": [
      "\b\b\b\b\b\b\b\b\b\b\b\b\b\b\b\b\b\b\b\b\b\b\b\b\b\b\b\b\b\b\b\b\b\b\b\b\b\b\b\b\b\b\b\b\b\b\b\b\b\b\b\b\b\b\b\b\b\b\b\b\b\b\b\b\b\b\b\b\b\b\b\b\b\b\b\b\b\b\b\r50/96 [==============>...............] - ETA: 108s - loss: 0.5134 - acc: 0.8200"
     ]
    },
    {
     "name": "stdout",
     "output_type": "stream",
     "text": [
      "\b\b\b\b\b\b\b\b\b\b\b\b\b\b\b\b\b\b\b\b\b\b\b\b\b\b\b\b\b\b\b\b\b\b\b\b\b\b\b\b\b\b\b\b\b\b\b\b\b\b\b\b\b\b\b\b\b\b\b\b\b\b\b\b\b\b\b\b\b\b\b\b\b\b\b\b\b\b\b\r60/96 [=================>............] - ETA: 88s - loss: 0.4893 - acc: 0.8333 "
     ]
    },
    {
     "name": "stdout",
     "output_type": "stream",
     "text": [
      "\b\b\b\b\b\b\b\b\b\b\b\b\b\b\b\b\b\b\b\b\b\b\b\b\b\b\b\b\b\b\b\b\b\b\b\b\b\b\b\b\b\b\b\b\b\b\b\b\b\b\b\b\b\b\b\b\b\b\b\b\b\b\b\b\b\b\b\b\b\b\b\b\b\b\b\b\b\b\r70/96 [====================>.........] - ETA: 63s - loss: 0.4853 - acc: 0.8286"
     ]
    },
    {
     "name": "stdout",
     "output_type": "stream",
     "text": [
      "\b\b\b\b\b\b\b\b\b\b\b\b\b\b\b\b\b\b\b\b\b\b\b\b\b\b\b\b\b\b\b\b\b\b\b\b\b\b\b\b\b\b\b\b\b\b\b\b\b\b\b\b\b\b\b\b\b\b\b\b\b\b\b\b\b\b\b\b\b\b\b\b\b\b\b\b\b\b\r80/96 [========================>.....] - ETA: 38s - loss: 0.4694 - acc: 0.8375"
     ]
    },
    {
     "name": "stdout",
     "output_type": "stream",
     "text": [
      "\b\b\b\b\b\b\b\b\b\b\b\b\b\b\b\b\b\b\b\b\b\b\b\b\b\b\b\b\b\b\b\b\b\b\b\b\b\b\b\b\b\b\b\b\b\b\b\b\b\b\b\b\b\b\b\b\b\b\b\b\b\b\b\b\b\b\b\b\b\b\b\b\b\b\b\b\b\b\r90/96 [===========================>..] - ETA: 14s - loss: 0.4751 - acc: 0.8333"
     ]
    },
    {
     "name": "stdout",
     "output_type": "stream",
     "text": [
      "\b\b\b\b\b\b\b\b\b\b\b\b\b\b\b\b\b\b\b\b\b\b\b\b\b\b\b\b\b\b\b\b\b\b\b\b\b\b\b\b\b\b\b\b\b\b\b\b\b\b\b\b\b\b\b\b\b\b\b\b\b\b\b\b\b\b\b\b\b\b\b\b\b\b\b\b\b\b\r96/96 [==============================] - 233s - loss: 0.4692 - acc: 0.8333    "
     ]
    },
    {
     "name": "stdout",
     "output_type": "stream",
     "text": [
      "\nEpoch 3/20\n"
     ]
    },
    {
     "name": "stdout",
     "output_type": "stream",
     "text": [
      "\r10/96 [==>...........................] - ETA: 191s - loss: 0.1397 - acc: 1.0000"
     ]
    },
    {
     "name": "stdout",
     "output_type": "stream",
     "text": [
      "\b\b\b\b\b\b\b\b\b\b\b\b\b\b\b\b\b\b\b\b\b\b\b\b\b\b\b\b\b\b\b\b\b\b\b\b\b\b\b\b\b\b\b\b\b\b\b\b\b\b\b\b\b\b\b\b\b\b\b\b\b\b\b\b\b\b\b\b\b\b\b\b\b\b\b\b\b\b\b\r20/96 [=====>........................] - ETA: 170s - loss: 0.2505 - acc: 0.9500"
     ]
    },
    {
     "name": "stdout",
     "output_type": "stream",
     "text": [
      "\b\b\b\b\b\b\b\b\b\b\b\b\b\b\b\b\b\b\b\b\b\b\b\b\b\b\b\b\b\b\b\b\b\b\b\b\b\b\b\b\b\b\b\b\b\b\b\b\b\b\b\b\b\b\b\b\b\b\b\b\b\b\b\b\b\b\b\b\b\b\b\b\b\b\b\b\b\b\b\r30/96 [========>.....................] - ETA: 147s - loss: 0.3060 - acc: 0.9333"
     ]
    },
    {
     "name": "stdout",
     "output_type": "stream",
     "text": [
      "\b\b\b\b\b\b\b\b\b\b\b\b\b\b\b\b\b\b\b\b\b\b\b\b\b\b\b\b\b\b\b\b\b\b\b\b\b\b\b\b\b\b\b\b\b\b\b\b\b\b\b\b\b\b\b\b\b\b\b\b\b\b\b\b\b\b\b\b\b\b\b\b\b\b\b\b\b\b\b\r40/96 [===========>..................] - ETA: 123s - loss: 0.4304 - acc: 0.8750"
     ]
    },
    {
     "name": "stdout",
     "output_type": "stream",
     "text": [
      "\b\b\b\b\b\b\b\b\b\b\b\b\b\b\b\b\b\b\b\b\b\b\b\b\b\b\b\b\b\b\b\b\b\b\b\b\b\b\b\b\b\b\b\b\b\b\b\b\b\b\b\b\b\b\b\b\b\b\b\b\b\b\b\b\b\b\b\b\b\b\b\b\b\b\b\b\b\b\b\r50/96 [==============>...............] - ETA: 101s - loss: 0.4132 - acc: 0.8800"
     ]
    },
    {
     "name": "stdout",
     "output_type": "stream",
     "text": [
      "\b\b\b\b\b\b\b\b\b\b\b\b\b\b\b\b\b\b\b\b\b\b\b\b\b\b\b\b\b\b\b\b\b\b\b\b\b\b\b\b\b\b\b\b\b\b\b\b\b\b\b\b\b\b\b\b\b\b\b\b\b\b\b\b\b\b\b\b\b\b\b\b\b\b\b\b\b\b\b\r60/96 [=================>............] - ETA: 80s - loss: 0.4348 - acc: 0.8667 "
     ]
    },
    {
     "name": "stdout",
     "output_type": "stream",
     "text": [
      "\b\b\b\b\b\b\b\b\b\b\b\b\b\b\b\b\b\b\b\b\b\b\b\b\b\b\b\b\b\b\b\b\b\b\b\b\b\b\b\b\b\b\b\b\b\b\b\b\b\b\b\b\b\b\b\b\b\b\b\b\b\b\b\b\b\b\b\b\b\b\b\b\b\b\b\b\b\b\r70/96 [====================>.........] - ETA: 63s - loss: 0.4662 - acc: 0.8429"
     ]
    },
    {
     "name": "stdout",
     "output_type": "stream",
     "text": [
      "\b\b\b\b\b\b\b\b\b\b\b\b\b\b\b\b\b\b\b\b\b\b\b\b\b\b\b\b\b\b\b\b\b\b\b\b\b\b\b\b\b\b\b\b\b\b\b\b\b\b\b\b\b\b\b\b\b\b\b\b\b\b\b\b\b\b\b\b\b\b\b\b\b\b\b\b\b\b\r80/96 [========================>.....] - ETA: 39s - loss: 0.4581 - acc: 0.8500"
     ]
    },
    {
     "name": "stdout",
     "output_type": "stream",
     "text": [
      "\b\b\b\b\b\b\b\b\b\b\b\b\b\b\b\b\b\b\b\b\b\b\b\b\b\b\b\b\b\b\b\b\b\b\b\b\b\b\b\b\b\b\b\b\b\b\b\b\b\b\b\b\b\b\b\b\b\b\b\b\b\b\b\b\b\b\b\b\b\b\b\b\b\b\b\b\b\b\r90/96 [===========================>..] - ETA: 45s - loss: 0.4759 - acc: 0.8333"
     ]
    },
    {
     "name": "stdout",
     "output_type": "stream",
     "text": [
      "\b\b\b\b\b\b\b\b\b\b\b\b\b\b\b\b\b\b\b\b\b\b\b\b\b\b\b\b\b\b\b\b\b\b\b\b\b\b\b\b\b\b\b\b\b\b\b\b\b\b\b\b\b\b\b\b\b\b\b\b\b\b\b\b\b\b\b\b\b\b\b\b\b\b\b\b\b\b\r96/96 [==============================] - 704s - loss: 0.4781 - acc: 0.8333    "
     ]
    },
    {
     "name": "stdout",
     "output_type": "stream",
     "text": [
      "\nEpoch 4/20\n"
     ]
    },
    {
     "name": "stdout",
     "output_type": "stream",
     "text": [
      "\r10/96 [==>...........................] - ETA: 195s - loss: 0.4635 - acc: 0.9000"
     ]
    },
    {
     "name": "stdout",
     "output_type": "stream",
     "text": [
      "\b\b\b\b\b\b\b\b\b\b\b\b\b\b\b\b\b\b\b\b\b\b\b\b\b\b\b\b\b\b\b\b\b\b\b\b\b\b\b\b\b\b\b\b\b\b\b\b\b\b\b\b\b\b\b\b\b\b\b\b\b\b\b\b\b\b\b\b\b\b\b\b\b\b\b\b\b\b\b\r20/96 [=====>........................] - ETA: 157s - loss: 0.5794 - acc: 0.7500"
     ]
    },
    {
     "name": "stdout",
     "output_type": "stream",
     "text": [
      "\b\b\b\b\b\b\b\b\b\b\b\b\b\b\b\b\b\b\b\b\b\b\b\b\b\b\b\b\b\b\b\b\b\b\b\b\b\b\b\b\b\b\b\b\b\b\b\b\b\b\b\b\b\b\b\b\b\b\b\b\b\b\b\b\b\b\b\b\b\b\b\b\b\b\b\b\b\b\b\r30/96 [========>.....................] - ETA: 140s - loss: 0.5209 - acc: 0.8333"
     ]
    },
    {
     "name": "stdout",
     "output_type": "stream",
     "text": [
      "\b\b\b\b\b\b\b\b\b\b\b\b\b\b\b\b\b\b\b\b\b\b\b\b\b\b\b\b\b\b\b\b\b\b\b\b\b\b\b\b\b\b\b\b\b\b\b\b\b\b\b\b\b\b\b\b\b\b\b\b\b\b\b\b\b\b\b\b\b\b\b\b\b\b\b\b\b\b\b\r40/96 [===========>..................] - ETA: 129s - loss: 0.5046 - acc: 0.8500"
     ]
    },
    {
     "name": "stdout",
     "output_type": "stream",
     "text": [
      "\b\b\b\b\b\b\b\b\b\b\b\b\b\b\b\b\b\b\b\b\b\b\b\b\b\b\b\b\b\b\b\b\b\b\b\b\b\b\b\b\b\b\b\b\b\b\b\b\b\b\b\b\b\b\b\b\b\b\b\b\b\b\b\b\b\b\b\b\b\b\b\b\b\b\b\b\b\b\b\r50/96 [==============>...............] - ETA: 106s - loss: 0.4949 - acc: 0.8600"
     ]
    },
    {
     "name": "stdout",
     "output_type": "stream",
     "text": [
      "\b\b\b\b\b\b\b\b\b\b\b\b\b\b\b\b\b\b\b\b\b\b\b\b\b\b\b\b\b\b\b\b\b\b\b\b\b\b\b\b\b\b\b\b\b\b\b\b\b\b\b\b\b\b\b\b\b\b\b\b\b\b\b\b\b\b\b\b\b\b\b\b\b\b\b\b\b\b\b\r60/96 [=================>............] - ETA: 83s - loss: 0.5028 - acc: 0.8500 "
     ]
    },
    {
     "name": "stdout",
     "output_type": "stream",
     "text": [
      "\b\b\b\b\b\b\b\b\b\b\b\b\b\b\b\b\b\b\b\b\b\b\b\b\b\b\b\b\b\b\b\b\b\b\b\b\b\b\b\b\b\b\b\b\b\b\b\b\b\b\b\b\b\b\b\b\b\b\b\b\b\b\b\b\b\b\b\b\b\b\b\b\b\b\b\b\b\b\r70/96 [====================>.........] - ETA: 59s - loss: 0.5253 - acc: 0.8286"
     ]
    },
    {
     "name": "stdout",
     "output_type": "stream",
     "text": [
      "\b\b\b\b\b\b\b\b\b\b\b\b\b\b\b\b\b\b\b\b\b\b\b\b\b\b\b\b\b\b\b\b\b\b\b\b\b\b\b\b\b\b\b\b\b\b\b\b\b\b\b\b\b\b\b\b\b\b\b\b\b\b\b\b\b\b\b\b\b\b\b\b\b\b\b\b\b\b\r80/96 [========================>.....] - ETA: 36s - loss: 0.5027 - acc: 0.8375"
     ]
    },
    {
     "name": "stdout",
     "output_type": "stream",
     "text": [
      "\b\b\b\b\b\b\b\b\b\b\b\b\b\b\b\b\b\b\b\b\b\b\b\b\b\b\b\b\b\b\b\b\b\b\b\b\b\b\b\b\b\b\b\b\b\b\b\b\b\b\b\b\b\b\b\b\b\b\b\b\b\b\b\b\b\b\b\b\b\b\b\b\b\b\b\b\b\b\r90/96 [===========================>..] - ETA: 13s - loss: 0.4891 - acc: 0.8444"
     ]
    },
    {
     "name": "stdout",
     "output_type": "stream",
     "text": [
      "\b\b\b\b\b\b\b\b\b\b\b\b\b\b\b\b\b\b\b\b\b\b\b\b\b\b\b\b\b\b\b\b\b\b\b\b\b\b\b\b\b\b\b\b\b\b\b\b\b\b\b\b\b\b\b\b\b\b\b\b\b\b\b\b\b\b\b\b\b\b\b\b\b\b\b\b\b\b\r96/96 [==============================] - 230s - loss: 0.4998 - acc: 0.8333    "
     ]
    },
    {
     "name": "stdout",
     "output_type": "stream",
     "text": [
      "\nEpoch 5/20\n"
     ]
    },
    {
     "name": "stdout",
     "output_type": "stream",
     "text": [
      "\r10/96 [==>...........................] - ETA: 206s - loss: 0.8386 - acc: 0.6000"
     ]
    },
    {
     "name": "stdout",
     "output_type": "stream",
     "text": [
      "\b\b\b\b\b\b\b\b\b\b\b\b\b\b\b\b\b\b\b\b\b\b\b\b\b\b\b\b\b\b\b\b\b\b\b\b\b\b\b\b\b\b\b\b\b\b\b\b\b\b\b\b\b\b\b\b\b\b\b\b\b\b\b\b\b\b\b\b\b\b\b\b\b\b\b\b\b\b\b\r20/96 [=====>........................] - ETA: 174s - loss: 0.5774 - acc: 0.7500"
     ]
    },
    {
     "name": "stdout",
     "output_type": "stream",
     "text": [
      "\b\b\b\b\b\b\b\b\b\b\b\b\b\b\b\b\b\b\b\b\b\b\b\b\b\b\b\b\b\b\b\b\b\b\b\b\b\b\b\b\b\b\b\b\b\b\b\b\b\b\b\b\b\b\b\b\b\b\b\b\b\b\b\b\b\b\b\b\b\b\b\b\b\b\b\b\b\b\b\r30/96 [========>.....................] - ETA: 153s - loss: 0.4343 - acc: 0.8333"
     ]
    },
    {
     "name": "stdout",
     "output_type": "stream",
     "text": [
      "\b\b\b\b\b\b\b\b\b\b\b\b\b\b\b\b\b\b\b\b\b\b\b\b\b\b\b\b\b\b\b\b\b\b\b\b\b\b\b\b\b\b\b\b\b\b\b\b\b\b\b\b\b\b\b\b\b\b\b\b\b\b\b\b\b\b\b\b\b\b\b\b\b\b\b\b\b\b\b\r40/96 [===========>..................] - ETA: 129s - loss: 0.4750 - acc: 0.8250"
     ]
    },
    {
     "name": "stdout",
     "output_type": "stream",
     "text": [
      "\b\b\b\b\b\b\b\b\b\b\b\b\b\b\b\b\b\b\b\b\b\b\b\b\b\b\b\b\b\b\b\b\b\b\b\b\b\b\b\b\b\b\b\b\b\b\b\b\b\b\b\b\b\b\b\b\b\b\b\b\b\b\b\b\b\b\b\b\b\b\b\b\b\b\b\b\b\b\b\r50/96 [==============>...............] - ETA: 106s - loss: 0.5418 - acc: 0.8000"
     ]
    },
    {
     "name": "stdout",
     "output_type": "stream",
     "text": [
      "\b\b\b\b\b\b\b\b\b\b\b\b\b\b\b\b\b\b\b\b\b\b\b\b\b\b\b\b\b\b\b\b\b\b\b\b\b\b\b\b\b\b\b\b\b\b\b\b\b\b\b\b\b\b\b\b\b\b\b\b\b\b\b\b\b\b\b\b\b\b\b\b\b\b\b\b\b\b\b\r60/96 [=================>............] - ETA: 81s - loss: 0.5077 - acc: 0.8167 "
     ]
    },
    {
     "name": "stdout",
     "output_type": "stream",
     "text": [
      "\b\b\b\b\b\b\b\b\b\b\b\b\b\b\b\b\b\b\b\b\b\b\b\b\b\b\b\b\b\b\b\b\b\b\b\b\b\b\b\b\b\b\b\b\b\b\b\b\b\b\b\b\b\b\b\b\b\b\b\b\b\b\b\b\b\b\b\b\b\b\b\b\b\b\b\b\b\b\r70/96 [====================>.........] - ETA: 59s - loss: 0.4801 - acc: 0.8286"
     ]
    },
    {
     "name": "stdout",
     "output_type": "stream",
     "text": [
      "\b\b\b\b\b\b\b\b\b\b\b\b\b\b\b\b\b\b\b\b\b\b\b\b\b\b\b\b\b\b\b\b\b\b\b\b\b\b\b\b\b\b\b\b\b\b\b\b\b\b\b\b\b\b\b\b\b\b\b\b\b\b\b\b\b\b\b\b\b\b\b\b\b\b\b\b\b\b\r80/96 [========================>.....] - ETA: 36s - loss: 0.4454 - acc: 0.8500"
     ]
    },
    {
     "name": "stdout",
     "output_type": "stream",
     "text": [
      "\b\b\b\b\b\b\b\b\b\b\b\b\b\b\b\b\b\b\b\b\b\b\b\b\b\b\b\b\b\b\b\b\b\b\b\b\b\b\b\b\b\b\b\b\b\b\b\b\b\b\b\b\b\b\b\b\b\b\b\b\b\b\b\b\b\b\b\b\b\b\b\b\b\b\b\b\b\b\r90/96 [===========================>..] - ETA: 13s - loss: 0.4654 - acc: 0.8333"
     ]
    },
    {
     "name": "stdout",
     "output_type": "stream",
     "text": [
      "\b\b\b\b\b\b\b\b\b\b\b\b\b\b\b\b\b\b\b\b\b\b\b\b\b\b\b\b\b\b\b\b\b\b\b\b\b\b\b\b\b\b\b\b\b\b\b\b\b\b\b\b\b\b\b\b\b\b\b\b\b\b\b\b\b\b\b\b\b\b\b\b\b\b\b\b\b\b\r96/96 [==============================] - 215s - loss: 0.4653 - acc: 0.8333    "
     ]
    },
    {
     "name": "stdout",
     "output_type": "stream",
     "text": [
      "\nEpoch 6/20\n"
     ]
    },
    {
     "name": "stdout",
     "output_type": "stream",
     "text": [
      "\r10/96 [==>...........................] - ETA: 155s - loss: 0.7665 - acc: 0.7000"
     ]
    },
    {
     "name": "stdout",
     "output_type": "stream",
     "text": [
      "\b\b\b\b\b\b\b\b\b\b\b\b\b\b\b\b\b\b\b\b\b\b\b\b\b\b\b\b\b\b\b\b\b\b\b\b\b\b\b\b\b\b\b\b\b\b\b\b\b\b\b\b\b\b\b\b\b\b\b\b\b\b\b\b\b\b\b\b\b\b\b\b\b\b\b\b\b\b\b\r20/96 [=====>........................] - ETA: 153s - loss: 0.4762 - acc: 0.8500"
     ]
    },
    {
     "name": "stdout",
     "output_type": "stream",
     "text": [
      "\b\b\b\b\b\b\b\b\b\b\b\b\b\b\b\b\b\b\b\b\b\b\b\b\b\b\b\b\b\b\b\b\b\b\b\b\b\b\b\b\b\b\b\b\b\b\b\b\b\b\b\b\b\b\b\b\b\b\b\b\b\b\b\b\b\b\b\b\b\b\b\b\b\b\b\b\b\b\b\r30/96 [========>.....................] - ETA: 129s - loss: 0.4418 - acc: 0.8667"
     ]
    },
    {
     "name": "stdout",
     "output_type": "stream",
     "text": [
      "\b\b\b\b\b\b\b\b\b\b\b\b\b\b\b\b\b\b\b\b\b\b\b\b\b\b\b\b\b\b\b\b\b\b\b\b\b\b\b\b\b\b\b\b\b\b\b\b\b\b\b\b\b\b\b\b\b\b\b\b\b\b\b\b\b\b\b\b\b\b\b\b\b\b\b\b\b\b\b\r40/96 [===========>..................] - ETA: 115s - loss: 0.3832 - acc: 0.9000"
     ]
    },
    {
     "name": "stdout",
     "output_type": "stream",
     "text": [
      "\b\b\b\b\b\b\b\b\b\b\b\b\b\b\b\b\b\b\b\b\b\b\b\b\b\b\b\b\b\b\b\b\b\b\b\b\b\b\b\b\b\b\b\b\b\b\b\b\b\b\b\b\b\b\b\b\b\b\b\b\b\b\b\b\b\b\b\b\b\b\b\b\b\b\b\b\b\b\b\r50/96 [==============>...............] - ETA: 95s - loss: 0.4439 - acc: 0.8600 "
     ]
    },
    {
     "name": "stdout",
     "output_type": "stream",
     "text": [
      "\b\b\b\b\b\b\b\b\b\b\b\b\b\b\b\b\b\b\b\b\b\b\b\b\b\b\b\b\b\b\b\b\b\b\b\b\b\b\b\b\b\b\b\b\b\b\b\b\b\b\b\b\b\b\b\b\b\b\b\b\b\b\b\b\b\b\b\b\b\b\b\b\b\b\b\b\b\b\r60/96 [=================>............] - ETA: 73s - loss: 0.4551 - acc: 0.8500"
     ]
    },
    {
     "name": "stdout",
     "output_type": "stream",
     "text": [
      "\b\b\b\b\b\b\b\b\b\b\b\b\b\b\b\b\b\b\b\b\b\b\b\b\b\b\b\b\b\b\b\b\b\b\b\b\b\b\b\b\b\b\b\b\b\b\b\b\b\b\b\b\b\b\b\b\b\b\b\b\b\b\b\b\b\b\b\b\b\b\b\b\b\b\b\b\b\b\r70/96 [====================>.........] - ETA: 53s - loss: 0.4393 - acc: 0.8571"
     ]
    },
    {
     "name": "stdout",
     "output_type": "stream",
     "text": [
      "\b\b\b\b\b\b\b\b\b\b\b\b\b\b\b\b\b\b\b\b\b\b\b\b\b\b\b\b\b\b\b\b\b\b\b\b\b\b\b\b\b\b\b\b\b\b\b\b\b\b\b\b\b\b\b\b\b\b\b\b\b\b\b\b\b\b\b\b\b\b\b\b\b\b\b\b\b\b\r80/96 [========================>.....] - ETA: 36s - loss: 0.4508 - acc: 0.8500"
     ]
    },
    {
     "name": "stdout",
     "output_type": "stream",
     "text": [
      "\b\b\b\b\b\b\b\b\b\b\b\b\b\b\b\b\b\b\b\b\b\b\b\b\b\b\b\b\b\b\b\b\b\b\b\b\b\b\b\b\b\b\b\b\b\b\b\b\b\b\b\b\b\b\b\b\b\b\b\b\b\b\b\b\b\b\b\b\b\b\b\b\b\b\b\b\b\b\r90/96 [===========================>..] - ETA: 13s - loss: 0.4767 - acc: 0.8333"
     ]
    },
    {
     "name": "stdout",
     "output_type": "stream",
     "text": [
      "\b\b\b\b\b\b\b\b\b\b\b\b\b\b\b\b\b\b\b\b\b\b\b\b\b\b\b\b\b\b\b\b\b\b\b\b\b\b\b\b\b\b\b\b\b\b\b\b\b\b\b\b\b\b\b\b\b\b\b\b\b\b\b\b\b\b\b\b\b\b\b\b\b\b\b\b\b\b\r96/96 [==============================] - 667s - loss: 0.4745 - acc: 0.8333    "
     ]
    },
    {
     "name": "stdout",
     "output_type": "stream",
     "text": [
      "\nEpoch 7/20\n"
     ]
    },
    {
     "name": "stdout",
     "output_type": "stream",
     "text": [
      "\r10/96 [==>...........................] - ETA: 7156s - loss: 0.7464 - acc: 0.6000"
     ]
    },
    {
     "name": "stdout",
     "output_type": "stream",
     "text": [
      "\b\b\b\b\b\b\b\b\b\b\b\b\b\b\b\b\b\b\b\b\b\b\b\b\b\b\b\b\b\b\b\b\b\b\b\b\b\b\b\b\b\b\b\b\b\b\b\b\b\b\b\b\b\b\b\b\b\b\b\b\b\b\b\b\b\b\b\b\b\b\b\b\b\b\b\b\b\b\b\b\r20/96 [=====>........................] - ETA: 4655s - loss: 0.5789 - acc: 0.7500"
     ]
    },
    {
     "name": "stdout",
     "output_type": "stream",
     "text": [
      "\b\b\b\b\b\b\b\b\b\b\b\b\b\b\b\b\b\b\b\b\b\b\b\b\b\b\b\b\b\b\b\b\b\b\b\b\b\b\b\b\b\b\b\b\b\b\b\b\b\b\b\b\b\b\b\b\b\b\b\b\b\b\b\b\b\b\b\b\b\b\b\b\b\b\b\b\b\b\b\b\r30/96 [========>.....................] - ETA: 2983s - loss: 0.5506 - acc: 0.7667"
     ]
    },
    {
     "name": "stdout",
     "output_type": "stream",
     "text": [
      "\b\b\b\b\b\b\b\b\b\b\b\b\b\b\b\b\b\b\b\b\b\b\b\b\b\b\b\b\b\b\b\b\b\b\b\b\b\b\b\b\b\b\b\b\b\b\b\b\b\b\b\b\b\b\b\b\b\b\b\b\b\b\b\b\b\b\b\b\b\b\b\b\b\b\b\b\b\b\b\b\r40/96 [===========>..................] - ETA: 2331s - loss: 0.5246 - acc: 0.8000"
     ]
    },
    {
     "name": "stdout",
     "output_type": "stream",
     "text": [
      "\b\b\b\b\b\b\b\b\b\b\b\b\b\b\b\b\b\b\b\b\b\b\b\b\b\b\b\b\b\b\b\b\b\b\b\b\b\b\b\b\b\b\b\b\b\b\b\b\b\b\b\b\b\b\b\b\b\b\b\b\b\b\b\b\b\b\b\b\b\b\b\b\b\b\b\b\b\b\b\b\r50/96 [==============>...............] - ETA: 1626s - loss: 0.5031 - acc: 0.8200"
     ]
    },
    {
     "name": "stdout",
     "output_type": "stream",
     "text": [
      "\b\b\b\b\b\b\b\b\b\b\b\b\b\b\b\b\b\b\b\b\b\b\b\b\b\b\b\b\b\b\b\b\b\b\b\b\b\b\b\b\b\b\b\b\b\b\b\b\b\b\b\b\b\b\b\b\b\b\b\b\b\b\b\b\b\b\b\b\b\b\b\b\b\b\b\b\b\b\b\b\r60/96 [=================>............] - ETA: 1106s - loss: 0.5017 - acc: 0.8167"
     ]
    },
    {
     "name": "stdout",
     "output_type": "stream",
     "text": [
      "\b\b\b\b\b\b\b\b\b\b\b\b\b\b\b\b\b\b\b\b\b\b\b\b\b\b\b\b\b\b\b\b\b\b\b\b\b\b\b\b\b\b\b\b\b\b\b\b\b\b\b\b\b\b\b\b\b\b\b\b\b\b\b\b\b\b\b\b\b\b\b\b\b\b\b\b\b\b\b\b\r70/96 [====================>.........] - ETA: 800s - loss: 0.4911 - acc: 0.8286 "
     ]
    },
    {
     "name": "stdout",
     "output_type": "stream",
     "text": [
      "\b\b\b\b\b\b\b\b\b\b\b\b\b\b\b\b\b\b\b\b\b\b\b\b\b\b\b\b\b\b\b\b\b\b\b\b\b\b\b\b\b\b\b\b\b\b\b\b\b\b\b\b\b\b\b\b\b\b\b\b\b\b\b\b\b\b\b\b\b\b\b\b\b\b\b\b\b\b\b\r80/96 [========================>.....] - ETA: 537s - loss: 0.4852 - acc: 0.8250"
     ]
    },
    {
     "name": "stdout",
     "output_type": "stream",
     "text": [
      "\b\b\b\b\b\b\b\b\b\b\b\b\b\b\b\b\b\b\b\b\b\b\b\b\b\b\b\b\b\b\b\b\b\b\b\b\b\b\b\b\b\b\b\b\b\b\b\b\b\b\b\b\b\b\b\b\b\b\b\b\b\b\b\b\b\b\b\b\b\b\b\b\b\b\b\b\b\b\b\r90/96 [===========================>..] - ETA: 191s - loss: 0.4926 - acc: 0.8222"
     ]
    },
    {
     "name": "stdout",
     "output_type": "stream",
     "text": [
      "\b\b\b\b\b\b\b\b\b\b\b\b\b\b\b\b\b\b\b\b\b\b\b\b\b\b\b\b\b\b\b\b\b\b\b\b\b\b\b\b\b\b\b\b\b\b\b\b\b\b\b\b\b\b\b\b\b\b\b\b\b\b\b\b\b\b\b\b\b\b\b\b\b\b\b\b\b\b\b\r96/96 [==============================] - 3002s - loss: 0.4731 - acc: 0.8333    "
     ]
    },
    {
     "name": "stdout",
     "output_type": "stream",
     "text": [
      "\nEpoch 8/20\n"
     ]
    },
    {
     "name": "stdout",
     "output_type": "stream",
     "text": [
      "\r10/96 [==>...........................] - ETA: 57862s - loss: 0.9664 - acc: 0.6000"
     ]
    },
    {
     "name": "stdout",
     "output_type": "stream",
     "text": [
      "\b\b\b\b\b\b\b\b\b\b\b\b\b\b\b\b\b\b\b\b\b\b\b\b\b\b\b\b\b\b\b\b\b\b\b\b\b\b\b\b\b\b\b\b\b\b\b\b\b\b\b\b\b\b\b\b\b\b\b\b\b\b\b\b\b\b\b\b\b\b\b\b\b\b\b\b\b\b\b\b\b\r20/96 [=====>........................] - ETA: 27932s - loss: 0.6651 - acc: 0.7500"
     ]
    },
    {
     "name": "stdout",
     "output_type": "stream",
     "text": [
      "\b\b\b\b\b\b\b\b\b\b\b\b\b\b\b\b\b\b\b\b\b\b\b\b\b\b\b\b\b\b\b\b\b\b\b\b\b\b\b\b\b\b\b\b\b\b\b\b\b\b\b\b\b\b\b\b\b\b\b\b\b\b\b\b\b\b\b\b\b\b\b\b\b\b\b\b\b\b\b\b\b\r30/96 [========>.....................] - ETA: 21949s - loss: 0.6054 - acc: 0.7667"
     ]
    },
    {
     "name": "stdout",
     "output_type": "stream",
     "text": [
      "\b\b\b\b\b\b\b\b\b\b\b\b\b\b\b\b\b\b\b\b\b\b\b\b\b\b\b\b\b\b\b\b\b\b\b\b\b\b\b\b\b\b\b\b\b\b\b\b\b\b\b\b\b\b\b\b\b\b\b\b\b\b\b\b\b\b\b\b\b\b\b\b\b\b\b\b\b\b\b\b\b\r40/96 [===========>..................] - ETA: 14038s - loss: 0.5466 - acc: 0.8000"
     ]
    },
    {
     "name": "stdout",
     "output_type": "stream",
     "text": [
      "\b\b\b\b\b\b\b\b\b\b\b\b\b\b\b\b\b\b\b\b\b\b\b\b\b\b\b\b\b\b\b\b\b\b\b\b\b\b\b\b\b\b\b\b\b\b\b\b\b\b\b\b\b\b\b\b\b\b\b\b\b\b\b\b\b\b\b\b\b\b\b\b\b\b\b\b\b\b\b\b\b\r50/96 [==============>...............] - ETA: 9251s - loss: 0.5180 - acc: 0.8000 "
     ]
    },
    {
     "name": "stdout",
     "output_type": "stream",
     "text": [
      "\b\b\b\b\b\b\b\b\b\b\b\b\b\b\b\b\b\b\b\b\b\b\b\b\b\b\b\b\b\b\b\b\b\b\b\b\b\b\b\b\b\b\b\b\b\b\b\b\b\b\b\b\b\b\b\b\b\b\b\b\b\b\b\b\b\b\b\b\b\b\b\b\b\b\b\b\b\b\b\b\r60/96 [=================>............] - ETA: 6046s - loss: 0.5619 - acc: 0.7833"
     ]
    },
    {
     "name": "stdout",
     "output_type": "stream",
     "text": [
      "\b\b\b\b\b\b\b\b\b\b\b\b\b\b\b\b\b\b\b\b\b\b\b\b\b\b\b\b\b\b\b\b\b\b\b\b\b\b\b\b\b\b\b\b\b\b\b\b\b\b\b\b\b\b\b\b\b\b\b\b\b\b\b\b\b\b\b\b\b\b\b\b\b\b\b\b\b\b\b\b\r70/96 [====================>.........] - ETA: 3750s - loss: 0.5102 - acc: 0.8143"
     ]
    },
    {
     "name": "stdout",
     "output_type": "stream",
     "text": [
      "\b\b\b\b\b\b\b\b\b\b\b\b\b\b\b\b\b\b\b\b\b\b\b\b\b\b\b\b\b\b\b\b\b\b\b\b\b\b\b\b\b\b\b\b\b\b\b\b\b\b\b\b\b\b\b\b\b\b\b\b\b\b\b\b\b\b\b\b\b\b\b\b\b\b\b\b\b\b\b\b\r80/96 [========================>.....] - ETA: 2024s - loss: 0.5022 - acc: 0.8125"
     ]
    },
    {
     "name": "stdout",
     "output_type": "stream",
     "text": [
      "\b\b\b\b\b\b\b\b\b\b\b\b\b\b\b\b\b\b\b\b\b\b\b\b\b\b\b\b\b\b\b\b\b\b\b\b\b\b\b\b\b\b\b\b\b\b\b\b\b\b\b\b\b\b\b\b\b\b\b\b\b\b\b\b\b\b\b\b\b\b\b\b\b\b\b\b\b\b\b\b\r90/96 [===========================>..] - ETA: 676s - loss: 0.4870 - acc: 0.8222 "
     ]
    },
    {
     "name": "stdout",
     "output_type": "stream",
     "text": [
      "\b\b\b\b\b\b\b\b\b\b\b\b\b\b\b\b\b\b\b\b\b\b\b\b\b\b\b\b\b\b\b\b\b\b\b\b\b\b\b\b\b\b\b\b\b\b\b\b\b\b\b\b\b\b\b\b\b\b\b\b\b\b\b\b\b\b\b\b\b\b\b\b\b\b\b\b\b\b\b\r96/96 [==============================] - 10156s - loss: 0.4677 - acc: 0.8333   "
     ]
    },
    {
     "name": "stdout",
     "output_type": "stream",
     "text": [
      "\nEpoch 9/20\n"
     ]
    },
    {
     "name": "stdout",
     "output_type": "stream",
     "text": [
      "\r10/96 [==>...........................] - ETA: 165s - loss: 0.4908 - acc: 0.8000"
     ]
    },
    {
     "name": "stdout",
     "output_type": "stream",
     "text": [
      "\b\b\b\b\b\b\b\b\b\b\b\b\b\b\b\b\b\b\b\b\b\b\b\b\b\b\b\b\b\b\b\b\b\b\b\b\b\b\b\b\b\b\b\b\b\b\b\b\b\b\b\b\b\b\b\b\b\b\b\b\b\b\b\b\b\b\b\b\b\b\b\b\b\b\b\b\b\b\b\r20/96 [=====>........................] - ETA: 152s - loss: 0.4939 - acc: 0.8000"
     ]
    },
    {
     "name": "stdout",
     "output_type": "stream",
     "text": [
      "\b\b\b\b\b\b\b\b\b\b\b\b\b\b\b\b\b\b\b\b\b\b\b\b\b\b\b\b\b\b\b\b\b\b\b\b\b\b\b\b\b\b\b\b\b\b\b\b\b\b\b\b\b\b\b\b\b\b\b\b\b\b\b\b\b\b\b\b\b\b\b\b\b\b\b\b\b\b\b\r30/96 [========>.....................] - ETA: 133s - loss: 0.4139 - acc: 0.8667"
     ]
    },
    {
     "name": "stdout",
     "output_type": "stream",
     "text": [
      "\b\b\b\b\b\b\b\b\b\b\b\b\b\b\b\b\b\b\b\b\b\b\b\b\b\b\b\b\b\b\b\b\b\b\b\b\b\b\b\b\b\b\b\b\b\b\b\b\b\b\b\b\b\b\b\b\b\b\b\b\b\b\b\b\b\b\b\b\b\b\b\b\b\b\b\b\b\b\b\r40/96 [===========>..................] - ETA: 109s - loss: 0.3972 - acc: 0.8750"
     ]
    },
    {
     "name": "stdout",
     "output_type": "stream",
     "text": [
      "\b\b\b\b\b\b\b\b\b\b\b\b\b\b\b\b\b\b\b\b\b\b\b\b\b\b\b\b\b\b\b\b\b\b\b\b\b\b\b\b\b\b\b\b\b\b\b\b\b\b\b\b\b\b\b\b\b\b\b\b\b\b\b\b\b\b\b\b\b\b\b\b\b\b\b\b\b\b\b\r50/96 [==============>...............] - ETA: 90s - loss: 0.4204 - acc: 0.8600 "
     ]
    },
    {
     "name": "stdout",
     "output_type": "stream",
     "text": [
      "\b\b\b\b\b\b\b\b\b\b\b\b\b\b\b\b\b\b\b\b\b\b\b\b\b\b\b\b\b\b\b\b\b\b\b\b\b\b\b\b\b\b\b\b\b\b\b\b\b\b\b\b\b\b\b\b\b\b\b\b\b\b\b\b\b\b\b\b\b\b\b\b\b\b\b\b\b\b\r60/96 [=================>............] - ETA: 72s - loss: 0.4923 - acc: 0.8333"
     ]
    },
    {
     "name": "stdout",
     "output_type": "stream",
     "text": [
      "\b\b\b\b\b\b\b\b\b\b\b\b\b\b\b\b\b\b\b\b\b\b\b\b\b\b\b\b\b\b\b\b\b\b\b\b\b\b\b\b\b\b\b\b\b\b\b\b\b\b\b\b\b\b\b\b\b\b\b\b\b\b\b\b\b\b\b\b\b\b\b\b\b\b\b\b\b\b\r70/96 [====================>.........] - ETA: 51s - loss: 0.4562 - acc: 0.8429"
     ]
    },
    {
     "name": "stdout",
     "output_type": "stream",
     "text": [
      "\b\b\b\b\b\b\b\b\b\b\b\b\b\b\b\b\b\b\b\b\b\b\b\b\b\b\b\b\b\b\b\b\b\b\b\b\b\b\b\b\b\b\b\b\b\b\b\b\b\b\b\b\b\b\b\b\b\b\b\b\b\b\b\b\b\b\b\b\b\b\b\b\b\b\b\b\b\b\r80/96 [========================>.....] - ETA: 31s - loss: 0.4532 - acc: 0.8375"
     ]
    },
    {
     "name": "stdout",
     "output_type": "stream",
     "text": [
      "\b\b\b\b\b\b\b\b\b\b\b\b\b\b\b\b\b\b\b\b\b\b\b\b\b\b\b\b\b\b\b\b\b\b\b\b\b\b\b\b\b\b\b\b\b\b\b\b\b\b\b\b\b\b\b\b\b\b\b\b\b\b\b\b\b\b\b\b\b\b\b\b\b\b\b\b\b\b\r90/96 [===========================>..] - ETA: 11s - loss: 0.4602 - acc: 0.8333"
     ]
    },
    {
     "name": "stdout",
     "output_type": "stream",
     "text": [
      "\b\b\b\b\b\b\b\b\b\b\b\b\b\b\b\b\b\b\b\b\b\b\b\b\b\b\b\b\b\b\b\b\b\b\b\b\b\b\b\b\b\b\b\b\b\b\b\b\b\b\b\b\b\b\b\b\b\b\b\b\b\b\b\b\b\b\b\b\b\b\b\b\b\b\b\b\b\b\r96/96 [==============================] - 191s - loss: 0.4624 - acc: 0.8333    "
     ]
    },
    {
     "name": "stdout",
     "output_type": "stream",
     "text": [
      "\nEpoch 10/20\n"
     ]
    },
    {
     "name": "stdout",
     "output_type": "stream",
     "text": [
      "\r10/96 [==>...........................] - ETA: 182s - loss: 0.3891 - acc: 0.9000"
     ]
    },
    {
     "name": "stdout",
     "output_type": "stream",
     "text": [
      "\b\b\b\b\b\b\b\b\b\b\b\b\b\b\b\b\b\b\b\b\b\b\b\b\b\b\b\b\b\b\b\b\b\b\b\b\b\b\b\b\b\b\b\b\b\b\b\b\b\b\b\b\b\b\b\b\b\b\b\b\b\b\b\b\b\b\b\b\b\b\b\b\b\b\b\b\b\b\b\r20/96 [=====>........................] - ETA: 232s - loss: 0.5044 - acc: 0.8000"
     ]
    },
    {
     "name": "stdout",
     "output_type": "stream",
     "text": [
      "\b\b\b\b\b\b\b\b\b\b\b\b\b\b\b\b\b\b\b\b\b\b\b\b\b\b\b\b\b\b\b\b\b\b\b\b\b\b\b\b\b\b\b\b\b\b\b\b\b\b\b\b\b\b\b\b\b\b\b\b\b\b\b\b\b\b\b\b\b\b\b\b\b\b\b\b\b\b\b\r30/96 [========>.....................] - ETA: 207s - loss: 0.5028 - acc: 0.8000"
     ]
    },
    {
     "name": "stdout",
     "output_type": "stream",
     "text": [
      "\b\b\b\b\b\b\b\b\b\b\b\b\b\b\b\b\b\b\b\b\b\b\b\b\b\b\b\b\b\b\b\b\b\b\b\b\b\b\b\b\b\b\b\b\b\b\b\b\b\b\b\b\b\b\b\b\b\b\b\b\b\b\b\b\b\b\b\b\b\b\b\b\b\b\b\b\b\b\b\r40/96 [===========>..................] - ETA: 188s - loss: 0.4767 - acc: 0.8250"
     ]
    },
    {
     "name": "stdout",
     "output_type": "stream",
     "text": [
      "\b\b\b\b\b\b\b\b\b\b\b\b\b\b\b\b\b\b\b\b\b\b\b\b\b\b\b\b\b\b\b\b\b\b\b\b\b\b\b\b\b\b\b\b\b\b\b\b\b\b\b\b\b\b\b\b\b\b\b\b\b\b\b\b\b\b\b\b\b\b\b\b\b\b\b\b\b\b\b\r50/96 [==============>...............] - ETA: 166s - loss: 0.4842 - acc: 0.8200"
     ]
    },
    {
     "name": "stdout",
     "output_type": "stream",
     "text": [
      "\b\b\b\b\b\b\b\b\b\b\b\b\b\b\b\b\b\b\b\b\b\b\b\b\b\b\b\b\b\b\b\b\b\b\b\b\b\b\b\b\b\b\b\b\b\b\b\b\b\b\b\b\b\b\b\b\b\b\b\b\b\b\b\b\b\b\b\b\b\b\b\b\b\b\b\b\b\b\b\r60/96 [=================>............] - ETA: 127s - loss: 0.4928 - acc: 0.8167"
     ]
    },
    {
     "name": "stdout",
     "output_type": "stream",
     "text": [
      "\b\b\b\b\b\b\b\b\b\b\b\b\b\b\b\b\b\b\b\b\b\b\b\b\b\b\b\b\b\b\b\b\b\b\b\b\b\b\b\b\b\b\b\b\b\b\b\b\b\b\b\b\b\b\b\b\b\b\b\b\b\b\b\b\b\b\b\b\b\b\b\b\b\b\b\b\b\b\b\r70/96 [====================>.........] - ETA: 88s - loss: 0.5001 - acc: 0.8143 "
     ]
    },
    {
     "name": "stdout",
     "output_type": "stream",
     "text": [
      "\b\b\b\b\b\b\b\b\b\b\b\b\b\b\b\b\b\b\b\b\b\b\b\b\b\b\b\b\b\b\b\b\b\b\b\b\b\b\b\b\b\b\b\b\b\b\b\b\b\b\b\b\b\b\b\b\b\b\b\b\b\b\b\b\b\b\b\b\b\b\b\b\b\b\b\b\b\b\r80/96 [========================>.....] - ETA: 52s - loss: 0.4879 - acc: 0.8250"
     ]
    },
    {
     "name": "stdout",
     "output_type": "stream",
     "text": [
      "\b\b\b\b\b\b\b\b\b\b\b\b\b\b\b\b\b\b\b\b\b\b\b\b\b\b\b\b\b\b\b\b\b\b\b\b\b\b\b\b\b\b\b\b\b\b\b\b\b\b\b\b\b\b\b\b\b\b\b\b\b\b\b\b\b\b\b\b\b\b\b\b\b\b\b\b\b\b\r90/96 [===========================>..] - ETA: 19s - loss: 0.4673 - acc: 0.8333"
     ]
    },
    {
     "name": "stdout",
     "output_type": "stream",
     "text": [
      "\b\b\b\b\b\b\b\b\b\b\b\b\b\b\b\b\b\b\b\b\b\b\b\b\b\b\b\b\b\b\b\b\b\b\b\b\b\b\b\b\b\b\b\b\b\b\b\b\b\b\b\b\b\b\b\b\b\b\b\b\b\b\b\b\b\b\b\b\b\b\b\b\b\b\b\b\b\b\r96/96 [==============================] - 317s - loss: 0.4674 - acc: 0.8333    "
     ]
    },
    {
     "name": "stdout",
     "output_type": "stream",
     "text": [
      "\nEpoch 11/20\n"
     ]
    },
    {
     "name": "stdout",
     "output_type": "stream",
     "text": [
      "\r10/96 [==>...........................] - ETA: 277s - loss: 0.2171 - acc: 1.0000"
     ]
    },
    {
     "name": "stdout",
     "output_type": "stream",
     "text": [
      "\b\b\b\b\b\b\b\b\b\b\b\b\b\b\b\b\b\b\b\b\b\b\b\b\b\b\b\b\b\b\b\b\b\b\b\b\b\b\b\b\b\b\b\b\b\b\b\b\b\b\b\b\b\b\b\b\b\b\b\b\b\b\b\b\b\b\b\b\b\b\b\b\b\b\b\b\b\b\b\r20/96 [=====>........................] - ETA: 211s - loss: 0.3935 - acc: 0.9000"
     ]
    },
    {
     "name": "stdout",
     "output_type": "stream",
     "text": [
      "\b\b\b\b\b\b\b\b\b\b\b\b\b\b\b\b\b\b\b\b\b\b\b\b\b\b\b\b\b\b\b\b\b\b\b\b\b\b\b\b\b\b\b\b\b\b\b\b\b\b\b\b\b\b\b\b\b\b\b\b\b\b\b\b\b\b\b\b\b\b\b\b\b\b\b\b\b\b\b\r30/96 [========>.....................] - ETA: 169s - loss: 0.4402 - acc: 0.8667"
     ]
    },
    {
     "name": "stdout",
     "output_type": "stream",
     "text": [
      "\b\b\b\b\b\b\b\b\b\b\b\b\b\b\b\b\b\b\b\b\b\b\b\b\b\b\b\b\b\b\b\b\b\b\b\b\b\b\b\b\b\b\b\b\b\b\b\b\b\b\b\b\b\b\b\b\b\b\b\b\b\b\b\b\b\b\b\b\b\b\b\b\b\b\b\b\b\b\b\r40/96 [===========>..................] - ETA: 163s - loss: 0.4652 - acc: 0.8500"
     ]
    },
    {
     "name": "stdout",
     "output_type": "stream",
     "text": [
      "\b\b\b\b\b\b\b\b\b\b\b\b\b\b\b\b\b\b\b\b\b\b\b\b\b\b\b\b\b\b\b\b\b\b\b\b\b\b\b\b\b\b\b\b\b\b\b\b\b\b\b\b\b\b\b\b\b\b\b\b\b\b\b\b\b\b\b\b\b\b\b\b\b\b\b\b\b\b\b\r50/96 [==============>...............] - ETA: 147s - loss: 0.5011 - acc: 0.8400"
     ]
    },
    {
     "name": "stdout",
     "output_type": "stream",
     "text": [
      "\b\b\b\b\b\b\b\b\b\b\b\b\b\b\b\b\b\b\b\b\b\b\b\b\b\b\b\b\b\b\b\b\b\b\b\b\b\b\b\b\b\b\b\b\b\b\b\b\b\b\b\b\b\b\b\b\b\b\b\b\b\b\b\b\b\b\b\b\b\b\b\b\b\b\b\b\b\b\b\r60/96 [=================>............] - ETA: 115s - loss: 0.4709 - acc: 0.8500"
     ]
    },
    {
     "name": "stdout",
     "output_type": "stream",
     "text": [
      "\b\b\b\b\b\b\b\b\b\b\b\b\b\b\b\b\b\b\b\b\b\b\b\b\b\b\b\b\b\b\b\b\b\b\b\b\b\b\b\b\b\b\b\b\b\b\b\b\b\b\b\b\b\b\b\b\b\b\b\b\b\b\b\b\b\b\b\b\b\b\b\b\b\b\b\b\b\b\b\r70/96 [====================>.........] - ETA: 90s - loss: 0.4431 - acc: 0.8571 "
     ]
    },
    {
     "name": "stdout",
     "output_type": "stream",
     "text": [
      "\b\b\b\b\b\b\b\b\b\b\b\b\b\b\b\b\b\b\b\b\b\b\b\b\b\b\b\b\b\b\b\b\b\b\b\b\b\b\b\b\b\b\b\b\b\b\b\b\b\b\b\b\b\b\b\b\b\b\b\b\b\b\b\b\b\b\b\b\b\b\b\b\b\b\b\b\b\b\r80/96 [========================>.....] - ETA: 57s - loss: 0.4755 - acc: 0.8375"
     ]
    },
    {
     "name": "stdout",
     "output_type": "stream",
     "text": [
      "\b\b\b\b\b\b\b\b\b\b\b\b\b\b\b\b\b\b\b\b\b\b\b\b\b\b\b\b\b\b\b\b\b\b\b\b\b\b\b\b\b\b\b\b\b\b\b\b\b\b\b\b\b\b\b\b\b\b\b\b\b\b\b\b\b\b\b\b\b\b\b\b\b\b\b\b\b\b\r90/96 [===========================>..] - ETA: 21s - loss: 0.4712 - acc: 0.8333"
     ]
    },
    {
     "name": "stdout",
     "output_type": "stream",
     "text": [
      "\b\b\b\b\b\b\b\b\b\b\b\b\b\b\b\b\b\b\b\b\b\b\b\b\b\b\b\b\b\b\b\b\b\b\b\b\b\b\b\b\b\b\b\b\b\b\b\b\b\b\b\b\b\b\b\b\b\b\b\b\b\b\b\b\b\b\b\b\b\b\b\b\b\b\b\b\b\b\r96/96 [==============================] - 343s - loss: 0.4712 - acc: 0.8333    "
     ]
    },
    {
     "name": "stdout",
     "output_type": "stream",
     "text": [
      "\nEpoch 12/20\n"
     ]
    },
    {
     "name": "stdout",
     "output_type": "stream",
     "text": [
      "\r10/96 [==>...........................] - ETA: 221s - loss: 0.4035 - acc: 0.9000"
     ]
    },
    {
     "name": "stdout",
     "output_type": "stream",
     "text": [
      "\b\b\b\b\b\b\b\b\b\b\b\b\b\b\b\b\b\b\b\b\b\b\b\b\b\b\b\b\b\b\b\b\b\b\b\b\b\b\b\b\b\b\b\b\b\b\b\b\b\b\b\b\b\b\b\b\b\b\b\b\b\b\b\b\b\b\b\b\b\b\b\b\b\b\b\b\b\b\b\r20/96 [=====>........................] - ETA: 231s - loss: 0.3990 - acc: 0.9000"
     ]
    },
    {
     "name": "stdout",
     "output_type": "stream",
     "text": [
      "\b\b\b\b\b\b\b\b\b\b\b\b\b\b\b\b\b\b\b\b\b\b\b\b\b\b\b\b\b\b\b\b\b\b\b\b\b\b\b\b\b\b\b\b\b\b\b\b\b\b\b\b\b\b\b\b\b\b\b\b\b\b\b\b\b\b\b\b\b\b\b\b\b\b\b\b\b\b\b\r30/96 [========>.....................] - ETA: 203s - loss: 0.4295 - acc: 0.8667"
     ]
    },
    {
     "name": "stdout",
     "output_type": "stream",
     "text": [
      "\b\b\b\b\b\b\b\b\b\b\b\b\b\b\b\b\b\b\b\b\b\b\b\b\b\b\b\b\b\b\b\b\b\b\b\b\b\b\b\b\b\b\b\b\b\b\b\b\b\b\b\b\b\b\b\b\b\b\b\b\b\b\b\b\b\b\b\b\b\b\b\b\b\b\b\b\b\b\b\r40/96 [===========>..................] - ETA: 179s - loss: 0.3915 - acc: 0.9000"
     ]
    },
    {
     "name": "stdout",
     "output_type": "stream",
     "text": [
      "\b\b\b\b\b\b\b\b\b\b\b\b\b\b\b\b\b\b\b\b\b\b\b\b\b\b\b\b\b\b\b\b\b\b\b\b\b\b\b\b\b\b\b\b\b\b\b\b\b\b\b\b\b\b\b\b\b\b\b\b\b\b\b\b\b\b\b\b\b\b\b\b\b\b\b\b\b\b\b\r50/96 [==============>...............] - ETA: 143s - loss: 0.3631 - acc: 0.9200"
     ]
    },
    {
     "name": "stdout",
     "output_type": "stream",
     "text": [
      "\b\b\b\b\b\b\b\b\b\b\b\b\b\b\b\b\b\b\b\b\b\b\b\b\b\b\b\b\b\b\b\b\b\b\b\b\b\b\b\b\b\b\b\b\b\b\b\b\b\b\b\b\b\b\b\b\b\b\b\b\b\b\b\b\b\b\b\b\b\b\b\b\b\b\b\b\b\b\b\r60/96 [=================>............] - ETA: 110s - loss: 0.4168 - acc: 0.8833"
     ]
    },
    {
     "name": "stdout",
     "output_type": "stream",
     "text": [
      "\b\b\b\b\b\b\b\b\b\b\b\b\b\b\b\b\b\b\b\b\b\b\b\b\b\b\b\b\b\b\b\b\b\b\b\b\b\b\b\b\b\b\b\b\b\b\b\b\b\b\b\b\b\b\b\b\b\b\b\b\b\b\b\b\b\b\b\b\b\b\b\b\b\b\b\b\b\b\b\r70/96 [====================>.........] - ETA: 79s - loss: 0.4759 - acc: 0.8429 "
     ]
    },
    {
     "name": "stdout",
     "output_type": "stream",
     "text": [
      "\b\b\b\b\b\b\b\b\b\b\b\b\b\b\b\b\b\b\b\b\b\b\b\b\b\b\b\b\b\b\b\b\b\b\b\b\b\b\b\b\b\b\b\b\b\b\b\b\b\b\b\b\b\b\b\b\b\b\b\b\b\b\b\b\b\b\b\b\b\b\b\b\b\b\b\b\b\b\r80/96 [========================>.....] - ETA: 47s - loss: 0.4619 - acc: 0.8500"
     ]
    },
    {
     "name": "stdout",
     "output_type": "stream",
     "text": [
      "\b\b\b\b\b\b\b\b\b\b\b\b\b\b\b\b\b\b\b\b\b\b\b\b\b\b\b\b\b\b\b\b\b\b\b\b\b\b\b\b\b\b\b\b\b\b\b\b\b\b\b\b\b\b\b\b\b\b\b\b\b\b\b\b\b\b\b\b\b\b\b\b\b\b\b\b\b\b\r90/96 [===========================>..] - ETA: 17s - loss: 0.4770 - acc: 0.8444"
     ]
    },
    {
     "name": "stdout",
     "output_type": "stream",
     "text": [
      "\b\b\b\b\b\b\b\b\b\b\b\b\b\b\b\b\b\b\b\b\b\b\b\b\b\b\b\b\b\b\b\b\b\b\b\b\b\b\b\b\b\b\b\b\b\b\b\b\b\b\b\b\b\b\b\b\b\b\b\b\b\b\b\b\b\b\b\b\b\b\b\b\b\b\b\b\b\b\r96/96 [==============================] - 295s - loss: 0.4939 - acc: 0.8333    "
     ]
    },
    {
     "name": "stdout",
     "output_type": "stream",
     "text": [
      "\nEpoch 13/20\n"
     ]
    },
    {
     "name": "stdout",
     "output_type": "stream",
     "text": [
      "\r10/96 [==>...........................] - ETA: 292s - loss: 0.4513 - acc: 0.8000"
     ]
    },
    {
     "name": "stdout",
     "output_type": "stream",
     "text": [
      "\b\b\b\b\b\b\b\b\b\b\b\b\b\b\b\b\b\b\b\b\b\b\b\b\b\b\b\b\b\b\b\b\b\b\b\b\b\b\b\b\b\b\b\b\b\b\b\b\b\b\b\b\b\b\b\b\b\b\b\b\b\b\b\b\b\b\b\b\b\b\b\b\b\b\b\b\b\b\b\r20/96 [=====>........................] - ETA: 269s - loss: 0.4244 - acc: 0.8500"
     ]
    },
    {
     "name": "stdout",
     "output_type": "stream",
     "text": [
      "\b\b\b\b\b\b\b\b\b\b\b\b\b\b\b\b\b\b\b\b\b\b\b\b\b\b\b\b\b\b\b\b\b\b\b\b\b\b\b\b\b\b\b\b\b\b\b\b\b\b\b\b\b\b\b\b\b\b\b\b\b\b\b\b\b\b\b\b\b\b\b\b\b\b\b\b\b\b\b\r30/96 [========>.....................] - ETA: 247s - loss: 0.4126 - acc: 0.8667"
     ]
    },
    {
     "name": "stdout",
     "output_type": "stream",
     "text": [
      "\b\b\b\b\b\b\b\b\b\b\b\b\b\b\b\b\b\b\b\b\b\b\b\b\b\b\b\b\b\b\b\b\b\b\b\b\b\b\b\b\b\b\b\b\b\b\b\b\b\b\b\b\b\b\b\b\b\b\b\b\b\b\b\b\b\b\b\b\b\b\b\b\b\b\b\b\b\b\b\r40/96 [===========>..................] - ETA: 201s - loss: 0.4320 - acc: 0.8500"
     ]
    },
    {
     "name": "stdout",
     "output_type": "stream",
     "text": [
      "\b\b\b\b\b\b\b\b\b\b\b\b\b\b\b\b\b\b\b\b\b\b\b\b\b\b\b\b\b\b\b\b\b\b\b\b\b\b\b\b\b\b\b\b\b\b\b\b\b\b\b\b\b\b\b\b\b\b\b\b\b\b\b\b\b\b\b\b\b\b\b\b\b\b\b\b\b\b\b\r50/96 [==============>...............] - ETA: 156s - loss: 0.4337 - acc: 0.8600"
     ]
    },
    {
     "name": "stdout",
     "output_type": "stream",
     "text": [
      "\b\b\b\b\b\b\b\b\b\b\b\b\b\b\b\b\b\b\b\b\b\b\b\b\b\b\b\b\b\b\b\b\b\b\b\b\b\b\b\b\b\b\b\b\b\b\b\b\b\b\b\b\b\b\b\b\b\b\b\b\b\b\b\b\b\b\b\b\b\b\b\b\b\b\b\b\b\b\b\r60/96 [=================>............] - ETA: 121s - loss: 0.4268 - acc: 0.8667"
     ]
    },
    {
     "name": "stdout",
     "output_type": "stream",
     "text": [
      "\b\b\b\b\b\b\b\b\b\b\b\b\b\b\b\b\b\b\b\b\b\b\b\b\b\b\b\b\b\b\b\b\b\b\b\b\b\b\b\b\b\b\b\b\b\b\b\b\b\b\b\b\b\b\b\b\b\b\b\b\b\b\b\b\b\b\b\b\b\b\b\b\b\b\b\b\b\b\b\r70/96 [====================>.........] - ETA: 84s - loss: 0.4685 - acc: 0.8429 "
     ]
    },
    {
     "name": "stdout",
     "output_type": "stream",
     "text": [
      "\b\b\b\b\b\b\b\b\b\b\b\b\b\b\b\b\b\b\b\b\b\b\b\b\b\b\b\b\b\b\b\b\b\b\b\b\b\b\b\b\b\b\b\b\b\b\b\b\b\b\b\b\b\b\b\b\b\b\b\b\b\b\b\b\b\b\b\b\b\b\b\b\b\b\b\b\b\b\r80/96 [========================>.....] - ETA: 51s - loss: 0.4556 - acc: 0.8500"
     ]
    },
    {
     "name": "stdout",
     "output_type": "stream",
     "text": [
      "\b\b\b\b\b\b\b\b\b\b\b\b\b\b\b\b\b\b\b\b\b\b\b\b\b\b\b\b\b\b\b\b\b\b\b\b\b\b\b\b\b\b\b\b\b\b\b\b\b\b\b\b\b\b\b\b\b\b\b\b\b\b\b\b\b\b\b\b\b\b\b\b\b\b\b\b\b\b\r90/96 [===========================>..] - ETA: 19s - loss: 0.4615 - acc: 0.8444"
     ]
    },
    {
     "name": "stdout",
     "output_type": "stream",
     "text": [
      "\b\b\b\b\b\b\b\b\b\b\b\b\b\b\b\b\b\b\b\b\b\b\b\b\b\b\b\b\b\b\b\b\b\b\b\b\b\b\b\b\b\b\b\b\b\b\b\b\b\b\b\b\b\b\b\b\b\b\b\b\b\b\b\b\b\b\b\b\b\b\b\b\b\b\b\b\b\b\r96/96 [==============================] - 320s - loss: 0.4773 - acc: 0.8333    "
     ]
    },
    {
     "name": "stdout",
     "output_type": "stream",
     "text": [
      "\nEpoch 14/20\n"
     ]
    },
    {
     "name": "stdout",
     "output_type": "stream",
     "text": [
      "\r10/96 [==>...........................] - ETA: 254s - loss: 0.6476 - acc: 0.7000"
     ]
    },
    {
     "name": "stdout",
     "output_type": "stream",
     "text": [
      "\b\b\b\b\b\b\b\b\b\b\b\b\b\b\b\b\b\b\b\b\b\b\b\b\b\b\b\b\b\b\b\b\b\b\b\b\b\b\b\b\b\b\b\b\b\b\b\b\b\b\b\b\b\b\b\b\b\b\b\b\b\b\b\b\b\b\b\b\b\b\b\b\b\b\b\b\b\b\b\r20/96 [=====>........................] - ETA: 225s - loss: 0.4287 - acc: 0.8500"
     ]
    },
    {
     "name": "stdout",
     "output_type": "stream",
     "text": [
      "\b\b\b\b\b\b\b\b\b\b\b\b\b\b\b\b\b\b\b\b\b\b\b\b\b\b\b\b\b\b\b\b\b\b\b\b\b\b\b\b\b\b\b\b\b\b\b\b\b\b\b\b\b\b\b\b\b\b\b\b\b\b\b\b\b\b\b\b\b\b\b\b\b\b\b\b\b\b\b\r30/96 [========>.....................] - ETA: 227s - loss: 0.4519 - acc: 0.8333"
     ]
    },
    {
     "name": "stdout",
     "output_type": "stream",
     "text": [
      "\b\b\b\b\b\b\b\b\b\b\b\b\b\b\b\b\b\b\b\b\b\b\b\b\b\b\b\b\b\b\b\b\b\b\b\b\b\b\b\b\b\b\b\b\b\b\b\b\b\b\b\b\b\b\b\b\b\b\b\b\b\b\b\b\b\b\b\b\b\b\b\b\b\b\b\b\b\b\b\r40/96 [===========>..................] - ETA: 193s - loss: 0.4565 - acc: 0.8250"
     ]
    },
    {
     "name": "stdout",
     "output_type": "stream",
     "text": [
      "\b\b\b\b\b\b\b\b\b\b\b\b\b\b\b\b\b\b\b\b\b\b\b\b\b\b\b\b\b\b\b\b\b\b\b\b\b\b\b\b\b\b\b\b\b\b\b\b\b\b\b\b\b\b\b\b\b\b\b\b\b\b\b\b\b\b\b\b\b\b\b\b\b\b\b\b\b\b\b\r50/96 [==============>...............] - ETA: 149s - loss: 0.4402 - acc: 0.8400"
     ]
    },
    {
     "name": "stdout",
     "output_type": "stream",
     "text": [
      "\b\b\b\b\b\b\b\b\b\b\b\b\b\b\b\b\b\b\b\b\b\b\b\b\b\b\b\b\b\b\b\b\b\b\b\b\b\b\b\b\b\b\b\b\b\b\b\b\b\b\b\b\b\b\b\b\b\b\b\b\b\b\b\b\b\b\b\b\b\b\b\b\b\b\b\b\b\b\b\r60/96 [=================>............] - ETA: 112s - loss: 0.3991 - acc: 0.8667"
     ]
    },
    {
     "name": "stdout",
     "output_type": "stream",
     "text": [
      "\b\b\b\b\b\b\b\b\b\b\b\b\b\b\b\b\b\b\b\b\b\b\b\b\b\b\b\b\b\b\b\b\b\b\b\b\b\b\b\b\b\b\b\b\b\b\b\b\b\b\b\b\b\b\b\b\b\b\b\b\b\b\b\b\b\b\b\b\b\b\b\b\b\b\b\b\b\b\b\r70/96 [====================>.........] - ETA: 86s - loss: 0.4132 - acc: 0.8571 "
     ]
    },
    {
     "name": "stdout",
     "output_type": "stream",
     "text": [
      "\b\b\b\b\b\b\b\b\b\b\b\b\b\b\b\b\b\b\b\b\b\b\b\b\b\b\b\b\b\b\b\b\b\b\b\b\b\b\b\b\b\b\b\b\b\b\b\b\b\b\b\b\b\b\b\b\b\b\b\b\b\b\b\b\b\b\b\b\b\b\b\b\b\b\b\b\b\b\r80/96 [========================>.....] - ETA: 53s - loss: 0.4804 - acc: 0.8125"
     ]
    },
    {
     "name": "stdout",
     "output_type": "stream",
     "text": [
      "\b\b\b\b\b\b\b\b\b\b\b\b\b\b\b\b\b\b\b\b\b\b\b\b\b\b\b\b\b\b\b\b\b\b\b\b\b\b\b\b\b\b\b\b\b\b\b\b\b\b\b\b\b\b\b\b\b\b\b\b\b\b\b\b\b\b\b\b\b\b\b\b\b\b\b\b\b\b\r90/96 [===========================>..] - ETA: 20s - loss: 0.4496 - acc: 0.8333"
     ]
    },
    {
     "name": "stdout",
     "output_type": "stream",
     "text": [
      "\b\b\b\b\b\b\b\b\b\b\b\b\b\b\b\b\b\b\b\b\b\b\b\b\b\b\b\b\b\b\b\b\b\b\b\b\b\b\b\b\b\b\b\b\b\b\b\b\b\b\b\b\b\b\b\b\b\b\b\b\b\b\b\b\b\b\b\b\b\b\b\b\b\b\b\b\b\b\r96/96 [==============================] - 335s - loss: 0.4522 - acc: 0.8333    "
     ]
    },
    {
     "name": "stdout",
     "output_type": "stream",
     "text": [
      "\nEpoch 15/20\n"
     ]
    },
    {
     "name": "stdout",
     "output_type": "stream",
     "text": [
      "\r10/96 [==>...........................] - ETA: 224s - loss: 0.3478 - acc: 0.9000"
     ]
    },
    {
     "name": "stdout",
     "output_type": "stream",
     "text": [
      "\b\b\b\b\b\b\b\b\b\b\b\b\b\b\b\b\b\b\b\b\b\b\b\b\b\b\b\b\b\b\b\b\b\b\b\b\b\b\b\b\b\b\b\b\b\b\b\b\b\b\b\b\b\b\b\b\b\b\b\b\b\b\b\b\b\b\b\b\b\b\b\b\b\b\b\b\b\b\b\r20/96 [=====>........................] - ETA: 231s - loss: 0.4435 - acc: 0.8500"
     ]
    },
    {
     "name": "stdout",
     "output_type": "stream",
     "text": [
      "\b\b\b\b\b\b\b\b\b\b\b\b\b\b\b\b\b\b\b\b\b\b\b\b\b\b\b\b\b\b\b\b\b\b\b\b\b\b\b\b\b\b\b\b\b\b\b\b\b\b\b\b\b\b\b\b\b\b\b\b\b\b\b\b\b\b\b\b\b\b\b\b\b\b\b\b\b\b\b\r30/96 [========>.....................] - ETA: 219s - loss: 0.5251 - acc: 0.8000"
     ]
    },
    {
     "name": "stdout",
     "output_type": "stream",
     "text": [
      "\b\b\b\b\b\b\b\b\b\b\b\b\b\b\b\b\b\b\b\b\b\b\b\b\b\b\b\b\b\b\b\b\b\b\b\b\b\b\b\b\b\b\b\b\b\b\b\b\b\b\b\b\b\b\b\b\b\b\b\b\b\b\b\b\b\b\b\b\b\b\b\b\b\b\b\b\b\b\b\r40/96 [===========>..................] - ETA: 200s - loss: 0.5051 - acc: 0.8000"
     ]
    },
    {
     "name": "stdout",
     "output_type": "stream",
     "text": [
      "\b\b\b\b\b\b\b\b\b\b\b\b\b\b\b\b\b\b\b\b\b\b\b\b\b\b\b\b\b\b\b\b\b\b\b\b\b\b\b\b\b\b\b\b\b\b\b\b\b\b\b\b\b\b\b\b\b\b\b\b\b\b\b\b\b\b\b\b\b\b\b\b\b\b\b\b\b\b\b\r50/96 [==============>...............] - ETA: 164s - loss: 0.4506 - acc: 0.8400"
     ]
    },
    {
     "name": "stdout",
     "output_type": "stream",
     "text": [
      "\b\b\b\b\b\b\b\b\b\b\b\b\b\b\b\b\b\b\b\b\b\b\b\b\b\b\b\b\b\b\b\b\b\b\b\b\b\b\b\b\b\b\b\b\b\b\b\b\b\b\b\b\b\b\b\b\b\b\b\b\b\b\b\b\b\b\b\b\b\b\b\b\b\b\b\b\b\b\b\r60/96 [=================>............] - ETA: 137s - loss: 0.4356 - acc: 0.8500"
     ]
    },
    {
     "name": "stdout",
     "output_type": "stream",
     "text": [
      "\b\b\b\b\b\b\b\b\b\b\b\b\b\b\b\b\b\b\b\b\b\b\b\b\b\b\b\b\b\b\b\b\b\b\b\b\b\b\b\b\b\b\b\b\b\b\b\b\b\b\b\b\b\b\b\b\b\b\b\b\b\b\b\b\b\b\b\b\b\b\b\b\b\b\b\b\b\b\b\r70/96 [====================>.........] - ETA: 96s - loss: 0.4339 - acc: 0.8571 "
     ]
    },
    {
     "name": "stdout",
     "output_type": "stream",
     "text": [
      "\b\b\b\b\b\b\b\b\b\b\b\b\b\b\b\b\b\b\b\b\b\b\b\b\b\b\b\b\b\b\b\b\b\b\b\b\b\b\b\b\b\b\b\b\b\b\b\b\b\b\b\b\b\b\b\b\b\b\b\b\b\b\b\b\b\b\b\b\b\b\b\b\b\b\b\b\b\b\r80/96 [========================>.....] - ETA: 57s - loss: 0.4013 - acc: 0.8750"
     ]
    },
    {
     "name": "stdout",
     "output_type": "stream",
     "text": [
      "\b\b\b\b\b\b\b\b\b\b\b\b\b\b\b\b\b\b\b\b\b\b\b\b\b\b\b\b\b\b\b\b\b\b\b\b\b\b\b\b\b\b\b\b\b\b\b\b\b\b\b\b\b\b\b\b\b\b\b\b\b\b\b\b\b\b\b\b\b\b\b\b\b\b\b\b\b\b\r90/96 [===========================>..] - ETA: 21s - loss: 0.4311 - acc: 0.8556"
     ]
    },
    {
     "name": "stdout",
     "output_type": "stream",
     "text": [
      "\b\b\b\b\b\b\b\b\b\b\b\b\b\b\b\b\b\b\b\b\b\b\b\b\b\b\b\b\b\b\b\b\b\b\b\b\b\b\b\b\b\b\b\b\b\b\b\b\b\b\b\b\b\b\b\b\b\b\b\b\b\b\b\b\b\b\b\b\b\b\b\b\b\b\b\b\b\b\r96/96 [==============================] - 347s - loss: 0.4755 - acc: 0.8333    "
     ]
    },
    {
     "name": "stdout",
     "output_type": "stream",
     "text": [
      "\nEpoch 16/20\n"
     ]
    },
    {
     "name": "stdout",
     "output_type": "stream",
     "text": [
      "\r10/96 [==>...........................] - ETA: 344s - loss: 0.6726 - acc: 0.7000"
     ]
    },
    {
     "name": "stdout",
     "output_type": "stream",
     "text": [
      "\b\b\b\b\b\b\b\b\b\b\b\b\b\b\b\b\b\b\b\b\b\b\b\b\b\b\b\b\b\b\b\b\b\b\b\b\b\b\b\b\b\b\b\b\b\b\b\b\b\b\b\b\b\b\b\b\b\b\b\b\b\b\b\b\b\b\b\b\b\b\b\b\b\b\b\b\b\b\b\r20/96 [=====>........................] - ETA: 252s - loss: 0.5082 - acc: 0.8000"
     ]
    },
    {
     "name": "stdout",
     "output_type": "stream",
     "text": [
      "\b\b\b\b\b\b\b\b\b\b\b\b\b\b\b\b\b\b\b\b\b\b\b\b\b\b\b\b\b\b\b\b\b\b\b\b\b\b\b\b\b\b\b\b\b\b\b\b\b\b\b\b\b\b\b\b\b\b\b\b\b\b\b\b\b\b\b\b\b\b\b\b\b\b\b\b\b\b\b\r30/96 [========>.....................] - ETA: 227s - loss: 0.5409 - acc: 0.7667"
     ]
    },
    {
     "name": "stdout",
     "output_type": "stream",
     "text": [
      "\b\b\b\b\b\b\b\b\b\b\b\b\b\b\b\b\b\b\b\b\b\b\b\b\b\b\b\b\b\b\b\b\b\b\b\b\b\b\b\b\b\b\b\b\b\b\b\b\b\b\b\b\b\b\b\b\b\b\b\b\b\b\b\b\b\b\b\b\b\b\b\b\b\b\b\b\b\b\b\r40/96 [===========>..................] - ETA: 187s - loss: 0.5032 - acc: 0.8000"
     ]
    },
    {
     "name": "stdout",
     "output_type": "stream",
     "text": [
      "\b\b\b\b\b\b\b\b\b\b\b\b\b\b\b\b\b\b\b\b\b\b\b\b\b\b\b\b\b\b\b\b\b\b\b\b\b\b\b\b\b\b\b\b\b\b\b\b\b\b\b\b\b\b\b\b\b\b\b\b\b\b\b\b\b\b\b\b\b\b\b\b\b\b\b\b\b\b\b\r50/96 [==============>...............] - ETA: 159s - loss: 0.4975 - acc: 0.8000"
     ]
    },
    {
     "name": "stdout",
     "output_type": "stream",
     "text": [
      "\b\b\b\b\b\b\b\b\b\b\b\b\b\b\b\b\b\b\b\b\b\b\b\b\b\b\b\b\b\b\b\b\b\b\b\b\b\b\b\b\b\b\b\b\b\b\b\b\b\b\b\b\b\b\b\b\b\b\b\b\b\b\b\b\b\b\b\b\b\b\b\b\b\b\b\b\b\b\b\r60/96 [=================>............] - ETA: 118s - loss: 0.5089 - acc: 0.7833"
     ]
    },
    {
     "name": "stdout",
     "output_type": "stream",
     "text": [
      "\b\b\b\b\b\b\b\b\b\b\b\b\b\b\b\b\b\b\b\b\b\b\b\b\b\b\b\b\b\b\b\b\b\b\b\b\b\b\b\b\b\b\b\b\b\b\b\b\b\b\b\b\b\b\b\b\b\b\b\b\b\b\b\b\b\b\b\b\b\b\b\b\b\b\b\b\b\b\b\r70/96 [====================>.........] - ETA: 83s - loss: 0.4854 - acc: 0.8143 "
     ]
    },
    {
     "name": "stdout",
     "output_type": "stream",
     "text": [
      "\b\b\b\b\b\b\b\b\b\b\b\b\b\b\b\b\b\b\b\b\b\b\b\b\b\b\b\b\b\b\b\b\b\b\b\b\b\b\b\b\b\b\b\b\b\b\b\b\b\b\b\b\b\b\b\b\b\b\b\b\b\b\b\b\b\b\b\b\b\b\b\b\b\b\b\b\b\b\r80/96 [========================>.....] - ETA: 53s - loss: 0.4845 - acc: 0.8125"
     ]
    },
    {
     "name": "stdout",
     "output_type": "stream",
     "text": [
      "\b\b\b\b\b\b\b\b\b\b\b\b\b\b\b\b\b\b\b\b\b\b\b\b\b\b\b\b\b\b\b\b\b\b\b\b\b\b\b\b\b\b\b\b\b\b\b\b\b\b\b\b\b\b\b\b\b\b\b\b\b\b\b\b\b\b\b\b\b\b\b\b\b\b\b\b\b\b\r90/96 [===========================>..] - ETA: 19s - loss: 0.4713 - acc: 0.8222"
     ]
    },
    {
     "name": "stdout",
     "output_type": "stream",
     "text": [
      "\b\b\b\b\b\b\b\b\b\b\b\b\b\b\b\b\b\b\b\b\b\b\b\b\b\b\b\b\b\b\b\b\b\b\b\b\b\b\b\b\b\b\b\b\b\b\b\b\b\b\b\b\b\b\b\b\b\b\b\b\b\b\b\b\b\b\b\b\b\b\b\b\b\b\b\b\b\b\r96/96 [==============================] - 311s - loss: 0.4552 - acc: 0.8333    "
     ]
    },
    {
     "name": "stdout",
     "output_type": "stream",
     "text": [
      "\nEpoch 17/20\n"
     ]
    },
    {
     "name": "stdout",
     "output_type": "stream",
     "text": [
      "\r10/96 [==>...........................] - ETA: 169s - loss: 0.4535 - acc: 0.8000"
     ]
    },
    {
     "name": "stdout",
     "output_type": "stream",
     "text": [
      "\b\b\b\b\b\b\b\b\b\b\b\b\b\b\b\b\b\b\b\b\b\b\b\b\b\b\b\b\b\b\b\b\b\b\b\b\b\b\b\b\b\b\b\b\b\b\b\b\b\b\b\b\b\b\b\b\b\b\b\b\b\b\b\b\b\b\b\b\b\b\b\b\b\b\b\b\b\b\b\r20/96 [=====>........................] - ETA: 148s - loss: 0.4271 - acc: 0.8500"
     ]
    },
    {
     "name": "stdout",
     "output_type": "stream",
     "text": [
      "\b\b\b\b\b\b\b\b\b\b\b\b\b\b\b\b\b\b\b\b\b\b\b\b\b\b\b\b\b\b\b\b\b\b\b\b\b\b\b\b\b\b\b\b\b\b\b\b\b\b\b\b\b\b\b\b\b\b\b\b\b\b\b\b\b\b\b\b\b\b\b\b\b\b\b\b\b\b\b\r30/96 [========>.....................] - ETA: 123s - loss: 0.3994 - acc: 0.8667"
     ]
    },
    {
     "name": "stdout",
     "output_type": "stream",
     "text": [
      "\b\b\b\b\b\b\b\b\b\b\b\b\b\b\b\b\b\b\b\b\b\b\b\b\b\b\b\b\b\b\b\b\b\b\b\b\b\b\b\b\b\b\b\b\b\b\b\b\b\b\b\b\b\b\b\b\b\b\b\b\b\b\b\b\b\b\b\b\b\b\b\b\b\b\b\b\b\b\b\r40/96 [===========>..................] - ETA: 111s - loss: 0.5447 - acc: 0.8000"
     ]
    },
    {
     "name": "stdout",
     "output_type": "stream",
     "text": [
      "\b\b\b\b\b\b\b\b\b\b\b\b\b\b\b\b\b\b\b\b\b\b\b\b\b\b\b\b\b\b\b\b\b\b\b\b\b\b\b\b\b\b\b\b\b\b\b\b\b\b\b\b\b\b\b\b\b\b\b\b\b\b\b\b\b\b\b\b\b\b\b\b\b\b\b\b\b\b\b\r50/96 [==============>...............] - ETA: 90s - loss: 0.4814 - acc: 0.8200 "
     ]
    },
    {
     "name": "stdout",
     "output_type": "stream",
     "text": [
      "\b\b\b\b\b\b\b\b\b\b\b\b\b\b\b\b\b\b\b\b\b\b\b\b\b\b\b\b\b\b\b\b\b\b\b\b\b\b\b\b\b\b\b\b\b\b\b\b\b\b\b\b\b\b\b\b\b\b\b\b\b\b\b\b\b\b\b\b\b\b\b\b\b\b\b\b\b\b\r60/96 [=================>............] - ETA: 69s - loss: 0.4180 - acc: 0.8500"
     ]
    },
    {
     "name": "stdout",
     "output_type": "stream",
     "text": [
      "\b\b\b\b\b\b\b\b\b\b\b\b\b\b\b\b\b\b\b\b\b\b\b\b\b\b\b\b\b\b\b\b\b\b\b\b\b\b\b\b\b\b\b\b\b\b\b\b\b\b\b\b\b\b\b\b\b\b\b\b\b\b\b\b\b\b\b\b\b\b\b\b\b\b\b\b\b\b\r70/96 [====================>.........] - ETA: 57s - loss: 0.4378 - acc: 0.8429"
     ]
    },
    {
     "name": "stdout",
     "output_type": "stream",
     "text": [
      "\b\b\b\b\b\b\b\b\b\b\b\b\b\b\b\b\b\b\b\b\b\b\b\b\b\b\b\b\b\b\b\b\b\b\b\b\b\b\b\b\b\b\b\b\b\b\b\b\b\b\b\b\b\b\b\b\b\b\b\b\b\b\b\b\b\b\b\b\b\b\b\b\b\b\b\b\b\b\r80/96 [========================>.....] - ETA: 35s - loss: 0.4445 - acc: 0.8375"
     ]
    },
    {
     "name": "stdout",
     "output_type": "stream",
     "text": [
      "\b\b\b\b\b\b\b\b\b\b\b\b\b\b\b\b\b\b\b\b\b\b\b\b\b\b\b\b\b\b\b\b\b\b\b\b\b\b\b\b\b\b\b\b\b\b\b\b\b\b\b\b\b\b\b\b\b\b\b\b\b\b\b\b\b\b\b\b\b\b\b\b\b\b\b\b\b\b\r90/96 [===========================>..] - ETA: 13s - loss: 0.4675 - acc: 0.8333"
     ]
    },
    {
     "name": "stdout",
     "output_type": "stream",
     "text": [
      "\b\b\b\b\b\b\b\b\b\b\b\b\b\b\b\b\b\b\b\b\b\b\b\b\b\b\b\b\b\b\b\b\b\b\b\b\b\b\b\b\b\b\b\b\b\b\b\b\b\b\b\b\b\b\b\b\b\b\b\b\b\b\b\b\b\b\b\b\b\b\b\b\b\b\b\b\b\b\r96/96 [==============================] - 217s - loss: 0.4584 - acc: 0.8333    "
     ]
    },
    {
     "name": "stdout",
     "output_type": "stream",
     "text": [
      "\nEpoch 18/20\n"
     ]
    },
    {
     "name": "stdout",
     "output_type": "stream",
     "text": [
      "\r10/96 [==>...........................] - ETA: 161s - loss: 0.2135 - acc: 1.0000"
     ]
    },
    {
     "name": "stdout",
     "output_type": "stream",
     "text": [
      "\b\b\b\b\b\b\b\b\b\b\b\b\b\b\b\b\b\b\b\b\b\b\b\b\b\b\b\b\b\b\b\b\b\b\b\b\b\b\b\b\b\b\b\b\b\b\b\b\b\b\b\b\b\b\b\b\b\b\b\b\b\b\b\b\b\b\b\b\b\b\b\b\b\b\b\b\b\b\b\r20/96 [=====>........................] - ETA: 164s - loss: 0.3309 - acc: 0.9000"
     ]
    },
    {
     "name": "stdout",
     "output_type": "stream",
     "text": [
      "\b\b\b\b\b\b\b\b\b\b\b\b\b\b\b\b\b\b\b\b\b\b\b\b\b\b\b\b\b\b\b\b\b\b\b\b\b\b\b\b\b\b\b\b\b\b\b\b\b\b\b\b\b\b\b\b\b\b\b\b\b\b\b\b\b\b\b\b\b\b\b\b\b\b\b\b\b\b\b\r30/96 [========>.....................] - ETA: 144s - loss: 0.4554 - acc: 0.8333"
     ]
    },
    {
     "name": "stdout",
     "output_type": "stream",
     "text": [
      "\b\b\b\b\b\b\b\b\b\b\b\b\b\b\b\b\b\b\b\b\b\b\b\b\b\b\b\b\b\b\b\b\b\b\b\b\b\b\b\b\b\b\b\b\b\b\b\b\b\b\b\b\b\b\b\b\b\b\b\b\b\b\b\b\b\b\b\b\b\b\b\b\b\b\b\b\b\b\b\r40/96 [===========>..................] - ETA: 123s - loss: 0.4720 - acc: 0.8250"
     ]
    },
    {
     "name": "stdout",
     "output_type": "stream",
     "text": [
      "\b\b\b\b\b\b\b\b\b\b\b\b\b\b\b\b\b\b\b\b\b\b\b\b\b\b\b\b\b\b\b\b\b\b\b\b\b\b\b\b\b\b\b\b\b\b\b\b\b\b\b\b\b\b\b\b\b\b\b\b\b\b\b\b\b\b\b\b\b\b\b\b\b\b\b\b\b\b\b\r50/96 [==============>...............] - ETA: 102s - loss: 0.4466 - acc: 0.8400"
     ]
    },
    {
     "name": "stdout",
     "output_type": "stream",
     "text": [
      "\b\b\b\b\b\b\b\b\b\b\b\b\b\b\b\b\b\b\b\b\b\b\b\b\b\b\b\b\b\b\b\b\b\b\b\b\b\b\b\b\b\b\b\b\b\b\b\b\b\b\b\b\b\b\b\b\b\b\b\b\b\b\b\b\b\b\b\b\b\b\b\b\b\b\b\b\b\b\b\r60/96 [=================>............] - ETA: 80s - loss: 0.4311 - acc: 0.8500 "
     ]
    },
    {
     "name": "stdout",
     "output_type": "stream",
     "text": [
      "\b\b\b\b\b\b\b\b\b\b\b\b\b\b\b\b\b\b\b\b\b\b\b\b\b\b\b\b\b\b\b\b\b\b\b\b\b\b\b\b\b\b\b\b\b\b\b\b\b\b\b\b\b\b\b\b\b\b\b\b\b\b\b\b\b\b\b\b\b\b\b\b\b\b\b\b\b\b\r70/96 [====================>.........] - ETA: 56s - loss: 0.4585 - acc: 0.8286"
     ]
    },
    {
     "name": "stdout",
     "output_type": "stream",
     "text": [
      "\b\b\b\b\b\b\b\b\b\b\b\b\b\b\b\b\b\b\b\b\b\b\b\b\b\b\b\b\b\b\b\b\b\b\b\b\b\b\b\b\b\b\b\b\b\b\b\b\b\b\b\b\b\b\b\b\b\b\b\b\b\b\b\b\b\b\b\b\b\b\b\b\b\b\b\b\b\b\r80/96 [========================>.....] - ETA: 34s - loss: 0.4329 - acc: 0.8500"
     ]
    },
    {
     "name": "stdout",
     "output_type": "stream",
     "text": [
      "\b\b\b\b\b\b\b\b\b\b\b\b\b\b\b\b\b\b\b\b\b\b\b\b\b\b\b\b\b\b\b\b\b\b\b\b\b\b\b\b\b\b\b\b\b\b\b\b\b\b\b\b\b\b\b\b\b\b\b\b\b\b\b\b\b\b\b\b\b\b\b\b\b\b\b\b\b\b\r90/96 [===========================>..] - ETA: 13s - loss: 0.4418 - acc: 0.8444"
     ]
    },
    {
     "name": "stdout",
     "output_type": "stream",
     "text": [
      "\b\b\b\b\b\b\b\b\b\b\b\b\b\b\b\b\b\b\b\b\b\b\b\b\b\b\b\b\b\b\b\b\b\b\b\b\b\b\b\b\b\b\b\b\b\b\b\b\b\b\b\b\b\b\b\b\b\b\b\b\b\b\b\b\b\b\b\b\b\b\b\b\b\b\b\b\b\b\r96/96 [==============================] - 210s - loss: 0.4512 - acc: 0.8333    "
     ]
    },
    {
     "name": "stdout",
     "output_type": "stream",
     "text": [
      "\nEpoch 19/20\n"
     ]
    },
    {
     "name": "stdout",
     "output_type": "stream",
     "text": [
      "\r10/96 [==>...........................] - ETA: 190s - loss: 0.3708 - acc: 0.9000"
     ]
    },
    {
     "name": "stdout",
     "output_type": "stream",
     "text": [
      "\b\b\b\b\b\b\b\b\b\b\b\b\b\b\b\b\b\b\b\b\b\b\b\b\b\b\b\b\b\b\b\b\b\b\b\b\b\b\b\b\b\b\b\b\b\b\b\b\b\b\b\b\b\b\b\b\b\b\b\b\b\b\b\b\b\b\b\b\b\b\b\b\b\b\b\b\b\b\b\r20/96 [=====>........................] - ETA: 169s - loss: 0.3615 - acc: 0.9000"
     ]
    },
    {
     "name": "stdout",
     "output_type": "stream",
     "text": [
      "\b\b\b\b\b\b\b\b\b\b\b\b\b\b\b\b\b\b\b\b\b\b\b\b\b\b\b\b\b\b\b\b\b\b\b\b\b\b\b\b\b\b\b\b\b\b\b\b\b\b\b\b\b\b\b\b\b\b\b\b\b\b\b\b\b\b\b\b\b\b\b\b\b\b\b\b\b\b\b\r30/96 [========>.....................] - ETA: 154s - loss: 0.3405 - acc: 0.9000"
     ]
    },
    {
     "name": "stdout",
     "output_type": "stream",
     "text": [
      "\b\b\b\b\b\b\b\b\b\b\b\b\b\b\b\b\b\b\b\b\b\b\b\b\b\b\b\b\b\b\b\b\b\b\b\b\b\b\b\b\b\b\b\b\b\b\b\b\b\b\b\b\b\b\b\b\b\b\b\b\b\b\b\b\b\b\b\b\b\b\b\b\b\b\b\b\b\b\b\r40/96 [===========>..................] - ETA: 130s - loss: 0.3744 - acc: 0.8750"
     ]
    },
    {
     "name": "stdout",
     "output_type": "stream",
     "text": [
      "\b\b\b\b\b\b\b\b\b\b\b\b\b\b\b\b\b\b\b\b\b\b\b\b\b\b\b\b\b\b\b\b\b\b\b\b\b\b\b\b\b\b\b\b\b\b\b\b\b\b\b\b\b\b\b\b\b\b\b\b\b\b\b\b\b\b\b\b\b\b\b\b\b\b\b\b\b\b\b\r50/96 [==============>...............] - ETA: 103s - loss: 0.3685 - acc: 0.8800"
     ]
    },
    {
     "name": "stdout",
     "output_type": "stream",
     "text": [
      "\b\b\b\b\b\b\b\b\b\b\b\b\b\b\b\b\b\b\b\b\b\b\b\b\b\b\b\b\b\b\b\b\b\b\b\b\b\b\b\b\b\b\b\b\b\b\b\b\b\b\b\b\b\b\b\b\b\b\b\b\b\b\b\b\b\b\b\b\b\b\b\b\b\b\b\b\b\b\b\r60/96 [=================>............] - ETA: 84s - loss: 0.3473 - acc: 0.8833 "
     ]
    },
    {
     "name": "stdout",
     "output_type": "stream",
     "text": [
      "\b\b\b\b\b\b\b\b\b\b\b\b\b\b\b\b\b\b\b\b\b\b\b\b\b\b\b\b\b\b\b\b\b\b\b\b\b\b\b\b\b\b\b\b\b\b\b\b\b\b\b\b\b\b\b\b\b\b\b\b\b\b\b\b\b\b\b\b\b\b\b\b\b\b\b\b\b\b\r70/96 [====================>.........] - ETA: 63s - loss: 0.3725 - acc: 0.8714"
     ]
    },
    {
     "name": "stdout",
     "output_type": "stream",
     "text": [
      "\b\b\b\b\b\b\b\b\b\b\b\b\b\b\b\b\b\b\b\b\b\b\b\b\b\b\b\b\b\b\b\b\b\b\b\b\b\b\b\b\b\b\b\b\b\b\b\b\b\b\b\b\b\b\b\b\b\b\b\b\b\b\b\b\b\b\b\b\b\b\b\b\b\b\b\b\b\b\r80/96 [========================>.....] - ETA: 41s - loss: 0.4053 - acc: 0.8500"
     ]
    },
    {
     "name": "stdout",
     "output_type": "stream",
     "text": [
      "\b\b\b\b\b\b\b\b\b\b\b\b\b\b\b\b\b\b\b\b\b\b\b\b\b\b\b\b\b\b\b\b\b\b\b\b\b\b\b\b\b\b\b\b\b\b\b\b\b\b\b\b\b\b\b\b\b\b\b\b\b\b\b\b\b\b\b\b\b\b\b\b\b\b\b\b\b\b\r90/96 [===========================>..] - ETA: 15s - loss: 0.4161 - acc: 0.8444"
     ]
    },
    {
     "name": "stdout",
     "output_type": "stream",
     "text": [
      "\b\b\b\b\b\b\b\b\b\b\b\b\b\b\b\b\b\b\b\b\b\b\b\b\b\b\b\b\b\b\b\b\b\b\b\b\b\b\b\b\b\b\b\b\b\b\b\b\b\b\b\b\b\b\b\b\b\b\b\b\b\b\b\b\b\b\b\b\b\b\b\b\b\b\b\b\b\b\r96/96 [==============================] - 253s - loss: 0.4300 - acc: 0.8333    "
     ]
    },
    {
     "name": "stdout",
     "output_type": "stream",
     "text": [
      "\nEpoch 20/20\n"
     ]
    },
    {
     "name": "stdout",
     "output_type": "stream",
     "text": [
      "\r10/96 [==>...........................] - ETA: 203s - loss: 0.6384 - acc: 0.7000"
     ]
    },
    {
     "name": "stdout",
     "output_type": "stream",
     "text": [
      "\b\b\b\b\b\b\b\b\b\b\b\b\b\b\b\b\b\b\b\b\b\b\b\b\b\b\b\b\b\b\b\b\b\b\b\b\b\b\b\b\b\b\b\b\b\b\b\b\b\b\b\b\b\b\b\b\b\b\b\b\b\b\b\b\b\b\b\b\b\b\b\b\b\b\b\b\b\b\b\r20/96 [=====>........................] - ETA: 210s - loss: 0.4826 - acc: 0.8000"
     ]
    },
    {
     "name": "stdout",
     "output_type": "stream",
     "text": [
      "\b\b\b\b\b\b\b\b\b\b\b\b\b\b\b\b\b\b\b\b\b\b\b\b\b\b\b\b\b\b\b\b\b\b\b\b\b\b\b\b\b\b\b\b\b\b\b\b\b\b\b\b\b\b\b\b\b\b\b\b\b\b\b\b\b\b\b\b\b\b\b\b\b\b\b\b\b\b\b\r30/96 [========>.....................] - ETA: 208s - loss: 0.4993 - acc: 0.7667"
     ]
    },
    {
     "name": "stdout",
     "output_type": "stream",
     "text": [
      "\b\b\b\b\b\b\b\b\b\b\b\b\b\b\b\b\b\b\b\b\b\b\b\b\b\b\b\b\b\b\b\b\b\b\b\b\b\b\b\b\b\b\b\b\b\b\b\b\b\b\b\b\b\b\b\b\b\b\b\b\b\b\b\b\b\b\b\b\b\b\b\b\b\b\b\b\b\b\b\r40/96 [===========>..................] - ETA: 169s - loss: 0.4836 - acc: 0.8000"
     ]
    },
    {
     "name": "stdout",
     "output_type": "stream",
     "text": [
      "\b\b\b\b\b\b\b\b\b\b\b\b\b\b\b\b\b\b\b\b\b\b\b\b\b\b\b\b\b\b\b\b\b\b\b\b\b\b\b\b\b\b\b\b\b\b\b\b\b\b\b\b\b\b\b\b\b\b\b\b\b\b\b\b\b\b\b\b\b\b\b\b\b\b\b\b\b\b\b\r50/96 [==============>...............] - ETA: 131s - loss: 0.4753 - acc: 0.8000"
     ]
    },
    {
     "name": "stdout",
     "output_type": "stream",
     "text": [
      "\b\b\b\b\b\b\b\b\b\b\b\b\b\b\b\b\b\b\b\b\b\b\b\b\b\b\b\b\b\b\b\b\b\b\b\b\b\b\b\b\b\b\b\b\b\b\b\b\b\b\b\b\b\b\b\b\b\b\b\b\b\b\b\b\b\b\b\b\b\b\b\b\b\b\b\b\b\b\b\r60/96 [=================>............] - ETA: 103s - loss: 0.4896 - acc: 0.7833"
     ]
    },
    {
     "name": "stdout",
     "output_type": "stream",
     "text": [
      "\b\b\b\b\b\b\b\b\b\b\b\b\b\b\b\b\b\b\b\b\b\b\b\b\b\b\b\b\b\b\b\b\b\b\b\b\b\b\b\b\b\b\b\b\b\b\b\b\b\b\b\b\b\b\b\b\b\b\b\b\b\b\b\b\b\b\b\b\b\b\b\b\b\b\b\b\b\b\b\r70/96 [====================>.........] - ETA: 73s - loss: 0.4752 - acc: 0.8000 "
     ]
    },
    {
     "name": "stdout",
     "output_type": "stream",
     "text": [
      "\b\b\b\b\b\b\b\b\b\b\b\b\b\b\b\b\b\b\b\b\b\b\b\b\b\b\b\b\b\b\b\b\b\b\b\b\b\b\b\b\b\b\b\b\b\b\b\b\b\b\b\b\b\b\b\b\b\b\b\b\b\b\b\b\b\b\b\b\b\b\b\b\b\b\b\b\b\b\r80/96 [========================>.....] - ETA: 44s - loss: 0.4407 - acc: 0.8250"
     ]
    },
    {
     "name": "stdout",
     "output_type": "stream",
     "text": [
      "\b\b\b\b\b\b\b\b\b\b\b\b\b\b\b\b\b\b\b\b\b\b\b\b\b\b\b\b\b\b\b\b\b\b\b\b\b\b\b\b\b\b\b\b\b\b\b\b\b\b\b\b\b\b\b\b\b\b\b\b\b\b\b\b\b\b\b\b\b\b\b\b\b\b\b\b\b\b\r90/96 [===========================>..] - ETA: 17s - loss: 0.4401 - acc: 0.8222"
     ]
    },
    {
     "name": "stdout",
     "output_type": "stream",
     "text": [
      "\b\b\b\b\b\b\b\b\b\b\b\b\b\b\b\b\b\b\b\b\b\b\b\b\b\b\b\b\b\b\b\b\b\b\b\b\b\b\b\b\b\b\b\b\b\b\b\b\b\b\b\b\b\b\b\b\b\b\b\b\b\b\b\b\b\b\b\b\b\b\b\b\b\b\b\b\b\b\r96/96 [==============================] - 284s - loss: 0.4223 - acc: 0.8333    "
     ]
    },
    {
     "name": "stdout",
     "output_type": "stream",
     "text": [
      "\n"
     ]
    },
    {
     "data": {
      "text/plain": [
       "<keras.callbacks.History at 0x117397ba8>"
      ]
     },
     "execution_count": 51,
     "metadata": {},
     "output_type": "execute_result"
    }
   ],
   "source": [
    "classifier.fit(x_train, y_train, batch_size=10, epochs=20)"
   ]
  },
  {
   "cell_type": "markdown",
   "metadata": {},
   "source": [
    "Predict the test set results"
   ]
  },
  {
   "cell_type": "code",
   "execution_count": 52,
   "metadata": {},
   "outputs": [],
   "source": [
    "y_pred = classifier.predict(x_test)\n",
    "y_pred = (y_pred > 0.5)"
   ]
  },
  {
   "cell_type": "markdown",
   "metadata": {},
   "source": [
    "Make a confusion matrix to evaluate the model's performance on the test set. In the upper left quadrant, we have 22 correct 'no' predictions, 2 incorrect 'no' predictions (false negatives), 0 correct 'yes' predictions, and 0 incorrect 'yes' predictions (false positives)"
   ]
  },
  {
   "cell_type": "code",
   "execution_count": 53,
   "metadata": {},
   "outputs": [
    {
     "data": {
      "text/plain": [
       "array([[22,  0],\n       [ 2,  0]])"
      ]
     },
     "execution_count": 53,
     "metadata": {},
     "output_type": "execute_result"
    }
   ],
   "source": [
    "from sklearn.metrics import confusion_matrix\n",
    "cm = confusion_matrix(y_test, y_pred)\n",
    "cm"
   ]
  },
  {
   "cell_type": "markdown",
   "metadata": {},
   "source": [
    "In another file we will look at trying different parameters to tune and improve the model (TSA_tune.py)"
   ]
  }
 ],
 "metadata": {
  "kernelspec": {
   "display_name": "Python 2",
   "language": "python",
   "name": "python2"
  },
  "language_info": {
   "codemirror_mode": {
    "name": "ipython",
    "version": 2
   },
   "file_extension": ".py",
   "mimetype": "text/x-python",
   "name": "python",
   "nbconvert_exporter": "python",
   "pygments_lexer": "ipython2",
   "version": "2.7.6"
  }
 },
 "nbformat": 4,
 "nbformat_minor": 0
}
